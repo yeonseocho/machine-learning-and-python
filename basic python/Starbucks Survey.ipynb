{
 "cells": [
  {
   "cell_type": "code",
   "execution_count": 1,
   "metadata": {
    "collapsed": true
   },
   "outputs": [],
   "source": [
    "import pandas as pd\n",
    "import numpy as np\n",
    "import matplotlib.pyplot as plt\n",
    "import seaborn as sns"
   ]
  },
  {
   "cell_type": "code",
   "execution_count": 3,
   "outputs": [],
   "source": [
    "trascript=pd.read_csv('../data/archieve/transcript.csv')\n",
    "profile=pd.read_csv('../data/archieve/profile.csv')\n",
    "portfolio=pd.read_csv('../data/archieve/portfolio.csv')"
   ],
   "metadata": {
    "collapsed": false,
    "pycharm": {
     "name": "#%%\n"
    }
   }
  },
  {
   "cell_type": "code",
   "execution_count": 5,
   "outputs": [
    {
     "data": {
      "text/plain": "                                  person           event  \\\n0       78afa995795e4d85b5d9ceeca43f5fef  offer received   \n1       a03223e636434f42ac4c3df47e8bac43  offer received   \n2       e2127556f4f64592b11af22de27a7932  offer received   \n3       8ec6ce2a7e7949b1bf142def7d0e0586  offer received   \n4       68617ca6246f4fbc85e91a2a49552598  offer received   \n...                                  ...             ...   \n306529  b3a1272bc9904337b331bf348c3e8c17     transaction   \n306530  68213b08d99a4ae1b0dcb72aebd9aa35     transaction   \n306531  a00058cf10334a308c68e7631c529907     transaction   \n306532  76ddbd6576844afe811f1a3c0fbb5bec     transaction   \n306533  c02b10e8752c4d8e9b73f918558531f7     transaction   \n\n                                                   value  time  \n0       {'offer id': '9b98b8c7a33c4b65b9aebfe6a799e6d9'}     0  \n1       {'offer id': '0b1e1539f2cc45b7b9fa7c272da2e1d7'}     0  \n2       {'offer id': '2906b810c7d4411798c6938adc9daaa5'}     0  \n3       {'offer id': 'fafdcd668e3743c1bb461111dcafc2a4'}     0  \n4       {'offer id': '4d5c57ea9a6940dd891ad53e9dbe8da0'}     0  \n...                                                  ...   ...  \n306529                    {'amount': 1.5899999999999999}   714  \n306530                                  {'amount': 9.53}   714  \n306531                                  {'amount': 3.61}   714  \n306532                    {'amount': 3.5300000000000002}   714  \n306533                                  {'amount': 4.05}   714  \n\n[306534 rows x 4 columns]",
      "text/html": "<div>\n<style scoped>\n    .dataframe tbody tr th:only-of-type {\n        vertical-align: middle;\n    }\n\n    .dataframe tbody tr th {\n        vertical-align: top;\n    }\n\n    .dataframe thead th {\n        text-align: right;\n    }\n</style>\n<table border=\"1\" class=\"dataframe\">\n  <thead>\n    <tr style=\"text-align: right;\">\n      <th></th>\n      <th>person</th>\n      <th>event</th>\n      <th>value</th>\n      <th>time</th>\n    </tr>\n  </thead>\n  <tbody>\n    <tr>\n      <th>0</th>\n      <td>78afa995795e4d85b5d9ceeca43f5fef</td>\n      <td>offer received</td>\n      <td>{'offer id': '9b98b8c7a33c4b65b9aebfe6a799e6d9'}</td>\n      <td>0</td>\n    </tr>\n    <tr>\n      <th>1</th>\n      <td>a03223e636434f42ac4c3df47e8bac43</td>\n      <td>offer received</td>\n      <td>{'offer id': '0b1e1539f2cc45b7b9fa7c272da2e1d7'}</td>\n      <td>0</td>\n    </tr>\n    <tr>\n      <th>2</th>\n      <td>e2127556f4f64592b11af22de27a7932</td>\n      <td>offer received</td>\n      <td>{'offer id': '2906b810c7d4411798c6938adc9daaa5'}</td>\n      <td>0</td>\n    </tr>\n    <tr>\n      <th>3</th>\n      <td>8ec6ce2a7e7949b1bf142def7d0e0586</td>\n      <td>offer received</td>\n      <td>{'offer id': 'fafdcd668e3743c1bb461111dcafc2a4'}</td>\n      <td>0</td>\n    </tr>\n    <tr>\n      <th>4</th>\n      <td>68617ca6246f4fbc85e91a2a49552598</td>\n      <td>offer received</td>\n      <td>{'offer id': '4d5c57ea9a6940dd891ad53e9dbe8da0'}</td>\n      <td>0</td>\n    </tr>\n    <tr>\n      <th>...</th>\n      <td>...</td>\n      <td>...</td>\n      <td>...</td>\n      <td>...</td>\n    </tr>\n    <tr>\n      <th>306529</th>\n      <td>b3a1272bc9904337b331bf348c3e8c17</td>\n      <td>transaction</td>\n      <td>{'amount': 1.5899999999999999}</td>\n      <td>714</td>\n    </tr>\n    <tr>\n      <th>306530</th>\n      <td>68213b08d99a4ae1b0dcb72aebd9aa35</td>\n      <td>transaction</td>\n      <td>{'amount': 9.53}</td>\n      <td>714</td>\n    </tr>\n    <tr>\n      <th>306531</th>\n      <td>a00058cf10334a308c68e7631c529907</td>\n      <td>transaction</td>\n      <td>{'amount': 3.61}</td>\n      <td>714</td>\n    </tr>\n    <tr>\n      <th>306532</th>\n      <td>76ddbd6576844afe811f1a3c0fbb5bec</td>\n      <td>transaction</td>\n      <td>{'amount': 3.5300000000000002}</td>\n      <td>714</td>\n    </tr>\n    <tr>\n      <th>306533</th>\n      <td>c02b10e8752c4d8e9b73f918558531f7</td>\n      <td>transaction</td>\n      <td>{'amount': 4.05}</td>\n      <td>714</td>\n    </tr>\n  </tbody>\n</table>\n<p>306534 rows × 4 columns</p>\n</div>"
     },
     "execution_count": 5,
     "metadata": {},
     "output_type": "execute_result"
    }
   ],
   "source": [
    "trascript.drop(columns=['Unnamed: 0'])"
   ],
   "metadata": {
    "collapsed": false,
    "pycharm": {
     "name": "#%%\n"
    }
   }
  },
  {
   "cell_type": "code",
   "execution_count": 6,
   "outputs": [
    {
     "data": {
      "text/plain": "      gender  age                                id  became_member_on  \\\n0        NaN  118  68be06ca386d4c31939f3a4f0e3dd783          20170212   \n1          F   55  0610b486422d4921ae7d2bf64640c50b          20170715   \n2        NaN  118  38fe809add3b4fcf9315a9694bb96ff5          20180712   \n3          F   75  78afa995795e4d85b5d9ceeca43f5fef          20170509   \n4        NaN  118  a03223e636434f42ac4c3df47e8bac43          20170804   \n...      ...  ...                               ...               ...   \n16995      F   45  6d5f3a774f3d4714ab0c092238f3a1d7          20180604   \n16996      M   61  2cb4f97358b841b9a9773a7aa05a9d77          20180713   \n16997      M   49  01d26f638c274aa0b965d24cefe3183f          20170126   \n16998      F   83  9dc1421481194dcd9400aec7c9ae6366          20160307   \n16999      F   62  e4052622e5ba45a8b96b59aba68cf068          20170722   \n\n         income  \n0           NaN  \n1      112000.0  \n2           NaN  \n3      100000.0  \n4           NaN  \n...         ...  \n16995   54000.0  \n16996   72000.0  \n16997   73000.0  \n16998   50000.0  \n16999   82000.0  \n\n[17000 rows x 5 columns]",
      "text/html": "<div>\n<style scoped>\n    .dataframe tbody tr th:only-of-type {\n        vertical-align: middle;\n    }\n\n    .dataframe tbody tr th {\n        vertical-align: top;\n    }\n\n    .dataframe thead th {\n        text-align: right;\n    }\n</style>\n<table border=\"1\" class=\"dataframe\">\n  <thead>\n    <tr style=\"text-align: right;\">\n      <th></th>\n      <th>gender</th>\n      <th>age</th>\n      <th>id</th>\n      <th>became_member_on</th>\n      <th>income</th>\n    </tr>\n  </thead>\n  <tbody>\n    <tr>\n      <th>0</th>\n      <td>NaN</td>\n      <td>118</td>\n      <td>68be06ca386d4c31939f3a4f0e3dd783</td>\n      <td>20170212</td>\n      <td>NaN</td>\n    </tr>\n    <tr>\n      <th>1</th>\n      <td>F</td>\n      <td>55</td>\n      <td>0610b486422d4921ae7d2bf64640c50b</td>\n      <td>20170715</td>\n      <td>112000.0</td>\n    </tr>\n    <tr>\n      <th>2</th>\n      <td>NaN</td>\n      <td>118</td>\n      <td>38fe809add3b4fcf9315a9694bb96ff5</td>\n      <td>20180712</td>\n      <td>NaN</td>\n    </tr>\n    <tr>\n      <th>3</th>\n      <td>F</td>\n      <td>75</td>\n      <td>78afa995795e4d85b5d9ceeca43f5fef</td>\n      <td>20170509</td>\n      <td>100000.0</td>\n    </tr>\n    <tr>\n      <th>4</th>\n      <td>NaN</td>\n      <td>118</td>\n      <td>a03223e636434f42ac4c3df47e8bac43</td>\n      <td>20170804</td>\n      <td>NaN</td>\n    </tr>\n    <tr>\n      <th>...</th>\n      <td>...</td>\n      <td>...</td>\n      <td>...</td>\n      <td>...</td>\n      <td>...</td>\n    </tr>\n    <tr>\n      <th>16995</th>\n      <td>F</td>\n      <td>45</td>\n      <td>6d5f3a774f3d4714ab0c092238f3a1d7</td>\n      <td>20180604</td>\n      <td>54000.0</td>\n    </tr>\n    <tr>\n      <th>16996</th>\n      <td>M</td>\n      <td>61</td>\n      <td>2cb4f97358b841b9a9773a7aa05a9d77</td>\n      <td>20180713</td>\n      <td>72000.0</td>\n    </tr>\n    <tr>\n      <th>16997</th>\n      <td>M</td>\n      <td>49</td>\n      <td>01d26f638c274aa0b965d24cefe3183f</td>\n      <td>20170126</td>\n      <td>73000.0</td>\n    </tr>\n    <tr>\n      <th>16998</th>\n      <td>F</td>\n      <td>83</td>\n      <td>9dc1421481194dcd9400aec7c9ae6366</td>\n      <td>20160307</td>\n      <td>50000.0</td>\n    </tr>\n    <tr>\n      <th>16999</th>\n      <td>F</td>\n      <td>62</td>\n      <td>e4052622e5ba45a8b96b59aba68cf068</td>\n      <td>20170722</td>\n      <td>82000.0</td>\n    </tr>\n  </tbody>\n</table>\n<p>17000 rows × 5 columns</p>\n</div>"
     },
     "execution_count": 6,
     "metadata": {},
     "output_type": "execute_result"
    }
   ],
   "source": [
    "profile.drop(columns=['Unnamed: 0'])"
   ],
   "metadata": {
    "collapsed": false,
    "pycharm": {
     "name": "#%%\n"
    }
   }
  },
  {
   "cell_type": "code",
   "execution_count": 9,
   "outputs": [
    {
     "data": {
      "text/plain": "   reward                              channels  difficulty  duration  \\\n0      10         ['email', 'mobile', 'social']          10         7   \n1      10  ['web', 'email', 'mobile', 'social']          10         5   \n2       0            ['web', 'email', 'mobile']           0         4   \n3       5            ['web', 'email', 'mobile']           5         7   \n4       5                      ['web', 'email']          20        10   \n5       3  ['web', 'email', 'mobile', 'social']           7         7   \n6       2  ['web', 'email', 'mobile', 'social']          10        10   \n7       0         ['email', 'mobile', 'social']           0         3   \n8       5  ['web', 'email', 'mobile', 'social']           5         5   \n9       2            ['web', 'email', 'mobile']          10         7   \n\n      offer_type                                id  \n0           bogo  ae264e3637204a6fb9bb56bc8210ddfd  \n1           bogo  4d5c57ea9a6940dd891ad53e9dbe8da0  \n2  informational  3f207df678b143eea3cee63160fa8bed  \n3           bogo  9b98b8c7a33c4b65b9aebfe6a799e6d9  \n4       discount  0b1e1539f2cc45b7b9fa7c272da2e1d7  \n5       discount  2298d6c36e964ae4a3e7e9706d1fb8c2  \n6       discount  fafdcd668e3743c1bb461111dcafc2a4  \n7  informational  5a8bc65990b245e5a138643cd4eb9837  \n8           bogo  f19421c1d4aa40978ebb69ca19b0e20d  \n9       discount  2906b810c7d4411798c6938adc9daaa5  ",
      "text/html": "<div>\n<style scoped>\n    .dataframe tbody tr th:only-of-type {\n        vertical-align: middle;\n    }\n\n    .dataframe tbody tr th {\n        vertical-align: top;\n    }\n\n    .dataframe thead th {\n        text-align: right;\n    }\n</style>\n<table border=\"1\" class=\"dataframe\">\n  <thead>\n    <tr style=\"text-align: right;\">\n      <th></th>\n      <th>reward</th>\n      <th>channels</th>\n      <th>difficulty</th>\n      <th>duration</th>\n      <th>offer_type</th>\n      <th>id</th>\n    </tr>\n  </thead>\n  <tbody>\n    <tr>\n      <th>0</th>\n      <td>10</td>\n      <td>['email', 'mobile', 'social']</td>\n      <td>10</td>\n      <td>7</td>\n      <td>bogo</td>\n      <td>ae264e3637204a6fb9bb56bc8210ddfd</td>\n    </tr>\n    <tr>\n      <th>1</th>\n      <td>10</td>\n      <td>['web', 'email', 'mobile', 'social']</td>\n      <td>10</td>\n      <td>5</td>\n      <td>bogo</td>\n      <td>4d5c57ea9a6940dd891ad53e9dbe8da0</td>\n    </tr>\n    <tr>\n      <th>2</th>\n      <td>0</td>\n      <td>['web', 'email', 'mobile']</td>\n      <td>0</td>\n      <td>4</td>\n      <td>informational</td>\n      <td>3f207df678b143eea3cee63160fa8bed</td>\n    </tr>\n    <tr>\n      <th>3</th>\n      <td>5</td>\n      <td>['web', 'email', 'mobile']</td>\n      <td>5</td>\n      <td>7</td>\n      <td>bogo</td>\n      <td>9b98b8c7a33c4b65b9aebfe6a799e6d9</td>\n    </tr>\n    <tr>\n      <th>4</th>\n      <td>5</td>\n      <td>['web', 'email']</td>\n      <td>20</td>\n      <td>10</td>\n      <td>discount</td>\n      <td>0b1e1539f2cc45b7b9fa7c272da2e1d7</td>\n    </tr>\n    <tr>\n      <th>5</th>\n      <td>3</td>\n      <td>['web', 'email', 'mobile', 'social']</td>\n      <td>7</td>\n      <td>7</td>\n      <td>discount</td>\n      <td>2298d6c36e964ae4a3e7e9706d1fb8c2</td>\n    </tr>\n    <tr>\n      <th>6</th>\n      <td>2</td>\n      <td>['web', 'email', 'mobile', 'social']</td>\n      <td>10</td>\n      <td>10</td>\n      <td>discount</td>\n      <td>fafdcd668e3743c1bb461111dcafc2a4</td>\n    </tr>\n    <tr>\n      <th>7</th>\n      <td>0</td>\n      <td>['email', 'mobile', 'social']</td>\n      <td>0</td>\n      <td>3</td>\n      <td>informational</td>\n      <td>5a8bc65990b245e5a138643cd4eb9837</td>\n    </tr>\n    <tr>\n      <th>8</th>\n      <td>5</td>\n      <td>['web', 'email', 'mobile', 'social']</td>\n      <td>5</td>\n      <td>5</td>\n      <td>bogo</td>\n      <td>f19421c1d4aa40978ebb69ca19b0e20d</td>\n    </tr>\n    <tr>\n      <th>9</th>\n      <td>2</td>\n      <td>['web', 'email', 'mobile']</td>\n      <td>10</td>\n      <td>7</td>\n      <td>discount</td>\n      <td>2906b810c7d4411798c6938adc9daaa5</td>\n    </tr>\n  </tbody>\n</table>\n</div>"
     },
     "execution_count": 9,
     "metadata": {},
     "output_type": "execute_result"
    }
   ],
   "source": [
    "portfolio.drop(columns=['Unnamed: 0'])"
   ],
   "metadata": {
    "collapsed": false,
    "pycharm": {
     "name": "#%%\n"
    }
   }
  },
  {
   "cell_type": "code",
   "execution_count": 10,
   "outputs": [
    {
     "name": "stdout",
     "output_type": "stream",
     "text": [
      "<class 'pandas.core.frame.DataFrame'>\n",
      "RangeIndex: 306534 entries, 0 to 306533\n",
      "Data columns (total 5 columns):\n",
      " #   Column      Non-Null Count   Dtype \n",
      "---  ------      --------------   ----- \n",
      " 0   Unnamed: 0  306534 non-null  int64 \n",
      " 1   person      306534 non-null  object\n",
      " 2   event       306534 non-null  object\n",
      " 3   value       306534 non-null  object\n",
      " 4   time        306534 non-null  int64 \n",
      "dtypes: int64(2), object(3)\n",
      "memory usage: 11.7+ MB\n"
     ]
    }
   ],
   "source": [
    "trascript.info(\n",
    ")"
   ],
   "metadata": {
    "collapsed": false,
    "pycharm": {
     "name": "#%%\n"
    }
   }
  },
  {
   "cell_type": "code",
   "execution_count": 12,
   "outputs": [
    {
     "name": "stdout",
     "output_type": "stream",
     "text": [
      "<class 'pandas.core.frame.DataFrame'>\n",
      "RangeIndex: 10 entries, 0 to 9\n",
      "Data columns (total 7 columns):\n",
      " #   Column      Non-Null Count  Dtype \n",
      "---  ------      --------------  ----- \n",
      " 0   Unnamed: 0  10 non-null     int64 \n",
      " 1   reward      10 non-null     int64 \n",
      " 2   channels    10 non-null     object\n",
      " 3   difficulty  10 non-null     int64 \n",
      " 4   duration    10 non-null     int64 \n",
      " 5   offer_type  10 non-null     object\n",
      " 6   id          10 non-null     object\n",
      "dtypes: int64(4), object(3)\n",
      "memory usage: 688.0+ bytes\n"
     ]
    }
   ],
   "source": [
    "portfolio.info()"
   ],
   "metadata": {
    "collapsed": false,
    "pycharm": {
     "name": "#%%\n"
    }
   }
  },
  {
   "cell_type": "code",
   "execution_count": 13,
   "outputs": [
    {
     "name": "stdout",
     "output_type": "stream",
     "text": [
      "<class 'pandas.core.frame.DataFrame'>\n",
      "RangeIndex: 17000 entries, 0 to 16999\n",
      "Data columns (total 6 columns):\n",
      " #   Column            Non-Null Count  Dtype  \n",
      "---  ------            --------------  -----  \n",
      " 0   Unnamed: 0        17000 non-null  int64  \n",
      " 1   gender            14825 non-null  object \n",
      " 2   age               17000 non-null  int64  \n",
      " 3   id                17000 non-null  object \n",
      " 4   became_member_on  17000 non-null  int64  \n",
      " 5   income            14825 non-null  float64\n",
      "dtypes: float64(1), int64(3), object(2)\n",
      "memory usage: 797.0+ KB\n"
     ]
    }
   ],
   "source": [
    "profile.info()"
   ],
   "metadata": {
    "collapsed": false,
    "pycharm": {
     "name": "#%%\n"
    }
   }
  },
  {
   "cell_type": "code",
   "execution_count": 19,
   "outputs": [
    {
     "data": {
      "text/plain": "118    2175\nName: age, dtype: int64"
     },
     "execution_count": 19,
     "metadata": {},
     "output_type": "execute_result"
    }
   ],
   "source": [
    "nulls=profile[profile.isnull().any(axis=1)]\n",
    "nulls.age.value_counts()"
   ],
   "metadata": {
    "collapsed": false,
    "pycharm": {
     "name": "#%%\n"
    }
   }
  },
  {
   "cell_type": "code",
   "execution_count": 21,
   "outputs": [
    {
     "name": "stdout",
     "output_type": "stream",
     "text": [
      "<class 'pandas.core.frame.DataFrame'>\n",
      "Int64Index: 14825 entries, 1 to 16999\n",
      "Data columns (total 6 columns):\n",
      " #   Column            Non-Null Count  Dtype  \n",
      "---  ------            --------------  -----  \n",
      " 0   Unnamed: 0        14825 non-null  int64  \n",
      " 1   gender            14825 non-null  object \n",
      " 2   age               14825 non-null  int64  \n",
      " 3   id                14825 non-null  object \n",
      " 4   became_member_on  14825 non-null  int64  \n",
      " 5   income            14825 non-null  float64\n",
      "dtypes: float64(1), int64(3), object(2)\n",
      "memory usage: 810.7+ KB\n"
     ]
    }
   ],
   "source": [
    "profile=profile.dropna()\n",
    "profile.info()"
   ],
   "metadata": {
    "collapsed": false,
    "pycharm": {
     "name": "#%%\n"
    }
   }
  },
  {
   "cell_type": "code",
   "execution_count": 22,
   "outputs": [
    {
     "name": "stdout",
     "output_type": "stream",
     "text": [
      "<class 'pandas.core.frame.DataFrame'>\n",
      "Int64Index: 14825 entries, 1 to 16999\n",
      "Data columns (total 6 columns):\n",
      " #   Column            Non-Null Count  Dtype         \n",
      "---  ------            --------------  -----         \n",
      " 0   Unnamed: 0        14825 non-null  int64         \n",
      " 1   gender            14825 non-null  object        \n",
      " 2   age               14825 non-null  int64         \n",
      " 3   id                14825 non-null  object        \n",
      " 4   became_member_on  14825 non-null  datetime64[ns]\n",
      " 5   income            14825 non-null  float64       \n",
      "dtypes: datetime64[ns](1), float64(1), int64(2), object(2)\n",
      "memory usage: 810.7+ KB\n"
     ]
    }
   ],
   "source": [
    "#profile의 became_member_on 데이터를 시간 정보로 변환해줍니다.\n",
    "profile.became_member_on=pd.to_datetime(profile.became_member_on.astype(str), format='%Y%m%d')\n",
    "profile.info()"
   ],
   "metadata": {
    "collapsed": false,
    "pycharm": {
     "name": "#%%\n"
    }
   }
  },
  {
   "cell_type": "code",
   "execution_count": 25,
   "outputs": [
    {
     "data": {
      "text/plain": "<Figure size 576x432 with 1 Axes>",
      "image/png": "[encoded data removed]"
     },
     "metadata": {
      "needs_background": "light"
     },
     "output_type": "display_data"
    }
   ],
   "source": [
    "#성별에 관한 분석\n",
    "plt.figure(figsize=(8,6))\n",
    "sns.countplot(data=profile, x=\"gender\", palette=\"Set2\")\n",
    "plt.show()"
   ],
   "metadata": {
    "collapsed": false,
    "pycharm": {
     "name": "#%%\n"
    }
   }
  },
  {
   "cell_type": "code",
   "execution_count": 26,
   "outputs": [
    {
     "data": {
      "text/plain": "M    8484\nF    6129\nO     212\nName: gender, dtype: int64"
     },
     "execution_count": 26,
     "metadata": {},
     "output_type": "execute_result"
    }
   ],
   "source": [
    "profile.gender.value_counts()"
   ],
   "metadata": {
    "collapsed": false,
    "pycharm": {
     "name": "#%%\n"
    }
   }
  },
  {
   "cell_type": "code",
   "execution_count": 27,
   "outputs": [
    {
     "data": {
      "text/plain": "              income\ngender              \nF       71306.412139\nM       61194.601603\nO       63287.735849",
      "text/html": "<div>\n<style scoped>\n    .dataframe tbody tr th:only-of-type {\n        vertical-align: middle;\n    }\n\n    .dataframe tbody tr th {\n        vertical-align: top;\n    }\n\n    .dataframe thead th {\n        text-align: right;\n    }\n</style>\n<table border=\"1\" class=\"dataframe\">\n  <thead>\n    <tr style=\"text-align: right;\">\n      <th></th>\n      <th>income</th>\n    </tr>\n    <tr>\n      <th>gender</th>\n      <th></th>\n    </tr>\n  </thead>\n  <tbody>\n    <tr>\n      <th>F</th>\n      <td>71306.412139</td>\n    </tr>\n    <tr>\n      <th>M</th>\n      <td>61194.601603</td>\n    </tr>\n    <tr>\n      <th>O</th>\n      <td>63287.735849</td>\n    </tr>\n  </tbody>\n</table>\n</div>"
     },
     "execution_count": 27,
     "metadata": {},
     "output_type": "execute_result"
    }
   ],
   "source": [
    "pd.pivot_table(data=profile, index=\"gender\", values=\"income\")"
   ],
   "metadata": {
    "collapsed": false,
    "pycharm": {
     "name": "#%%\n"
    }
   }
  },
  {
   "cell_type": "code",
   "execution_count": 30,
   "outputs": [
    {
     "data": {
      "text/plain": "<Figure size 1440x432 with 1 Axes>",
      "image/png": "[encoded data removed]"
     },
     "metadata": {
      "needs_background": "light"
     },
     "output_type": "display_data"
    }
   ],
   "source": [
    "#나이에 관한 분석\n",
    "plt.figure(figsize=(20,6))\n",
    "sns.countplot(data=profile, x=\"age\")\n",
    "plt.show()"
   ],
   "metadata": {
    "collapsed": false,
    "pycharm": {
     "name": "#%%\n"
    }
   }
  },
  {
   "cell_type": "code",
   "execution_count": null,
   "outputs": [],
   "source": [],
   "metadata": {
    "collapsed": false,
    "pycharm": {
     "name": "#%%\n"
    }
   }
  }
 ],
 "metadata": {
  "kernelspec": {
   "display_name": "Python 3",
   "language": "python",
   "name": "python3"
  },
  "language_info": {
   "codemirror_mode": {
    "name": "ipython",
    "version": 2
   },
   "file_extension": ".py",
   "mimetype": "text/x-python",
   "name": "python",
   "nbconvert_exporter": "python",
   "pygments_lexer": "ipython2",
   "version": "2.7.6"
  }
 },
 "nbformat": 4,
 "nbformat_minor": 0
}