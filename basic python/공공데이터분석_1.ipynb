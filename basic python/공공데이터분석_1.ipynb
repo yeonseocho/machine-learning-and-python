{
 "cells": [
  {
   "cell_type": "code",
   "execution_count": 38,
   "metadata": {
    "collapsed": true
   },
   "outputs": [],
   "source": [
    "import numpy as np\n",
    "import pandas as pd\n",
    "import matplotlib.pyplot as plt\n",
    "import seaborn as sns\n",
    "\n",
    "from glob import glob\n",
    "import os"
   ]
  },
  {
   "cell_type": "code",
   "execution_count": 39,
   "outputs": [
    {
     "data": {
      "text/plain": "          상가업소번호         상호명    지점명 상권업종대분류코드 상권업종대분류명 상권업종중분류코드   상권업종중분류명  \\\n0       23324279       제중건강원    NaN         D       소매       D10    건강/미용식품   \n1       24525909       민속악기사    NaN         D       소매       D04  취미/오락관련소매   \n2       24715368       태평양진주    NaN         D       소매       D26   시계/귀금속소매   \n3       15554136  김선희꼼꼼국어교습소    NaN         R    학문/교육       R01  학원-보습교습입시   \n4       17174175         비지트    NaN         Q       음식       Q01         한식   \n...          ...         ...    ...       ...      ...       ...        ...   \n330822   9032765    글로리아진스커피    NaN         Q       음식       Q12     커피점/카페   \n330823   9093595          김밥    NaN         Q       음식       Q04         분식   \n330824   9099241  더페이스샵아차산역점  아차산역점         D       소매       D16      화장품소매   \n330825   9160309     CU자곡현대점  자곡현대점         D       소매       D03      종합소매점   \n330826   9173533      EYAGI2    NaN         Q       음식       Q01         한식   \n\n       상권업종소분류코드     상권업종소분류명 표준산업분류코드  ...                     건물관리번호  \\\n0         D10A07          건강원   G47216  ...  1156010600100410002034626   \n1         D04A09         악기판매   G47593  ...  1120012200101420011000227   \n2         D26A01       시계/귀금속   G47830  ...  1111015200100440000000001   \n3         R01A01        학원-입시   P85501  ...  1171011100101970003017195   \n4         Q01A01    한식/백반/한정식   I56111  ...  1165010100108540018009586   \n...          ...          ...      ...  ...                        ...   \n330822    Q12A01  커피전문점/카페/다방   I56220  ...  1165010300106860000000001   \n330823    Q04A01       라면김밥분식   I56194  ...  1171010800104090003000001   \n330824    D16A01       화장품판매점   G47813  ...  1121510200102400029005869   \n330825    D03A01          편의점   G47122  ...  1168011200103950004000001   \n330826    Q01A01    한식/백반/한정식   I56111  ...  1165010300106860000000001   \n\n             건물명                    도로명주소   구우편번호   신우편번호  동정보  층정보  호정보  \\\n0            NaN  서울특별시 영등포구 영중로14길 11-17  150035  7250.0  NaN    1  NaN   \n1            NaN         서울특별시 성동구 용답5길 2  133849  4803.0  NaN  NaN  NaN   \n2         금사랑투빌딩     서울특별시 종로구 서순라길 17-10  110390  3138.0  NaN  NaN  NaN   \n3            NaN    서울특별시 송파구 위례성대로12길 31  138834  5640.0  NaN    2  NaN   \n4          상랑의빌딩      서울특별시 서초구 동광로18길 82  137837  6572.0  NaN    1  NaN   \n...          ...                      ...     ...     ...  ...  ...  ...   \n330822    삼성프라자1        서울특별시 서초구 성촌1길 26  137901  6765.0  NaN    2  NaN   \n330823    가든파이브툴         서울특별시 송파구 충민로 10  138200  5840.0  NaN    1  NaN   \n330824     아성빌라트   서울특별시 광진구 능동로32길 82-58  143849  4988.0  NaN    1  NaN   \n330825  강남유탑유블레스        서울특별시 강남구 자곡로 180  135200  6373.0  NaN    1  NaN   \n330826    삼성프라자1        서울특별시 서초구 성촌1길 26  137901  6765.0  NaN    1  NaN   \n\n                경도         위도  \n0       126.907168  37.520613  \n1       127.049018  37.566857  \n2       126.993530  37.571848  \n3       127.121520  37.510967  \n4       126.991394  37.488375  \n...            ...        ...  \n330822  127.021354  37.465397  \n330823  127.119371  37.478261  \n330824  127.082117  37.552990  \n330825  127.103347  37.473707  \n330826  127.021354  37.465397  \n\n[330827 rows x 39 columns]",
      "text/html": "<div>\n<style scoped>\n    .dataframe tbody tr th:only-of-type {\n        vertical-align: middle;\n    }\n\n    .dataframe tbody tr th {\n        vertical-align: top;\n    }\n\n    .dataframe thead th {\n        text-align: right;\n    }\n</style>\n<table border=\"1\" class=\"dataframe\">\n  <thead>\n    <tr style=\"text-align: right;\">\n      <th></th>\n      <th>상가업소번호</th>\n      <th>상호명</th>\n      <th>지점명</th>\n      <th>상권업종대분류코드</th>\n      <th>상권업종대분류명</th>\n      <th>상권업종중분류코드</th>\n      <th>상권업종중분류명</th>\n      <th>상권업종소분류코드</th>\n      <th>상권업종소분류명</th>\n      <th>표준산업분류코드</th>\n      <th>...</th>\n      <th>건물관리번호</th>\n      <th>건물명</th>\n      <th>도로명주소</th>\n      <th>구우편번호</th>\n      <th>신우편번호</th>\n      <th>동정보</th>\n      <th>층정보</th>\n      <th>호정보</th>\n      <th>경도</th>\n      <th>위도</th>\n    </tr>\n  </thead>\n  <tbody>\n    <tr>\n      <th>0</th>\n      <td>23324279</td>\n      <td>제중건강원</td>\n      <td>NaN</td>\n      <td>D</td>\n      <td>소매</td>\n      <td>D10</td>\n      <td>건강/미용식품</td>\n      <td>D10A07</td>\n      <td>건강원</td>\n      <td>G47216</td>\n      <td>...</td>\n      <td>1156010600100410002034626</td>\n      <td>NaN</td>\n      <td>서울특별시 영등포구 영중로14길 11-17</td>\n      <td>150035</td>\n      <td>7250.0</td>\n      <td>NaN</td>\n      <td>1</td>\n      <td>NaN</td>\n      <td>126.907168</td>\n      <td>37.520613</td>\n    </tr>\n    <tr>\n      <th>1</th>\n      <td>24525909</td>\n      <td>민속악기사</td>\n      <td>NaN</td>\n      <td>D</td>\n      <td>소매</td>\n      <td>D04</td>\n      <td>취미/오락관련소매</td>\n      <td>D04A09</td>\n      <td>악기판매</td>\n      <td>G47593</td>\n      <td>...</td>\n      <td>1120012200101420011000227</td>\n      <td>NaN</td>\n      <td>서울특별시 성동구 용답5길 2</td>\n      <td>133849</td>\n      <td>4803.0</td>\n      <td>NaN</td>\n      <td>NaN</td>\n      <td>NaN</td>\n      <td>127.049018</td>\n      <td>37.566857</td>\n    </tr>\n    <tr>\n      <th>2</th>\n      <td>24715368</td>\n      <td>태평양진주</td>\n      <td>NaN</td>\n      <td>D</td>\n      <td>소매</td>\n      <td>D26</td>\n      <td>시계/귀금속소매</td>\n      <td>D26A01</td>\n      <td>시계/귀금속</td>\n      <td>G47830</td>\n      <td>...</td>\n      <td>1111015200100440000000001</td>\n      <td>금사랑투빌딩</td>\n      <td>서울특별시 종로구 서순라길 17-10</td>\n      <td>110390</td>\n      <td>3138.0</td>\n      <td>NaN</td>\n      <td>NaN</td>\n      <td>NaN</td>\n      <td>126.993530</td>\n      <td>37.571848</td>\n    </tr>\n    <tr>\n      <th>3</th>\n      <td>15554136</td>\n      <td>김선희꼼꼼국어교습소</td>\n      <td>NaN</td>\n      <td>R</td>\n      <td>학문/교육</td>\n      <td>R01</td>\n      <td>학원-보습교습입시</td>\n      <td>R01A01</td>\n      <td>학원-입시</td>\n      <td>P85501</td>\n      <td>...</td>\n      <td>1171011100101970003017195</td>\n      <td>NaN</td>\n      <td>서울특별시 송파구 위례성대로12길 31</td>\n      <td>138834</td>\n      <td>5640.0</td>\n      <td>NaN</td>\n      <td>2</td>\n      <td>NaN</td>\n      <td>127.121520</td>\n      <td>37.510967</td>\n    </tr>\n    <tr>\n      <th>4</th>\n      <td>17174175</td>\n      <td>비지트</td>\n      <td>NaN</td>\n      <td>Q</td>\n      <td>음식</td>\n      <td>Q01</td>\n      <td>한식</td>\n      <td>Q01A01</td>\n      <td>한식/백반/한정식</td>\n      <td>I56111</td>\n      <td>...</td>\n      <td>1165010100108540018009586</td>\n      <td>상랑의빌딩</td>\n      <td>서울특별시 서초구 동광로18길 82</td>\n      <td>137837</td>\n      <td>6572.0</td>\n      <td>NaN</td>\n      <td>1</td>\n      <td>NaN</td>\n      <td>126.991394</td>\n      <td>37.488375</td>\n    </tr>\n    <tr>\n      <th>...</th>\n      <td>...</td>\n      <td>...</td>\n      <td>...</td>\n      <td>...</td>\n      <td>...</td>\n      <td>...</td>\n      <td>...</td>\n      <td>...</td>\n      <td>...</td>\n      <td>...</td>\n      <td>...</td>\n      <td>...</td>\n      <td>...</td>\n      <td>...</td>\n      <td>...</td>\n      <td>...</td>\n      <td>...</td>\n      <td>...</td>\n      <td>...</td>\n      <td>...</td>\n      <td>...</td>\n    </tr>\n    <tr>\n      <th>330822</th>\n      <td>9032765</td>\n      <td>글로리아진스커피</td>\n      <td>NaN</td>\n      <td>Q</td>\n      <td>음식</td>\n      <td>Q12</td>\n      <td>커피점/카페</td>\n      <td>Q12A01</td>\n      <td>커피전문점/카페/다방</td>\n      <td>I56220</td>\n      <td>...</td>\n      <td>1165010300106860000000001</td>\n      <td>삼성프라자1</td>\n      <td>서울특별시 서초구 성촌1길 26</td>\n      <td>137901</td>\n      <td>6765.0</td>\n      <td>NaN</td>\n      <td>2</td>\n      <td>NaN</td>\n      <td>127.021354</td>\n      <td>37.465397</td>\n    </tr>\n    <tr>\n      <th>330823</th>\n      <td>9093595</td>\n      <td>김밥</td>\n      <td>NaN</td>\n      <td>Q</td>\n      <td>음식</td>\n      <td>Q04</td>\n      <td>분식</td>\n      <td>Q04A01</td>\n      <td>라면김밥분식</td>\n      <td>I56194</td>\n      <td>...</td>\n      <td>1171010800104090003000001</td>\n      <td>가든파이브툴</td>\n      <td>서울특별시 송파구 충민로 10</td>\n      <td>138200</td>\n      <td>5840.0</td>\n      <td>NaN</td>\n      <td>1</td>\n      <td>NaN</td>\n      <td>127.119371</td>\n      <td>37.478261</td>\n    </tr>\n    <tr>\n      <th>330824</th>\n      <td>9099241</td>\n      <td>더페이스샵아차산역점</td>\n      <td>아차산역점</td>\n      <td>D</td>\n      <td>소매</td>\n      <td>D16</td>\n      <td>화장품소매</td>\n      <td>D16A01</td>\n      <td>화장품판매점</td>\n      <td>G47813</td>\n      <td>...</td>\n      <td>1121510200102400029005869</td>\n      <td>아성빌라트</td>\n      <td>서울특별시 광진구 능동로32길 82-58</td>\n      <td>143849</td>\n      <td>4988.0</td>\n      <td>NaN</td>\n      <td>1</td>\n      <td>NaN</td>\n      <td>127.082117</td>\n      <td>37.552990</td>\n    </tr>\n    <tr>\n      <th>330825</th>\n      <td>9160309</td>\n      <td>CU자곡현대점</td>\n      <td>자곡현대점</td>\n      <td>D</td>\n      <td>소매</td>\n      <td>D03</td>\n      <td>종합소매점</td>\n      <td>D03A01</td>\n      <td>편의점</td>\n      <td>G47122</td>\n      <td>...</td>\n      <td>1168011200103950004000001</td>\n      <td>강남유탑유블레스</td>\n      <td>서울특별시 강남구 자곡로 180</td>\n      <td>135200</td>\n      <td>6373.0</td>\n      <td>NaN</td>\n      <td>1</td>\n      <td>NaN</td>\n      <td>127.103347</td>\n      <td>37.473707</td>\n    </tr>\n    <tr>\n      <th>330826</th>\n      <td>9173533</td>\n      <td>EYAGI2</td>\n      <td>NaN</td>\n      <td>Q</td>\n      <td>음식</td>\n      <td>Q01</td>\n      <td>한식</td>\n      <td>Q01A01</td>\n      <td>한식/백반/한정식</td>\n      <td>I56111</td>\n      <td>...</td>\n      <td>1165010300106860000000001</td>\n      <td>삼성프라자1</td>\n      <td>서울특별시 서초구 성촌1길 26</td>\n      <td>137901</td>\n      <td>6765.0</td>\n      <td>NaN</td>\n      <td>1</td>\n      <td>NaN</td>\n      <td>127.021354</td>\n      <td>37.465397</td>\n    </tr>\n  </tbody>\n</table>\n<p>330827 rows × 39 columns</p>\n</div>"
     },
     "execution_count": 39,
     "metadata": {},
     "output_type": "execute_result"
    }
   ],
   "source": [
    "seoul=pd.read_csv('../data/소상공인/소상공인시장진흥공단_상가(상권)정보_서울_202203.csv')\n",
    "seoul"
   ],
   "metadata": {
    "collapsed": false,
    "pycharm": {
     "name": "#%%\n"
    }
   }
  },
  {
   "cell_type": "code",
   "execution_count": 40,
   "outputs": [
    {
     "name": "stderr",
     "output_type": "stream",
     "text": [
      "C:\\Users\\jpc10\\AppData\\Local\\Temp\\ipykernel_16084\\265700779.py:8: DtypeWarning: Columns (35) have mixed types. Specify dtype option on import or set low_memory=False.\n",
      "  temp_df=pd.read_csv(file_name)\n",
      "C:\\Users\\jpc10\\AppData\\Local\\Temp\\ipykernel_16084\\265700779.py:8: DtypeWarning: Columns (35) have mixed types. Specify dtype option on import or set low_memory=False.\n",
      "  temp_df=pd.read_csv(file_name)\n",
      "C:\\Users\\jpc10\\AppData\\Local\\Temp\\ipykernel_16084\\265700779.py:8: DtypeWarning: Columns (35) have mixed types. Specify dtype option on import or set low_memory=False.\n",
      "  temp_df=pd.read_csv(file_name)\n",
      "C:\\Users\\jpc10\\AppData\\Local\\Temp\\ipykernel_16084\\265700779.py:8: DtypeWarning: Columns (35) have mixed types. Specify dtype option on import or set low_memory=False.\n",
      "  temp_df=pd.read_csv(file_name)\n",
      "C:\\Users\\jpc10\\AppData\\Local\\Temp\\ipykernel_16084\\265700779.py:8: DtypeWarning: Columns (35) have mixed types. Specify dtype option on import or set low_memory=False.\n",
      "  temp_df=pd.read_csv(file_name)\n",
      "C:\\Users\\jpc10\\AppData\\Local\\Temp\\ipykernel_16084\\265700779.py:8: DtypeWarning: Columns (35) have mixed types. Specify dtype option on import or set low_memory=False.\n",
      "  temp_df=pd.read_csv(file_name)\n",
      "C:\\Users\\jpc10\\AppData\\Local\\Temp\\ipykernel_16084\\265700779.py:8: DtypeWarning: Columns (35) have mixed types. Specify dtype option on import or set low_memory=False.\n",
      "  temp_df=pd.read_csv(file_name)\n",
      "C:\\Users\\jpc10\\AppData\\Local\\Temp\\ipykernel_16084\\265700779.py:8: DtypeWarning: Columns (35) have mixed types. Specify dtype option on import or set low_memory=False.\n",
      "  temp_df=pd.read_csv(file_name)\n",
      "C:\\Users\\jpc10\\AppData\\Local\\Temp\\ipykernel_16084\\265700779.py:8: DtypeWarning: Columns (35) have mixed types. Specify dtype option on import or set low_memory=False.\n",
      "  temp_df=pd.read_csv(file_name)\n",
      "C:\\Users\\jpc10\\AppData\\Local\\Temp\\ipykernel_16084\\265700779.py:8: DtypeWarning: Columns (35) have mixed types. Specify dtype option on import or set low_memory=False.\n",
      "  temp_df=pd.read_csv(file_name)\n"
     ]
    }
   ],
   "source": [
    "#glob=특정경로에 있는 파일들을 가져오는것.\n",
    "file_names=glob(\"../data/소상공인/*.csv\") #csv 확장자를 가지는 모든 파일 이름\n",
    "\n",
    "#csv 목록 불러오기\n",
    "total_df=pd.DataFrame()\n",
    "\n",
    "for file_name in file_names:\n",
    "    temp_df=pd.read_csv(file_name)\n",
    "    total_df=pd.concat([total_df, temp_df])\n",
    "\n",
    "#reset index\n",
    "total_df=total_df.reset_index(drop=True)"
   ],
   "metadata": {
    "collapsed": false,
    "pycharm": {
     "name": "#%%\n"
    }
   }
  },
  {
   "cell_type": "code",
   "execution_count": 41,
   "outputs": [
    {
     "data": {
      "text/plain": "Index(['상가업소번호', '상호명', '지점명', '상권업종대분류코드', '상권업종대분류명', '상권업종중분류코드',\n       '상권업종중분류명', '상권업종소분류코드', '상권업종소분류명', '표준산업분류코드', '표준산업분류명', '시도코드',\n       '시도명', '시군구코드', '시군구명', '행정동코드', '행정동명', '법정동코드', '법정동명', '지번코드',\n       '대지구분코드', '대지구분명', '지번본번지', '지번부번지', '지번주소', '도로명코드', '도로명', '건물본번지',\n       '건물부번지', '건물관리번호', '건물명', '도로명주소', '구우편번호', '신우편번호', '동정보', '층정보',\n       '호정보', '경도', '위도'],\n      dtype='object')"
     },
     "execution_count": 41,
     "metadata": {},
     "output_type": "execute_result"
    }
   ],
   "source": [
    "#분석에 필요한 column을 고릅니다.\n",
    "total_df.columns"
   ],
   "metadata": {
    "collapsed": false,
    "pycharm": {
     "name": "#%%\n"
    }
   }
  },
  {
   "cell_type": "code",
   "execution_count": 42,
   "outputs": [
    {
     "data": {
      "text/plain": "     상가업소번호            상호명  지점명 상권업종대분류코드 상권업종대분류명 상권업종중분류코드   상권업종중분류명  \\\n0  25033300      동그라미중고타이어  NaN         D       소매       D23  자동차/자동차용품   \n1  17174549  세인트존스호텔Ohcrab  NaN         O       숙박       O01      호텔/콘도   \n2  17174079        평창라마다호텔  NaN         O       숙박       O01      호텔/콘도   \n3  17173904    호텔탑스텐스카이라운지  NaN         O       숙박       O01      호텔/콘도   \n4  24412526          레이디가구  NaN         D       소매       D15       가구소매   \n\n  상권업종소분류코드 상권업종소분류명 표준산업분류코드  ...                     건물관리번호      건물명  \\\n0    D23A04    타이어판매   G45211  ...  4215011100110960006010791      NaN   \n1    O01A01    호텔/콘도      NaN  ...  4215011300100010001017124  세인트존스호텔   \n2    O01A01    호텔/콘도      NaN  ...  4276038024102450036000001      NaN   \n3    O01A01    호텔/콘도      NaN  ...  4215035029100920001000002      NaN   \n4    D15A01   일반가구소매   G47520  ...  4213011500111400020035715      NaN   \n\n                    도로명주소     구우편번호    신우편번호  동정보  층정보  호정보          경도  \\\n0         강원도 강릉시 가작로 270  210110.0  25488.0    1  NaN  NaN  128.904472   \n1         강원도 강릉시 창해로 307  210120.0  25467.0  NaN  NaN  NaN  128.920908   \n2    강원도 평창군 대관령면 오목길 107  232954.0  25342.0  NaN  NaN  NaN  128.717971   \n3  강원도 강릉시 옥계면 헌화로 455-34  210831.0  25633.0  NaN  NaN  NaN  129.052902   \n4      강원도 원주시 송삼길 156-19  220150.0  26385.0  NaN  NaN  NaN  127.917307   \n\n          위도  \n0  37.770252  \n1  37.791299  \n2  37.660051  \n3  37.654680  \n4  37.327668  \n\n[5 rows x 39 columns]",
      "text/html": "<div>\n<style scoped>\n    .dataframe tbody tr th:only-of-type {\n        vertical-align: middle;\n    }\n\n    .dataframe tbody tr th {\n        vertical-align: top;\n    }\n\n    .dataframe thead th {\n        text-align: right;\n    }\n</style>\n<table border=\"1\" class=\"dataframe\">\n  <thead>\n    <tr style=\"text-align: right;\">\n      <th></th>\n      <th>상가업소번호</th>\n      <th>상호명</th>\n      <th>지점명</th>\n      <th>상권업종대분류코드</th>\n      <th>상권업종대분류명</th>\n      <th>상권업종중분류코드</th>\n      <th>상권업종중분류명</th>\n      <th>상권업종소분류코드</th>\n      <th>상권업종소분류명</th>\n      <th>표준산업분류코드</th>\n      <th>...</th>\n      <th>건물관리번호</th>\n      <th>건물명</th>\n      <th>도로명주소</th>\n      <th>구우편번호</th>\n      <th>신우편번호</th>\n      <th>동정보</th>\n      <th>층정보</th>\n      <th>호정보</th>\n      <th>경도</th>\n      <th>위도</th>\n    </tr>\n  </thead>\n  <tbody>\n    <tr>\n      <th>0</th>\n      <td>25033300</td>\n      <td>동그라미중고타이어</td>\n      <td>NaN</td>\n      <td>D</td>\n      <td>소매</td>\n      <td>D23</td>\n      <td>자동차/자동차용품</td>\n      <td>D23A04</td>\n      <td>타이어판매</td>\n      <td>G45211</td>\n      <td>...</td>\n      <td>4215011100110960006010791</td>\n      <td>NaN</td>\n      <td>강원도 강릉시 가작로 270</td>\n      <td>210110.0</td>\n      <td>25488.0</td>\n      <td>1</td>\n      <td>NaN</td>\n      <td>NaN</td>\n      <td>128.904472</td>\n      <td>37.770252</td>\n    </tr>\n    <tr>\n      <th>1</th>\n      <td>17174549</td>\n      <td>세인트존스호텔Ohcrab</td>\n      <td>NaN</td>\n      <td>O</td>\n      <td>숙박</td>\n      <td>O01</td>\n      <td>호텔/콘도</td>\n      <td>O01A01</td>\n      <td>호텔/콘도</td>\n      <td>NaN</td>\n      <td>...</td>\n      <td>4215011300100010001017124</td>\n      <td>세인트존스호텔</td>\n      <td>강원도 강릉시 창해로 307</td>\n      <td>210120.0</td>\n      <td>25467.0</td>\n      <td>NaN</td>\n      <td>NaN</td>\n      <td>NaN</td>\n      <td>128.920908</td>\n      <td>37.791299</td>\n    </tr>\n    <tr>\n      <th>2</th>\n      <td>17174079</td>\n      <td>평창라마다호텔</td>\n      <td>NaN</td>\n      <td>O</td>\n      <td>숙박</td>\n      <td>O01</td>\n      <td>호텔/콘도</td>\n      <td>O01A01</td>\n      <td>호텔/콘도</td>\n      <td>NaN</td>\n      <td>...</td>\n      <td>4276038024102450036000001</td>\n      <td>NaN</td>\n      <td>강원도 평창군 대관령면 오목길 107</td>\n      <td>232954.0</td>\n      <td>25342.0</td>\n      <td>NaN</td>\n      <td>NaN</td>\n      <td>NaN</td>\n      <td>128.717971</td>\n      <td>37.660051</td>\n    </tr>\n    <tr>\n      <th>3</th>\n      <td>17173904</td>\n      <td>호텔탑스텐스카이라운지</td>\n      <td>NaN</td>\n      <td>O</td>\n      <td>숙박</td>\n      <td>O01</td>\n      <td>호텔/콘도</td>\n      <td>O01A01</td>\n      <td>호텔/콘도</td>\n      <td>NaN</td>\n      <td>...</td>\n      <td>4215035029100920001000002</td>\n      <td>NaN</td>\n      <td>강원도 강릉시 옥계면 헌화로 455-34</td>\n      <td>210831.0</td>\n      <td>25633.0</td>\n      <td>NaN</td>\n      <td>NaN</td>\n      <td>NaN</td>\n      <td>129.052902</td>\n      <td>37.654680</td>\n    </tr>\n    <tr>\n      <th>4</th>\n      <td>24412526</td>\n      <td>레이디가구</td>\n      <td>NaN</td>\n      <td>D</td>\n      <td>소매</td>\n      <td>D15</td>\n      <td>가구소매</td>\n      <td>D15A01</td>\n      <td>일반가구소매</td>\n      <td>G47520</td>\n      <td>...</td>\n      <td>4213011500111400020035715</td>\n      <td>NaN</td>\n      <td>강원도 원주시 송삼길 156-19</td>\n      <td>220150.0</td>\n      <td>26385.0</td>\n      <td>NaN</td>\n      <td>NaN</td>\n      <td>NaN</td>\n      <td>127.917307</td>\n      <td>37.327668</td>\n    </tr>\n  </tbody>\n</table>\n<p>5 rows × 39 columns</p>\n</div>"
     },
     "execution_count": 42,
     "metadata": {},
     "output_type": "execute_result"
    }
   ],
   "source": [
    "total_df.head()"
   ],
   "metadata": {
    "collapsed": false,
    "pycharm": {
     "name": "#%%\n"
    }
   }
  },
  {
   "cell_type": "code",
   "execution_count": 43,
   "outputs": [
    {
     "data": {
      "text/plain": "array(['자동차/자동차용품', '호텔/콘도', '가구소매', '학원기타', '유흥주점', '철물/난방/건설자재소매',\n       '주유소/충전소', '가방/신발/액세서리', '가정/주방/인테리어', '커피점/카페', '한식', '화장품소매',\n       '선물/팬시/기념품', '캠프/별장/펜션', '음/식료품소매', '민박/하숙', '부동산중개', '의복의류',\n       '학원-음악미술무용', '개인/가정용품수리', '분식', '세탁/가사서비스', '주택수리', '인력/고용/용역알선',\n       '가전제품소매', '기타판매업', '학원-어학', '종합소매점', '일식/수산물', '사무/문구/컴퓨터',\n       '이/미용/건강', '제과제빵떡케익', '모텔/여관/여인숙', '무도/유흥/가무', '광고/인쇄',\n       '취미/오락관련소매', '사진/광학/정밀기기소매', '자동차/이륜차', '대중목욕탕/휴게', '놀이/여가/취미',\n       '건강/미용식품', '패스트푸드', '실내운동시설', '학원-창업취업취미', '닭/오리요리', '시계/귀금속소매',\n       '중식', '페인트/유리제품소매', '중고품소매/교환', '유아교육', '유아용품', '학원-예능취미체육',\n       '요가/단전/마사지', '운동/경기용품소매', '학원-보습교습입시', '대행업', '실외운동시설', '의약/의료품소매',\n       '분양', 'PC/오락/당구/볼링등', '기타서비스업', '학문교육기타', '별식/퓨전요리', '책/서적/도서',\n       '장례/묘지', '물품기기대여', '양식', '애견/애완/동물', '사진', '기타음식업', '도서관/독서실',\n       '법무세무회계', '행사/이벤트', '개인서비스', '운송/배달/택배', '예술품/골동품/수석/분재', '부페',\n       '예식/의례/관혼상제', '학원-자격/국가고시', '음식배달서비스', '경마/경륜/성인오락', '스포츠/운동',\n       '종교용품판매', '운영관리시설', '학원-컴퓨터', '평가/개발/관리', '연극/영화/극장', '유스호스텔',\n       '부동산관련서비스'], dtype=object)"
     },
     "execution_count": 43,
     "metadata": {},
     "output_type": "execute_result"
    }
   ],
   "source": [
    "total_df.상권업종중분류명.unique()"
   ],
   "metadata": {
    "collapsed": false,
    "pycharm": {
     "name": "#%%\n"
    }
   }
  },
  {
   "cell_type": "code",
   "execution_count": 44,
   "outputs": [
    {
     "name": "stdout",
     "output_type": "stream",
     "text": [
      "<class 'pandas.core.frame.DataFrame'>\n",
      "RangeIndex: 2279879 entries, 0 to 2279878\n",
      "Data columns (total 39 columns):\n",
      " #   Column     Dtype  \n",
      "---  ------     -----  \n",
      " 0   상가업소번호     int64  \n",
      " 1   상호명        object \n",
      " 2   지점명        object \n",
      " 3   상권업종대분류코드  object \n",
      " 4   상권업종대분류명   object \n",
      " 5   상권업종중분류코드  object \n",
      " 6   상권업종중분류명   object \n",
      " 7   상권업종소분류코드  object \n",
      " 8   상권업종소분류명   object \n",
      " 9   표준산업분류코드   object \n",
      " 10  표준산업분류명    object \n",
      " 11  시도코드       int64  \n",
      " 12  시도명        object \n",
      " 13  시군구코드      int64  \n",
      " 14  시군구명       object \n",
      " 15  행정동코드      int64  \n",
      " 16  행정동명       object \n",
      " 17  법정동코드      float64\n",
      " 18  법정동명       object \n",
      " 19  지번코드       int64  \n",
      " 20  대지구분코드     int64  \n",
      " 21  대지구분명      object \n",
      " 22  지번본번지      int64  \n",
      " 23  지번부번지      float64\n",
      " 24  지번주소       object \n",
      " 25  도로명코드      int64  \n",
      " 26  도로명        object \n",
      " 27  건물본번지      int64  \n",
      " 28  건물부번지      float64\n",
      " 29  건물관리번호     object \n",
      " 30  건물명        object \n",
      " 31  도로명주소      object \n",
      " 32  구우편번호      float64\n",
      " 33  신우편번호      float64\n",
      " 34  동정보        object \n",
      " 35  층정보        object \n",
      " 36  호정보        float64\n",
      " 37  경도         float64\n",
      " 38  위도         float64\n",
      "dtypes: float64(8), int64(9), object(22)\n",
      "memory usage: 678.4+ MB\n"
     ]
    }
   ],
   "source": [
    "total_df.info()"
   ],
   "metadata": {
    "collapsed": false,
    "pycharm": {
     "name": "#%%\n"
    }
   }
  },
  {
   "cell_type": "code",
   "execution_count": 45,
   "outputs": [],
   "source": [
    "#메모리 낭비를 막기 위해 필요없는 변수를 제거합니다.\n",
    "temp2_df=total_df[[\"상권업종중분류명\", \"상호명\", \"시도명\"]]\n",
    "del total_df"
   ],
   "metadata": {
    "collapsed": false,
    "pycharm": {
     "name": "#%%\n"
    }
   }
  },
  {
   "cell_type": "code",
   "execution_count": 46,
   "outputs": [
    {
     "data": {
      "text/plain": "          상권업종중분류명            상호명   시도명\n0        자동차/자동차용품      동그라미중고타이어   강원도\n1            호텔/콘도  세인트존스호텔Ohcrab   강원도\n2            호텔/콘도        평창라마다호텔   강원도\n3            호텔/콘도    호텔탑스텐스카이라운지   강원도\n4             가구소매          레이디가구   강원도\n...            ...            ...   ...\n2279874    건강/미용식품          송학건강원  충청북도\n2279875   세탁/가사서비스          건영세탁소  충청북도\n2279876    주유소/충전소     GS칼텍스직영금성점  충청북도\n2279877    이/미용/건강          장미이발관  충청북도\n2279878     커피점/카페           별빛다락  충청북도\n\n[2279879 rows x 3 columns]",
      "text/html": "<div>\n<style scoped>\n    .dataframe tbody tr th:only-of-type {\n        vertical-align: middle;\n    }\n\n    .dataframe tbody tr th {\n        vertical-align: top;\n    }\n\n    .dataframe thead th {\n        text-align: right;\n    }\n</style>\n<table border=\"1\" class=\"dataframe\">\n  <thead>\n    <tr style=\"text-align: right;\">\n      <th></th>\n      <th>상권업종중분류명</th>\n      <th>상호명</th>\n      <th>시도명</th>\n    </tr>\n  </thead>\n  <tbody>\n    <tr>\n      <th>0</th>\n      <td>자동차/자동차용품</td>\n      <td>동그라미중고타이어</td>\n      <td>강원도</td>\n    </tr>\n    <tr>\n      <th>1</th>\n      <td>호텔/콘도</td>\n      <td>세인트존스호텔Ohcrab</td>\n      <td>강원도</td>\n    </tr>\n    <tr>\n      <th>2</th>\n      <td>호텔/콘도</td>\n      <td>평창라마다호텔</td>\n      <td>강원도</td>\n    </tr>\n    <tr>\n      <th>3</th>\n      <td>호텔/콘도</td>\n      <td>호텔탑스텐스카이라운지</td>\n      <td>강원도</td>\n    </tr>\n    <tr>\n      <th>4</th>\n      <td>가구소매</td>\n      <td>레이디가구</td>\n      <td>강원도</td>\n    </tr>\n    <tr>\n      <th>...</th>\n      <td>...</td>\n      <td>...</td>\n      <td>...</td>\n    </tr>\n    <tr>\n      <th>2279874</th>\n      <td>건강/미용식품</td>\n      <td>송학건강원</td>\n      <td>충청북도</td>\n    </tr>\n    <tr>\n      <th>2279875</th>\n      <td>세탁/가사서비스</td>\n      <td>건영세탁소</td>\n      <td>충청북도</td>\n    </tr>\n    <tr>\n      <th>2279876</th>\n      <td>주유소/충전소</td>\n      <td>GS칼텍스직영금성점</td>\n      <td>충청북도</td>\n    </tr>\n    <tr>\n      <th>2279877</th>\n      <td>이/미용/건강</td>\n      <td>장미이발관</td>\n      <td>충청북도</td>\n    </tr>\n    <tr>\n      <th>2279878</th>\n      <td>커피점/카페</td>\n      <td>별빛다락</td>\n      <td>충청북도</td>\n    </tr>\n  </tbody>\n</table>\n<p>2279879 rows × 3 columns</p>\n</div>"
     },
     "execution_count": 46,
     "metadata": {},
     "output_type": "execute_result"
    }
   ],
   "source": [
    "temp2_df"
   ],
   "metadata": {
    "collapsed": false,
    "pycharm": {
     "name": "#%%\n"
    }
   }
  },
  {
   "cell_type": "markdown",
   "source": [
    "## 전국 커피 전문점"
   ],
   "metadata": {
    "collapsed": false,
    "pycharm": {
     "name": "#%% md\n"
    }
   }
  },
  {
   "cell_type": "code",
   "execution_count": 48,
   "outputs": [
    {
     "data": {
      "text/plain": "       상권업종중분류명           상호명   시도명\n0        커피점/카페      키즈까페아이사랑   강원도\n1        커피점/카페            힐링   강원도\n2        커피점/카페           드롭탑   강원도\n3        커피점/카페         상유재카페   강원도\n4        커피점/카페          수정다방   강원도\n...         ...           ...   ...\n106857   커피점/카페       칼디앤커피나무  충청북도\n106858   커피점/카페          라미커피  충청북도\n106859   커피점/카페  드롭탑청주다나여성병원점  충청북도\n106860   커피점/카페        커피와사람들  충청북도\n106861   커피점/카페          별빛다락  충청북도\n\n[106862 rows x 3 columns]",
      "text/html": "<div>\n<style scoped>\n    .dataframe tbody tr th:only-of-type {\n        vertical-align: middle;\n    }\n\n    .dataframe tbody tr th {\n        vertical-align: top;\n    }\n\n    .dataframe thead th {\n        text-align: right;\n    }\n</style>\n<table border=\"1\" class=\"dataframe\">\n  <thead>\n    <tr style=\"text-align: right;\">\n      <th></th>\n      <th>상권업종중분류명</th>\n      <th>상호명</th>\n      <th>시도명</th>\n    </tr>\n  </thead>\n  <tbody>\n    <tr>\n      <th>0</th>\n      <td>커피점/카페</td>\n      <td>키즈까페아이사랑</td>\n      <td>강원도</td>\n    </tr>\n    <tr>\n      <th>1</th>\n      <td>커피점/카페</td>\n      <td>힐링</td>\n      <td>강원도</td>\n    </tr>\n    <tr>\n      <th>2</th>\n      <td>커피점/카페</td>\n      <td>드롭탑</td>\n      <td>강원도</td>\n    </tr>\n    <tr>\n      <th>3</th>\n      <td>커피점/카페</td>\n      <td>상유재카페</td>\n      <td>강원도</td>\n    </tr>\n    <tr>\n      <th>4</th>\n      <td>커피점/카페</td>\n      <td>수정다방</td>\n      <td>강원도</td>\n    </tr>\n    <tr>\n      <th>...</th>\n      <td>...</td>\n      <td>...</td>\n      <td>...</td>\n    </tr>\n    <tr>\n      <th>106857</th>\n      <td>커피점/카페</td>\n      <td>칼디앤커피나무</td>\n      <td>충청북도</td>\n    </tr>\n    <tr>\n      <th>106858</th>\n      <td>커피점/카페</td>\n      <td>라미커피</td>\n      <td>충청북도</td>\n    </tr>\n    <tr>\n      <th>106859</th>\n      <td>커피점/카페</td>\n      <td>드롭탑청주다나여성병원점</td>\n      <td>충청북도</td>\n    </tr>\n    <tr>\n      <th>106860</th>\n      <td>커피점/카페</td>\n      <td>커피와사람들</td>\n      <td>충청북도</td>\n    </tr>\n    <tr>\n      <th>106861</th>\n      <td>커피점/카페</td>\n      <td>별빛다락</td>\n      <td>충청북도</td>\n    </tr>\n  </tbody>\n</table>\n<p>106862 rows × 3 columns</p>\n</div>"
     },
     "execution_count": 48,
     "metadata": {},
     "output_type": "execute_result"
    }
   ],
   "source": [
    "#카페만 뽑아냅니다.\n",
    "df_coffee=temp2_df.loc[temp2_df.상권업종중분류명==\"커피점/카페\", :].reset_index(drop=True)\n",
    "df_coffee"
   ],
   "metadata": {
    "collapsed": false,
    "pycharm": {
     "name": "#%%\n"
    }
   }
  },
  {
   "cell_type": "markdown",
   "source": [
    "## 서울내 커피 전문점"
   ],
   "metadata": {
    "collapsed": false,
    "pycharm": {
     "name": "#%% md\n"
    }
   }
  },
  {
   "cell_type": "code",
   "execution_count": 50,
   "outputs": [
    {
     "data": {
      "text/plain": "      상권업종중분류명       상호명    시도명\n0       커피점/카페       커피빈  서울특별시\n1       커피점/카페     요거프레소  서울특별시\n2       커피점/카페     우성커피숍  서울특별시\n3       커피점/카페      버블베어  서울특별시\n4       커피점/카페     로얄커피숍  서울특별시\n...        ...       ...    ...\n19417   커피점/카페      코나카페  서울특별시\n19418   커피점/카페  토프레소태평로점  서울특별시\n19419   커피점/카페       비발디  서울특별시\n19420   커피점/카페  회화나무로스터스  서울특별시\n19421   커피점/카페  글로리아진스커피  서울특별시\n\n[19422 rows x 3 columns]",
      "text/html": "<div>\n<style scoped>\n    .dataframe tbody tr th:only-of-type {\n        vertical-align: middle;\n    }\n\n    .dataframe tbody tr th {\n        vertical-align: top;\n    }\n\n    .dataframe thead th {\n        text-align: right;\n    }\n</style>\n<table border=\"1\" class=\"dataframe\">\n  <thead>\n    <tr style=\"text-align: right;\">\n      <th></th>\n      <th>상권업종중분류명</th>\n      <th>상호명</th>\n      <th>시도명</th>\n    </tr>\n  </thead>\n  <tbody>\n    <tr>\n      <th>0</th>\n      <td>커피점/카페</td>\n      <td>커피빈</td>\n      <td>서울특별시</td>\n    </tr>\n    <tr>\n      <th>1</th>\n      <td>커피점/카페</td>\n      <td>요거프레소</td>\n      <td>서울특별시</td>\n    </tr>\n    <tr>\n      <th>2</th>\n      <td>커피점/카페</td>\n      <td>우성커피숍</td>\n      <td>서울특별시</td>\n    </tr>\n    <tr>\n      <th>3</th>\n      <td>커피점/카페</td>\n      <td>버블베어</td>\n      <td>서울특별시</td>\n    </tr>\n    <tr>\n      <th>4</th>\n      <td>커피점/카페</td>\n      <td>로얄커피숍</td>\n      <td>서울특별시</td>\n    </tr>\n    <tr>\n      <th>...</th>\n      <td>...</td>\n      <td>...</td>\n      <td>...</td>\n    </tr>\n    <tr>\n      <th>19417</th>\n      <td>커피점/카페</td>\n      <td>코나카페</td>\n      <td>서울특별시</td>\n    </tr>\n    <tr>\n      <th>19418</th>\n      <td>커피점/카페</td>\n      <td>토프레소태평로점</td>\n      <td>서울특별시</td>\n    </tr>\n    <tr>\n      <th>19419</th>\n      <td>커피점/카페</td>\n      <td>비발디</td>\n      <td>서울특별시</td>\n    </tr>\n    <tr>\n      <th>19420</th>\n      <td>커피점/카페</td>\n      <td>회화나무로스터스</td>\n      <td>서울특별시</td>\n    </tr>\n    <tr>\n      <th>19421</th>\n      <td>커피점/카페</td>\n      <td>글로리아진스커피</td>\n      <td>서울특별시</td>\n    </tr>\n  </tbody>\n</table>\n<p>19422 rows × 3 columns</p>\n</div>"
     },
     "execution_count": 50,
     "metadata": {},
     "output_type": "execute_result"
    }
   ],
   "source": [
    "# 카페 중에서 \"서울\"에 위치하고 있는 점포만 뽑아냅니다.\n",
    "df_seoul_coffee=df_coffee.loc[df_coffee.시도명==\"서울특별시\", :]\n",
    "df_seoul_coffee.index=range(len(df_seoul_coffee)) #reset_index 와 같은 효과\n",
    "df_seoul_coffee"
   ],
   "metadata": {
    "collapsed": false,
    "pycharm": {
     "name": "#%%\n"
    }
   }
  },
  {
   "cell_type": "markdown",
   "source": [
    "## 스타벅스"
   ],
   "metadata": {
    "collapsed": false,
    "pycharm": {
     "name": "#%% md\n"
    }
   }
  },
  {
   "cell_type": "code",
   "execution_count": 51,
   "outputs": [
    {
     "data": {
      "text/plain": "array(['커피빈', '요거프레소', '우성커피숍', '버블베어', '로얄커피숍', '띵낑커피', '커피빈코리아낙성대역점',\n       '000간', '탐앤탐스', '카페그리다', '노란고무줄', '커피랩', '커핀그루나루신천점', '스테이보드게임카페',\n       '홈플러스어라운드홈', '싱', '할리스커피남부터미널', '홈스테드', '이디야커피', '카페비원', '다나인터내셔널',\n       '리버스로스터', '엔제리너스', '극단배우다방', '가예커피', '커피볶는성군', '소풍가는날', '스타벅스',\n       '쎄븐스퀘어', '한앤둘', '하루에', '커피랑', '오가다', '오엘커피', 'paulbassett',\n       '애플블러썸커피', '노란손수건2호점', 'B.B.Q카페은평뉴타운', '강남푸드마켓미소', '언약커피하우스',\n       '파스쿠찌동대문APM점', '회화나무로스터스', '가비애', '귀젤커피', '차칸커피', '훈고링고브레드', '커피팡',\n       '공차압구정로데오점', '카페티라수', 'CNNCAFE한양대역점', '학다방', 'The드림', '이디야커피양재AT점',\n       'Anscoffee', '스타벅스남부터미널2점', '킹콩쥬스엔커피', '이디아커피', '금산인삼집', '커피에반하다',\n       '마이시크릿메이트', '제일커피', 'CACAOCLOCK카카오클락', 'ANDO', '더북이대점', '카페라파미',\n       '커피에반하다신림역점신림역점', 'CAFEWONDER카페원더', '커플팔찌만들기STAY', '만동제과', '오토카페',\n       '까페마르도', 'COFFEEBEAN영동2교사거리점', '명인박남커피', '아마스빈코리아목동파리공원점', '지브릭커피',\n       '토프레소', '까페띠아모', '카페서로', '커피니종합운동장역점', '난곡제과', '그라찌에', '라온커피',\n       '칼라커피숍', '스(HUFS)동문커피', '달콤퐁당', '주연커피숍', '잠바주스용산미군기지점', 'w카페',\n       '커피볶는집와플에숍', '뉴웨이브커피로스터스', '동작노을카페', '스타벅스미아사거리역점', '드롭오가닉커피',\n       '카페엔', '언커먼그라운드커피카페', '네스카페디엠씨상암', '공차어린이대공원역점', 'WAFFINGCOFFEE',\n       '스테이지비', '카페디키미'], dtype=object)"
     },
     "execution_count": 51,
     "metadata": {},
     "output_type": "execute_result"
    }
   ],
   "source": [
    "df_seoul_coffee.상호명.unique()[:100]"
   ],
   "metadata": {
    "collapsed": false,
    "pycharm": {
     "name": "#%%\n"
    }
   }
  },
  {
   "cell_type": "code",
   "execution_count": 52,
   "outputs": [
    {
     "name": "stdout",
     "output_type": "stream",
     "text": [
      "전국 스타벅스 점포 수: 1509\n"
     ]
    },
    {
     "data": {
      "text/plain": "     상권업종중분류명          상호명   시도명\n0      커피점/카페   스타벅스강릉안목항점   강원도\n1      커피점/카페  스타벅스춘천후평DT점   강원도\n2      커피점/카페         스타벅스   강원도\n3      커피점/카페  스타벅스설악워터피아점   강원도\n4      커피점/카페         스타벅스   강원도\n...       ...          ...   ...\n1504   커피점/카페         스타벅스  충청북도\n1505   커피점/카페         스타벅스  충청북도\n1506   커피점/카페         스타벅스  충청북도\n1507   커피점/카페         스타벅스  충청북도\n1508   커피점/카페         스타벅스  충청북도\n\n[1509 rows x 3 columns]",
      "text/html": "<div>\n<style scoped>\n    .dataframe tbody tr th:only-of-type {\n        vertical-align: middle;\n    }\n\n    .dataframe tbody tr th {\n        vertical-align: top;\n    }\n\n    .dataframe thead th {\n        text-align: right;\n    }\n</style>\n<table border=\"1\" class=\"dataframe\">\n  <thead>\n    <tr style=\"text-align: right;\">\n      <th></th>\n      <th>상권업종중분류명</th>\n      <th>상호명</th>\n      <th>시도명</th>\n    </tr>\n  </thead>\n  <tbody>\n    <tr>\n      <th>0</th>\n      <td>커피점/카페</td>\n      <td>스타벅스강릉안목항점</td>\n      <td>강원도</td>\n    </tr>\n    <tr>\n      <th>1</th>\n      <td>커피점/카페</td>\n      <td>스타벅스춘천후평DT점</td>\n      <td>강원도</td>\n    </tr>\n    <tr>\n      <th>2</th>\n      <td>커피점/카페</td>\n      <td>스타벅스</td>\n      <td>강원도</td>\n    </tr>\n    <tr>\n      <th>3</th>\n      <td>커피점/카페</td>\n      <td>스타벅스설악워터피아점</td>\n      <td>강원도</td>\n    </tr>\n    <tr>\n      <th>4</th>\n      <td>커피점/카페</td>\n      <td>스타벅스</td>\n      <td>강원도</td>\n    </tr>\n    <tr>\n      <th>...</th>\n      <td>...</td>\n      <td>...</td>\n      <td>...</td>\n    </tr>\n    <tr>\n      <th>1504</th>\n      <td>커피점/카페</td>\n      <td>스타벅스</td>\n      <td>충청북도</td>\n    </tr>\n    <tr>\n      <th>1505</th>\n      <td>커피점/카페</td>\n      <td>스타벅스</td>\n      <td>충청북도</td>\n    </tr>\n    <tr>\n      <th>1506</th>\n      <td>커피점/카페</td>\n      <td>스타벅스</td>\n      <td>충청북도</td>\n    </tr>\n    <tr>\n      <th>1507</th>\n      <td>커피점/카페</td>\n      <td>스타벅스</td>\n      <td>충청북도</td>\n    </tr>\n    <tr>\n      <th>1508</th>\n      <td>커피점/카페</td>\n      <td>스타벅스</td>\n      <td>충청북도</td>\n    </tr>\n  </tbody>\n</table>\n<p>1509 rows × 3 columns</p>\n</div>"
     },
     "execution_count": 52,
     "metadata": {},
     "output_type": "execute_result"
    }
   ],
   "source": [
    "df_starbucks=df_coffee[df_coffee.상호명.str.contains(\"스타벅스\")]\n",
    "df_starbucks.index=range(len(df_starbucks))\n",
    "print('전국 스타벅스 점포 수:', len(df_starbucks))\n",
    "df_starbucks"
   ],
   "metadata": {
    "collapsed": false,
    "pycharm": {
     "name": "#%%\n"
    }
   }
  },
  {
   "cell_type": "code",
   "execution_count": 53,
   "outputs": [
    {
     "name": "stdout",
     "output_type": "stream",
     "text": [
      "서울시 내 스타벅스 점포 수:  466\n"
     ]
    },
    {
     "data": {
      "text/plain": "    상권업종중분류명          상호명    시도명\n0     커피점/카페         스타벅스  서울특별시\n1     커피점/카페  스타벅스남부터미널2점  서울특별시\n2     커피점/카페         스타벅스  서울특별시\n3     커피점/카페  스타벅스미아사거리역점  서울특별시\n4     커피점/카페         스타벅스  서울특별시\n..       ...          ...    ...\n461   커피점/카페         스타벅스  서울특별시\n462   커피점/카페         스타벅스  서울특별시\n463   커피점/카페         스타벅스  서울특별시\n464   커피점/카페     스타벅스경복궁역  서울특별시\n465   커피점/카페    스타벅스명동메트로  서울특별시\n\n[466 rows x 3 columns]",
      "text/html": "<div>\n<style scoped>\n    .dataframe tbody tr th:only-of-type {\n        vertical-align: middle;\n    }\n\n    .dataframe tbody tr th {\n        vertical-align: top;\n    }\n\n    .dataframe thead th {\n        text-align: right;\n    }\n</style>\n<table border=\"1\" class=\"dataframe\">\n  <thead>\n    <tr style=\"text-align: right;\">\n      <th></th>\n      <th>상권업종중분류명</th>\n      <th>상호명</th>\n      <th>시도명</th>\n    </tr>\n  </thead>\n  <tbody>\n    <tr>\n      <th>0</th>\n      <td>커피점/카페</td>\n      <td>스타벅스</td>\n      <td>서울특별시</td>\n    </tr>\n    <tr>\n      <th>1</th>\n      <td>커피점/카페</td>\n      <td>스타벅스남부터미널2점</td>\n      <td>서울특별시</td>\n    </tr>\n    <tr>\n      <th>2</th>\n      <td>커피점/카페</td>\n      <td>스타벅스</td>\n      <td>서울특별시</td>\n    </tr>\n    <tr>\n      <th>3</th>\n      <td>커피점/카페</td>\n      <td>스타벅스미아사거리역점</td>\n      <td>서울특별시</td>\n    </tr>\n    <tr>\n      <th>4</th>\n      <td>커피점/카페</td>\n      <td>스타벅스</td>\n      <td>서울특별시</td>\n    </tr>\n    <tr>\n      <th>...</th>\n      <td>...</td>\n      <td>...</td>\n      <td>...</td>\n    </tr>\n    <tr>\n      <th>461</th>\n      <td>커피점/카페</td>\n      <td>스타벅스</td>\n      <td>서울특별시</td>\n    </tr>\n    <tr>\n      <th>462</th>\n      <td>커피점/카페</td>\n      <td>스타벅스</td>\n      <td>서울특별시</td>\n    </tr>\n    <tr>\n      <th>463</th>\n      <td>커피점/카페</td>\n      <td>스타벅스</td>\n      <td>서울특별시</td>\n    </tr>\n    <tr>\n      <th>464</th>\n      <td>커피점/카페</td>\n      <td>스타벅스경복궁역</td>\n      <td>서울특별시</td>\n    </tr>\n    <tr>\n      <th>465</th>\n      <td>커피점/카페</td>\n      <td>스타벅스명동메트로</td>\n      <td>서울특별시</td>\n    </tr>\n  </tbody>\n</table>\n<p>466 rows × 3 columns</p>\n</div>"
     },
     "execution_count": 53,
     "metadata": {},
     "output_type": "execute_result"
    }
   ],
   "source": [
    "df_seoul_starbucks=df_starbucks.loc[df_starbucks.시도명==\"서울특별시\", :]\n",
    "df_seoul_starbucks.index=range(len(df_seoul_starbucks))\n",
    "print('서울시 내 스타벅스 점포 수: ', len(df_seoul_starbucks))\n",
    "df_seoul_starbucks"
   ],
   "metadata": {
    "collapsed": false,
    "pycharm": {
     "name": "#%%\n"
    }
   }
  },
  {
   "cell_type": "code",
   "execution_count": 57,
   "outputs": [
    {
     "name": "stdout",
     "output_type": "stream",
     "text": [
      "전국 이디야 점포 수: 2117\n"
     ]
    },
    {
     "data": {
      "text/plain": "     상권업종중분류명         상호명   시도명\n0      커피점/카페       이디야커피   강원도\n1      커피점/카페       이디야커피   강원도\n2      커피점/카페       이디야커피   강원도\n3      커피점/카페       이디야커피   강원도\n4      커피점/카페       이디야커피   강원도\n...       ...         ...   ...\n2112   커피점/카페       이디야커피  충청북도\n2113   커피점/카페       이디야커피  충청북도\n2114   커피점/카페  이디야커피청주분평점  충청북도\n2115   커피점/카페       이디야커피  충청북도\n2116   커피점/카페       이디야커피  충청북도\n\n[2117 rows x 3 columns]",
      "text/html": "<div>\n<style scoped>\n    .dataframe tbody tr th:only-of-type {\n        vertical-align: middle;\n    }\n\n    .dataframe tbody tr th {\n        vertical-align: top;\n    }\n\n    .dataframe thead th {\n        text-align: right;\n    }\n</style>\n<table border=\"1\" class=\"dataframe\">\n  <thead>\n    <tr style=\"text-align: right;\">\n      <th></th>\n      <th>상권업종중분류명</th>\n      <th>상호명</th>\n      <th>시도명</th>\n    </tr>\n  </thead>\n  <tbody>\n    <tr>\n      <th>0</th>\n      <td>커피점/카페</td>\n      <td>이디야커피</td>\n      <td>강원도</td>\n    </tr>\n    <tr>\n      <th>1</th>\n      <td>커피점/카페</td>\n      <td>이디야커피</td>\n      <td>강원도</td>\n    </tr>\n    <tr>\n      <th>2</th>\n      <td>커피점/카페</td>\n      <td>이디야커피</td>\n      <td>강원도</td>\n    </tr>\n    <tr>\n      <th>3</th>\n      <td>커피점/카페</td>\n      <td>이디야커피</td>\n      <td>강원도</td>\n    </tr>\n    <tr>\n      <th>4</th>\n      <td>커피점/카페</td>\n      <td>이디야커피</td>\n      <td>강원도</td>\n    </tr>\n    <tr>\n      <th>...</th>\n      <td>...</td>\n      <td>...</td>\n      <td>...</td>\n    </tr>\n    <tr>\n      <th>2112</th>\n      <td>커피점/카페</td>\n      <td>이디야커피</td>\n      <td>충청북도</td>\n    </tr>\n    <tr>\n      <th>2113</th>\n      <td>커피점/카페</td>\n      <td>이디야커피</td>\n      <td>충청북도</td>\n    </tr>\n    <tr>\n      <th>2114</th>\n      <td>커피점/카페</td>\n      <td>이디야커피청주분평점</td>\n      <td>충청북도</td>\n    </tr>\n    <tr>\n      <th>2115</th>\n      <td>커피점/카페</td>\n      <td>이디야커피</td>\n      <td>충청북도</td>\n    </tr>\n    <tr>\n      <th>2116</th>\n      <td>커피점/카페</td>\n      <td>이디야커피</td>\n      <td>충청북도</td>\n    </tr>\n  </tbody>\n</table>\n<p>2117 rows × 3 columns</p>\n</div>"
     },
     "execution_count": 57,
     "metadata": {},
     "output_type": "execute_result"
    }
   ],
   "source": [
    "df_ediya=df_coffee[df_coffee.상호명.str.contains(\"이디야\")]\n",
    "df_ediya.index=range(len(df_ediya))\n",
    "print('전국 이디야 점포 수:', len(df_ediya))\n",
    "df_ediya"
   ],
   "metadata": {
    "collapsed": false,
    "pycharm": {
     "name": "#%%\n"
    }
   }
  },
  {
   "cell_type": "code",
   "execution_count": 58,
   "outputs": [
    {
     "name": "stdout",
     "output_type": "stream",
     "text": [
      "서울시 내 이디야 점포 수:  427\n"
     ]
    },
    {
     "data": {
      "text/plain": "    상권업종중분류명         상호명    시도명\n0     커피점/카페       이디야커피  서울특별시\n1     커피점/카페       이디야커피  서울특별시\n2     커피점/카페  이디야커피양재AT점  서울특별시\n3     커피점/카페       이디야커피  서울특별시\n4     커피점/카페       이디야커피  서울특별시\n..       ...         ...    ...\n422   커피점/카페       이디야커피  서울특별시\n423   커피점/카페       이디야커피  서울특별시\n424   커피점/카페       이디야커피  서울특별시\n425   커피점/카페       이디야커피  서울특별시\n426   커피점/카페       이디야커피  서울특별시\n\n[427 rows x 3 columns]",
      "text/html": "<div>\n<style scoped>\n    .dataframe tbody tr th:only-of-type {\n        vertical-align: middle;\n    }\n\n    .dataframe tbody tr th {\n        vertical-align: top;\n    }\n\n    .dataframe thead th {\n        text-align: right;\n    }\n</style>\n<table border=\"1\" class=\"dataframe\">\n  <thead>\n    <tr style=\"text-align: right;\">\n      <th></th>\n      <th>상권업종중분류명</th>\n      <th>상호명</th>\n      <th>시도명</th>\n    </tr>\n  </thead>\n  <tbody>\n    <tr>\n      <th>0</th>\n      <td>커피점/카페</td>\n      <td>이디야커피</td>\n      <td>서울특별시</td>\n    </tr>\n    <tr>\n      <th>1</th>\n      <td>커피점/카페</td>\n      <td>이디야커피</td>\n      <td>서울특별시</td>\n    </tr>\n    <tr>\n      <th>2</th>\n      <td>커피점/카페</td>\n      <td>이디야커피양재AT점</td>\n      <td>서울특별시</td>\n    </tr>\n    <tr>\n      <th>3</th>\n      <td>커피점/카페</td>\n      <td>이디야커피</td>\n      <td>서울특별시</td>\n    </tr>\n    <tr>\n      <th>4</th>\n      <td>커피점/카페</td>\n      <td>이디야커피</td>\n      <td>서울특별시</td>\n    </tr>\n    <tr>\n      <th>...</th>\n      <td>...</td>\n      <td>...</td>\n      <td>...</td>\n    </tr>\n    <tr>\n      <th>422</th>\n      <td>커피점/카페</td>\n      <td>이디야커피</td>\n      <td>서울특별시</td>\n    </tr>\n    <tr>\n      <th>423</th>\n      <td>커피점/카페</td>\n      <td>이디야커피</td>\n      <td>서울특별시</td>\n    </tr>\n    <tr>\n      <th>424</th>\n      <td>커피점/카페</td>\n      <td>이디야커피</td>\n      <td>서울특별시</td>\n    </tr>\n    <tr>\n      <th>425</th>\n      <td>커피점/카페</td>\n      <td>이디야커피</td>\n      <td>서울특별시</td>\n    </tr>\n    <tr>\n      <th>426</th>\n      <td>커피점/카페</td>\n      <td>이디야커피</td>\n      <td>서울특별시</td>\n    </tr>\n  </tbody>\n</table>\n<p>427 rows × 3 columns</p>\n</div>"
     },
     "execution_count": 58,
     "metadata": {},
     "output_type": "execute_result"
    }
   ],
   "source": [
    "df_seoul_ediya=df_ediya.loc[df_ediya.시도명==\"서울특별시\", :]\n",
    "df_seoul_ediya.index=range(len(df_seoul_ediya))\n",
    "print('서울시 내 이디야 점포 수: ', len(df_seoul_ediya))\n",
    "df_seoul_ediya"
   ],
   "metadata": {
    "collapsed": false,
    "pycharm": {
     "name": "#%%\n"
    }
   }
  },
  {
   "cell_type": "code",
   "execution_count": 59,
   "outputs": [
    {
     "name": "stdout",
     "output_type": "stream",
     "text": [
      "전국 투썸 점포 수: 1074\n"
     ]
    },
    {
     "data": {
      "text/plain": "     상권업종중분류명          상호명   시도명\n0      커피점/카페       투썸플레이스   강원도\n1      커피점/카페       투썸플레이스   강원도\n2      커피점/카페       투썸플레이스   강원도\n3      커피점/카페       투썸플레이스   강원도\n4      커피점/카페  투썸플레이스동해중앙점   강원도\n...       ...          ...   ...\n1069   커피점/카페       투썸플레이스  충청북도\n1070   커피점/카페       투썸플레이스  충청북도\n1071   커피점/카페       투썸플레이스  충청북도\n1072   커피점/카페       투썸플레이스  충청북도\n1073   커피점/카페       투썸플레이스  충청북도\n\n[1074 rows x 3 columns]",
      "text/html": "<div>\n<style scoped>\n    .dataframe tbody tr th:only-of-type {\n        vertical-align: middle;\n    }\n\n    .dataframe tbody tr th {\n        vertical-align: top;\n    }\n\n    .dataframe thead th {\n        text-align: right;\n    }\n</style>\n<table border=\"1\" class=\"dataframe\">\n  <thead>\n    <tr style=\"text-align: right;\">\n      <th></th>\n      <th>상권업종중분류명</th>\n      <th>상호명</th>\n      <th>시도명</th>\n    </tr>\n  </thead>\n  <tbody>\n    <tr>\n      <th>0</th>\n      <td>커피점/카페</td>\n      <td>투썸플레이스</td>\n      <td>강원도</td>\n    </tr>\n    <tr>\n      <th>1</th>\n      <td>커피점/카페</td>\n      <td>투썸플레이스</td>\n      <td>강원도</td>\n    </tr>\n    <tr>\n      <th>2</th>\n      <td>커피점/카페</td>\n      <td>투썸플레이스</td>\n      <td>강원도</td>\n    </tr>\n    <tr>\n      <th>3</th>\n      <td>커피점/카페</td>\n      <td>투썸플레이스</td>\n      <td>강원도</td>\n    </tr>\n    <tr>\n      <th>4</th>\n      <td>커피점/카페</td>\n      <td>투썸플레이스동해중앙점</td>\n      <td>강원도</td>\n    </tr>\n    <tr>\n      <th>...</th>\n      <td>...</td>\n      <td>...</td>\n      <td>...</td>\n    </tr>\n    <tr>\n      <th>1069</th>\n      <td>커피점/카페</td>\n      <td>투썸플레이스</td>\n      <td>충청북도</td>\n    </tr>\n    <tr>\n      <th>1070</th>\n      <td>커피점/카페</td>\n      <td>투썸플레이스</td>\n      <td>충청북도</td>\n    </tr>\n    <tr>\n      <th>1071</th>\n      <td>커피점/카페</td>\n      <td>투썸플레이스</td>\n      <td>충청북도</td>\n    </tr>\n    <tr>\n      <th>1072</th>\n      <td>커피점/카페</td>\n      <td>투썸플레이스</td>\n      <td>충청북도</td>\n    </tr>\n    <tr>\n      <th>1073</th>\n      <td>커피점/카페</td>\n      <td>투썸플레이스</td>\n      <td>충청북도</td>\n    </tr>\n  </tbody>\n</table>\n<p>1074 rows × 3 columns</p>\n</div>"
     },
     "execution_count": 59,
     "metadata": {},
     "output_type": "execute_result"
    }
   ],
   "source": [
    "df_2some=df_coffee[df_coffee.상호명.str.contains(\"투썸\")]\n",
    "df_2some.index=range(len(df_2some))\n",
    "print('전국 투썸 점포 수:', len(df_2some))\n",
    "df_2some"
   ],
   "metadata": {
    "collapsed": false,
    "pycharm": {
     "name": "#%%\n"
    }
   }
  },
  {
   "cell_type": "code",
   "execution_count": 61,
   "outputs": [
    {
     "name": "stdout",
     "output_type": "stream",
     "text": [
      "서울시 내 투썸 점포 수:  244\n"
     ]
    },
    {
     "data": {
      "text/plain": "    상권업종중분류명            상호명    시도명\n0     커피점/카페  투썸플레이스서울대역중앙점  서울특별시\n1     커피점/카페         투썸플레이스  서울특별시\n2     커피점/카페         투썸플레이스  서울특별시\n3     커피점/카페         투썸플레이스  서울특별시\n4     커피점/카페         투썸플레이스  서울특별시\n..       ...            ...    ...\n239   커피점/카페         투썸플레이스  서울특별시\n240   커피점/카페         투썸플레이스  서울특별시\n241   커피점/카페         투썸플레이스  서울특별시\n242   커피점/카페         투썸플레이스  서울특별시\n243   커피점/카페    투썸커피여의도IFC몰  서울특별시\n\n[244 rows x 3 columns]",
      "text/html": "<div>\n<style scoped>\n    .dataframe tbody tr th:only-of-type {\n        vertical-align: middle;\n    }\n\n    .dataframe tbody tr th {\n        vertical-align: top;\n    }\n\n    .dataframe thead th {\n        text-align: right;\n    }\n</style>\n<table border=\"1\" class=\"dataframe\">\n  <thead>\n    <tr style=\"text-align: right;\">\n      <th></th>\n      <th>상권업종중분류명</th>\n      <th>상호명</th>\n      <th>시도명</th>\n    </tr>\n  </thead>\n  <tbody>\n    <tr>\n      <th>0</th>\n      <td>커피점/카페</td>\n      <td>투썸플레이스서울대역중앙점</td>\n      <td>서울특별시</td>\n    </tr>\n    <tr>\n      <th>1</th>\n      <td>커피점/카페</td>\n      <td>투썸플레이스</td>\n      <td>서울특별시</td>\n    </tr>\n    <tr>\n      <th>2</th>\n      <td>커피점/카페</td>\n      <td>투썸플레이스</td>\n      <td>서울특별시</td>\n    </tr>\n    <tr>\n      <th>3</th>\n      <td>커피점/카페</td>\n      <td>투썸플레이스</td>\n      <td>서울특별시</td>\n    </tr>\n    <tr>\n      <th>4</th>\n      <td>커피점/카페</td>\n      <td>투썸플레이스</td>\n      <td>서울특별시</td>\n    </tr>\n    <tr>\n      <th>...</th>\n      <td>...</td>\n      <td>...</td>\n      <td>...</td>\n    </tr>\n    <tr>\n      <th>239</th>\n      <td>커피점/카페</td>\n      <td>투썸플레이스</td>\n      <td>서울특별시</td>\n    </tr>\n    <tr>\n      <th>240</th>\n      <td>커피점/카페</td>\n      <td>투썸플레이스</td>\n      <td>서울특별시</td>\n    </tr>\n    <tr>\n      <th>241</th>\n      <td>커피점/카페</td>\n      <td>투썸플레이스</td>\n      <td>서울특별시</td>\n    </tr>\n    <tr>\n      <th>242</th>\n      <td>커피점/카페</td>\n      <td>투썸플레이스</td>\n      <td>서울특별시</td>\n    </tr>\n    <tr>\n      <th>243</th>\n      <td>커피점/카페</td>\n      <td>투썸커피여의도IFC몰</td>\n      <td>서울특별시</td>\n    </tr>\n  </tbody>\n</table>\n<p>244 rows × 3 columns</p>\n</div>"
     },
     "execution_count": 61,
     "metadata": {},
     "output_type": "execute_result"
    }
   ],
   "source": [
    "df_seoul_2some=df_2some.loc[df_2some.시도명==\"서울특별시\", :]\n",
    "df_seoul_2some.index=range(len(df_seoul_2some))\n",
    "print('서울시 내 투썸 점포 수: ', len(df_seoul_2some))\n",
    "df_seoul_2some"
   ],
   "metadata": {
    "collapsed": false,
    "pycharm": {
     "name": "#%%\n"
    }
   }
  },
  {
   "cell_type": "code",
   "execution_count": 62,
   "outputs": [
    {
     "name": "stdout",
     "output_type": "stream",
     "text": [
      "전국 빽다방 점포 수: 788\n"
     ]
    },
    {
     "data": {
      "text/plain": "    상권업종중분류명       상호명   시도명\n0     커피점/카페       빽다방   강원도\n1     커피점/카페  빽다방동해천곡점   강원도\n2     커피점/카페       빽다방   강원도\n3     커피점/카페       빽다방   강원도\n4     커피점/카페       빽다방   강원도\n..       ...       ...   ...\n783   커피점/카페       빽다방  충청북도\n784   커피점/카페       빽다방  충청북도\n785   커피점/카페       빽다방  충청북도\n786   커피점/카페       빽다방  충청북도\n787   커피점/카페       빽다방  충청북도\n\n[788 rows x 3 columns]",
      "text/html": "<div>\n<style scoped>\n    .dataframe tbody tr th:only-of-type {\n        vertical-align: middle;\n    }\n\n    .dataframe tbody tr th {\n        vertical-align: top;\n    }\n\n    .dataframe thead th {\n        text-align: right;\n    }\n</style>\n<table border=\"1\" class=\"dataframe\">\n  <thead>\n    <tr style=\"text-align: right;\">\n      <th></th>\n      <th>상권업종중분류명</th>\n      <th>상호명</th>\n      <th>시도명</th>\n    </tr>\n  </thead>\n  <tbody>\n    <tr>\n      <th>0</th>\n      <td>커피점/카페</td>\n      <td>빽다방</td>\n      <td>강원도</td>\n    </tr>\n    <tr>\n      <th>1</th>\n      <td>커피점/카페</td>\n      <td>빽다방동해천곡점</td>\n      <td>강원도</td>\n    </tr>\n    <tr>\n      <th>2</th>\n      <td>커피점/카페</td>\n      <td>빽다방</td>\n      <td>강원도</td>\n    </tr>\n    <tr>\n      <th>3</th>\n      <td>커피점/카페</td>\n      <td>빽다방</td>\n      <td>강원도</td>\n    </tr>\n    <tr>\n      <th>4</th>\n      <td>커피점/카페</td>\n      <td>빽다방</td>\n      <td>강원도</td>\n    </tr>\n    <tr>\n      <th>...</th>\n      <td>...</td>\n      <td>...</td>\n      <td>...</td>\n    </tr>\n    <tr>\n      <th>783</th>\n      <td>커피점/카페</td>\n      <td>빽다방</td>\n      <td>충청북도</td>\n    </tr>\n    <tr>\n      <th>784</th>\n      <td>커피점/카페</td>\n      <td>빽다방</td>\n      <td>충청북도</td>\n    </tr>\n    <tr>\n      <th>785</th>\n      <td>커피점/카페</td>\n      <td>빽다방</td>\n      <td>충청북도</td>\n    </tr>\n    <tr>\n      <th>786</th>\n      <td>커피점/카페</td>\n      <td>빽다방</td>\n      <td>충청북도</td>\n    </tr>\n    <tr>\n      <th>787</th>\n      <td>커피점/카페</td>\n      <td>빽다방</td>\n      <td>충청북도</td>\n    </tr>\n  </tbody>\n</table>\n<p>788 rows × 3 columns</p>\n</div>"
     },
     "execution_count": 62,
     "metadata": {},
     "output_type": "execute_result"
    }
   ],
   "source": [
    "df_bbaek=df_coffee[df_coffee.상호명.str.contains(\"빽\")]\n",
    "df_bbaek.index=range(len(df_bbaek))\n",
    "print('전국 빽다방 점포 수:', len(df_bbaek))\n",
    "df_bbaek"
   ],
   "metadata": {
    "collapsed": false,
    "pycharm": {
     "name": "#%%\n"
    }
   }
  },
  {
   "cell_type": "code",
   "execution_count": 63,
   "outputs": [
    {
     "name": "stdout",
     "output_type": "stream",
     "text": [
      "서울시 내 빽다방 점포 수:  157\n"
     ]
    },
    {
     "data": {
      "text/plain": "    상권업종중분류명          상호명    시도명\n0     커피점/카페    빽다방공덕새창로점  서울특별시\n1     커피점/카페     빽다방서초우성점  서울특별시\n2     커피점/카페  빽다방중계은행사거리점  서울특별시\n3     커피점/카페     빽다방성신여대점  서울특별시\n4     커피점/카페    빽다방신림역1호점  서울특별시\n..       ...          ...    ...\n152   커피점/카페          빽다방  서울특별시\n153   커피점/카페          빽다방  서울특별시\n154   커피점/카페          빽다방  서울특별시\n155   커피점/카페          빽다방  서울특별시\n156   커피점/카페          빽다방  서울특별시\n\n[157 rows x 3 columns]",
      "text/html": "<div>\n<style scoped>\n    .dataframe tbody tr th:only-of-type {\n        vertical-align: middle;\n    }\n\n    .dataframe tbody tr th {\n        vertical-align: top;\n    }\n\n    .dataframe thead th {\n        text-align: right;\n    }\n</style>\n<table border=\"1\" class=\"dataframe\">\n  <thead>\n    <tr style=\"text-align: right;\">\n      <th></th>\n      <th>상권업종중분류명</th>\n      <th>상호명</th>\n      <th>시도명</th>\n    </tr>\n  </thead>\n  <tbody>\n    <tr>\n      <th>0</th>\n      <td>커피점/카페</td>\n      <td>빽다방공덕새창로점</td>\n      <td>서울특별시</td>\n    </tr>\n    <tr>\n      <th>1</th>\n      <td>커피점/카페</td>\n      <td>빽다방서초우성점</td>\n      <td>서울특별시</td>\n    </tr>\n    <tr>\n      <th>2</th>\n      <td>커피점/카페</td>\n      <td>빽다방중계은행사거리점</td>\n      <td>서울특별시</td>\n    </tr>\n    <tr>\n      <th>3</th>\n      <td>커피점/카페</td>\n      <td>빽다방성신여대점</td>\n      <td>서울특별시</td>\n    </tr>\n    <tr>\n      <th>4</th>\n      <td>커피점/카페</td>\n      <td>빽다방신림역1호점</td>\n      <td>서울특별시</td>\n    </tr>\n    <tr>\n      <th>...</th>\n      <td>...</td>\n      <td>...</td>\n      <td>...</td>\n    </tr>\n    <tr>\n      <th>152</th>\n      <td>커피점/카페</td>\n      <td>빽다방</td>\n      <td>서울특별시</td>\n    </tr>\n    <tr>\n      <th>153</th>\n      <td>커피점/카페</td>\n      <td>빽다방</td>\n      <td>서울특별시</td>\n    </tr>\n    <tr>\n      <th>154</th>\n      <td>커피점/카페</td>\n      <td>빽다방</td>\n      <td>서울특별시</td>\n    </tr>\n    <tr>\n      <th>155</th>\n      <td>커피점/카페</td>\n      <td>빽다방</td>\n      <td>서울특별시</td>\n    </tr>\n    <tr>\n      <th>156</th>\n      <td>커피점/카페</td>\n      <td>빽다방</td>\n      <td>서울특별시</td>\n    </tr>\n  </tbody>\n</table>\n<p>157 rows × 3 columns</p>\n</div>"
     },
     "execution_count": 63,
     "metadata": {},
     "output_type": "execute_result"
    }
   ],
   "source": [
    "df_seoul_bbaek=df_bbaek.loc[df_bbaek.시도명==\"서울특별시\", :]\n",
    "df_seoul_bbaek.index=range(len(df_seoul_bbaek))\n",
    "print('서울시 내 빽다방 점포 수: ', len(df_seoul_bbaek))\n",
    "df_seoul_bbaek"
   ],
   "metadata": {
    "collapsed": false,
    "pycharm": {
     "name": "#%%\n"
    }
   }
  },
  {
   "cell_type": "markdown",
   "source": [
    "## 전체 커피 전문점 내 주요 커피 브랜드 입점 비율"
   ],
   "metadata": {
    "collapsed": false,
    "pycharm": {
     "name": "#%% md\n"
    }
   }
  },
  {
   "cell_type": "code",
   "execution_count": 66,
   "outputs": [
    {
     "name": "stdout",
     "output_type": "stream",
     "text": [
      "**** 전국 커피전문점 중 주요 3대 커피브랜드 입점 비율 **** \n",
      "4.40\n"
     ]
    }
   ],
   "source": [
    "print(\"**** 전국 커피전문점 중 주요 3대 커피브랜드 입점 비율 **** \")\n",
    "major_cafe_rate=(len(df_starbucks)+len(df_ediya)+len(df_2some))/len(df_coffee)\n",
    "print(\"%.2f\" % (major_cafe_rate*100))"
   ],
   "metadata": {
    "collapsed": false,
    "pycharm": {
     "name": "#%%\n"
    }
   }
  },
  {
   "cell_type": "markdown",
   "source": [
    "# 서울 커피 전문점 내 주요 커피 브랜드 입점 비율"
   ],
   "metadata": {
    "collapsed": false,
    "pycharm": {
     "name": "#%% md\n"
    }
   }
  },
  {
   "cell_type": "code",
   "execution_count": 69,
   "outputs": [
    {
     "name": "stdout",
     "output_type": "stream",
     "text": [
      "스타벅스 : 2.399%\n",
      "이디야 : 2.199%\n",
      "투썸플레이스 : 1.256%\n"
     ]
    }
   ],
   "source": [
    "print(\"스타벅스 : %.3f%%\" % (len(df_seoul_starbucks)/len(df_seoul_coffee)*100))\n",
    "print(\"이디야 : %.3f%%\" % (len(df_seoul_ediya)/len(df_seoul_coffee)*100))\n",
    "print(\"투썸플레이스 : %.3f%%\" % (len(df_seoul_2some)/len(df_seoul_coffee)*100))"
   ],
   "metadata": {
    "collapsed": false,
    "pycharm": {
     "name": "#%%\n"
    }
   }
  },
  {
   "cell_type": "markdown",
   "source": [
    "## 커피 브랜드별 서울 입점 비율"
   ],
   "metadata": {
    "collapsed": false,
    "pycharm": {
     "name": "#%% md\n"
    }
   }
  },
  {
   "cell_type": "code",
   "execution_count": 70,
   "outputs": [
    {
     "name": "stdout",
     "output_type": "stream",
     "text": [
      "스타벅스 : 30.881%\n",
      "이디야 : 20.170%\n",
      "투썸플레이스 : 22.719%\n"
     ]
    }
   ],
   "source": [
    "print(\"스타벅스 : %.3f%%\" % (len(df_seoul_starbucks)/len(df_starbucks)*100))\n",
    "print(\"이디야 : %.3f%%\" % (len(df_seoul_ediya)/len(df_ediya)*100))\n",
    "print(\"투썸플레이스 : %.3f%%\" % (len(df_seoul_2some)/len(df_2some)*100))"
   ],
   "metadata": {
    "collapsed": false,
    "pycharm": {
     "name": "#%%\n"
    }
   }
  },
  {
   "cell_type": "code",
   "execution_count": 80,
   "outputs": [
    {
     "name": "stderr",
     "output_type": "stream",
     "text": [
      "c:\\users\\jpc10\\ideaprojects\\untitled\\venv\\lib\\site-packages\\IPython\\core\\pylabtools.py:151: UserWarning: Glyph 49828 (\\N{HANGUL SYLLABLE SEU}) missing from current font.\n",
      "  fig.canvas.print_figure(bytes_io, **kw)\n",
      "c:\\users\\jpc10\\ideaprojects\\untitled\\venv\\lib\\site-packages\\IPython\\core\\pylabtools.py:151: UserWarning: Glyph 53440 (\\N{HANGUL SYLLABLE TA}) missing from current font.\n",
      "  fig.canvas.print_figure(bytes_io, **kw)\n",
      "c:\\users\\jpc10\\ideaprojects\\untitled\\venv\\lib\\site-packages\\IPython\\core\\pylabtools.py:151: UserWarning: Glyph 48261 (\\N{HANGUL SYLLABLE BEOG}) missing from current font.\n",
      "  fig.canvas.print_figure(bytes_io, **kw)\n",
      "c:\\users\\jpc10\\ideaprojects\\untitled\\venv\\lib\\site-packages\\IPython\\core\\pylabtools.py:151: UserWarning: Glyph 53804 (\\N{HANGUL SYLLABLE TU}) missing from current font.\n",
      "  fig.canvas.print_figure(bytes_io, **kw)\n",
      "c:\\users\\jpc10\\ideaprojects\\untitled\\venv\\lib\\site-packages\\IPython\\core\\pylabtools.py:151: UserWarning: Glyph 50040 (\\N{HANGUL SYLLABLE SSEOM}) missing from current font.\n",
      "  fig.canvas.print_figure(bytes_io, **kw)\n",
      "c:\\users\\jpc10\\ideaprojects\\untitled\\venv\\lib\\site-packages\\IPython\\core\\pylabtools.py:151: UserWarning: Glyph 51060 (\\N{HANGUL SYLLABLE I}) missing from current font.\n",
      "  fig.canvas.print_figure(bytes_io, **kw)\n",
      "c:\\users\\jpc10\\ideaprojects\\untitled\\venv\\lib\\site-packages\\IPython\\core\\pylabtools.py:151: UserWarning: Glyph 46356 (\\N{HANGUL SYLLABLE DI}) missing from current font.\n",
      "  fig.canvas.print_figure(bytes_io, **kw)\n",
      "c:\\users\\jpc10\\ideaprojects\\untitled\\venv\\lib\\site-packages\\IPython\\core\\pylabtools.py:151: UserWarning: Glyph 50556 (\\N{HANGUL SYLLABLE YA}) missing from current font.\n",
      "  fig.canvas.print_figure(bytes_io, **kw)\n",
      "c:\\users\\jpc10\\ideaprojects\\untitled\\venv\\lib\\site-packages\\IPython\\core\\pylabtools.py:151: UserWarning: Glyph 52964 (\\N{HANGUL SYLLABLE KEO}) missing from current font.\n",
      "  fig.canvas.print_figure(bytes_io, **kw)\n",
      "c:\\users\\jpc10\\ideaprojects\\untitled\\venv\\lib\\site-packages\\IPython\\core\\pylabtools.py:151: UserWarning: Glyph 54588 (\\N{HANGUL SYLLABLE PI}) missing from current font.\n",
      "  fig.canvas.print_figure(bytes_io, **kw)\n",
      "c:\\users\\jpc10\\ideaprojects\\untitled\\venv\\lib\\site-packages\\IPython\\core\\pylabtools.py:151: UserWarning: Glyph 48652 (\\N{HANGUL SYLLABLE BEU}) missing from current font.\n",
      "  fig.canvas.print_figure(bytes_io, **kw)\n",
      "c:\\users\\jpc10\\ideaprojects\\untitled\\venv\\lib\\site-packages\\IPython\\core\\pylabtools.py:151: UserWarning: Glyph 47004 (\\N{HANGUL SYLLABLE RAEN}) missing from current font.\n",
      "  fig.canvas.print_figure(bytes_io, **kw)\n",
      "c:\\users\\jpc10\\ideaprojects\\untitled\\venv\\lib\\site-packages\\IPython\\core\\pylabtools.py:151: UserWarning: Glyph 46300 (\\N{HANGUL SYLLABLE DEU}) missing from current font.\n",
      "  fig.canvas.print_figure(bytes_io, **kw)\n",
      "c:\\users\\jpc10\\ideaprojects\\untitled\\venv\\lib\\site-packages\\IPython\\core\\pylabtools.py:151: UserWarning: Glyph 49436 (\\N{HANGUL SYLLABLE SEO}) missing from current font.\n",
      "  fig.canvas.print_figure(bytes_io, **kw)\n",
      "c:\\users\\jpc10\\ideaprojects\\untitled\\venv\\lib\\site-packages\\IPython\\core\\pylabtools.py:151: UserWarning: Glyph 50872 (\\N{HANGUL SYLLABLE UL}) missing from current font.\n",
      "  fig.canvas.print_figure(bytes_io, **kw)\n",
      "c:\\users\\jpc10\\ideaprojects\\untitled\\venv\\lib\\site-packages\\IPython\\core\\pylabtools.py:151: UserWarning: Glyph 51077 (\\N{HANGUL SYLLABLE IB}) missing from current font.\n",
      "  fig.canvas.print_figure(bytes_io, **kw)\n",
      "c:\\users\\jpc10\\ideaprojects\\untitled\\venv\\lib\\site-packages\\IPython\\core\\pylabtools.py:151: UserWarning: Glyph 51216 (\\N{HANGUL SYLLABLE JEOM}) missing from current font.\n",
      "  fig.canvas.print_figure(bytes_io, **kw)\n",
      "c:\\users\\jpc10\\ideaprojects\\untitled\\venv\\lib\\site-packages\\IPython\\core\\pylabtools.py:151: UserWarning: Glyph 48708 (\\N{HANGUL SYLLABLE BI}) missing from current font.\n",
      "  fig.canvas.print_figure(bytes_io, **kw)\n",
      "c:\\users\\jpc10\\ideaprojects\\untitled\\venv\\lib\\site-packages\\IPython\\core\\pylabtools.py:151: UserWarning: Glyph 50984 (\\N{HANGUL SYLLABLE YUL}) missing from current font.\n",
      "  fig.canvas.print_figure(bytes_io, **kw)\n"
     ]
    },
    {
     "data": {
      "text/plain": "<Figure size 576x432 with 1 Axes>",
      "image/png": "[encoded data removed]"
     },
     "metadata": {
      "needs_background": "light"
     },
     "output_type": "display_data"
    }
   ],
   "source": [
    "# 주요 3대 커피브랜드별 서울 입점 비율 시각화\n",
    "top3_cafe=pd.DataFrame({\"커피브랜드\":[\"스타벅스\", \"투썸\", \"이디야\"], \"서울입점비율(%)\":[31.071, 19.952,23.218]})\n",
    "top3_cafe\n",
    "plt.figure(figsize=(8,6))\n",
    "sns.barplot(data=top3_cafe, x=\"커피브랜드\", y=\"서울입점비율(%)\")\n",
    "plt.show()"
   ],
   "metadata": {
    "collapsed": false,
    "pycharm": {
     "name": "#%%\n"
    }
   }
  },
  {
   "cell_type": "code",
   "execution_count": null,
   "outputs": [],
   "source": [],
   "metadata": {
    "collapsed": false,
    "pycharm": {
     "name": "#%%\n"
    }
   }
  }
 ],
 "metadata": {
  "kernelspec": {
   "display_name": "Python 3",
   "language": "python",
   "name": "python3"
  },
  "language_info": {
   "codemirror_mode": {
    "name": "ipython",
    "version": 2
   },
   "file_extension": ".py",
   "mimetype": "text/x-python",
   "name": "python",
   "nbconvert_exporter": "python",
   "pygments_lexer": "ipython2",
   "version": "2.7.6"
  }
 },
 "nbformat": 4,
 "nbformat_minor": 0
}