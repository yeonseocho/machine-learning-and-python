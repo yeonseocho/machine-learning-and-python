{
 "cells": [
  {
   "cell_type": "code",
   "execution_count": 42,
   "metadata": {
    "collapsed": true
   },
   "outputs": [],
   "source": [
    "import numpy as np\n",
    "import pandas as pd\n",
    "import matplotlib.pyplot as plt\n",
    "import seaborn as sns\n",
    "\n",
    "from glob import glob\n",
    "import os"
   ]
  },
  {
   "cell_type": "code",
   "execution_count": 43,
   "outputs": [
    {
     "data": {
      "text/plain": "          상가업소번호         상호명    지점명 상권업종대분류코드 상권업종대분류명 상권업종중분류코드   상권업종중분류명  \\\n0       23324279       제중건강원    NaN         D       소매       D10    건강/미용식품   \n1       24525909       민속악기사    NaN         D       소매       D04  취미/오락관련소매   \n2       24715368       태평양진주    NaN         D       소매       D26   시계/귀금속소매   \n3       15554136  김선희꼼꼼국어교습소    NaN         R    학문/교육       R01  학원-보습교습입시   \n4       17174175         비지트    NaN         Q       음식       Q01         한식   \n...          ...         ...    ...       ...      ...       ...        ...   \n330822   9032765    글로리아진스커피    NaN         Q       음식       Q12     커피점/카페   \n330823   9093595          김밥    NaN         Q       음식       Q04         분식   \n330824   9099241  더페이스샵아차산역점  아차산역점         D       소매       D16      화장품소매   \n330825   9160309     CU자곡현대점  자곡현대점         D       소매       D03      종합소매점   \n330826   9173533      EYAGI2    NaN         Q       음식       Q01         한식   \n\n       상권업종소분류코드     상권업종소분류명 표준산업분류코드  ...                     건물관리번호  \\\n0         D10A07          건강원   G47216  ...  1156010600100410002034626   \n1         D04A09         악기판매   G47593  ...  1120012200101420011000227   \n2         D26A01       시계/귀금속   G47830  ...  1111015200100440000000001   \n3         R01A01        학원-입시   P85501  ...  1171011100101970003017195   \n4         Q01A01    한식/백반/한정식   I56111  ...  1165010100108540018009586   \n...          ...          ...      ...  ...                        ...   \n330822    Q12A01  커피전문점/카페/다방   I56220  ...  1165010300106860000000001   \n330823    Q04A01       라면김밥분식   I56194  ...  1171010800104090003000001   \n330824    D16A01       화장품판매점   G47813  ...  1121510200102400029005869   \n330825    D03A01          편의점   G47122  ...  1168011200103950004000001   \n330826    Q01A01    한식/백반/한정식   I56111  ...  1165010300106860000000001   \n\n             건물명                    도로명주소   구우편번호   신우편번호  동정보  층정보  호정보  \\\n0            NaN  서울특별시 영등포구 영중로14길 11-17  150035  7250.0  NaN    1  NaN   \n1            NaN         서울특별시 성동구 용답5길 2  133849  4803.0  NaN  NaN  NaN   \n2         금사랑투빌딩     서울특별시 종로구 서순라길 17-10  110390  3138.0  NaN  NaN  NaN   \n3            NaN    서울특별시 송파구 위례성대로12길 31  138834  5640.0  NaN    2  NaN   \n4          상랑의빌딩      서울특별시 서초구 동광로18길 82  137837  6572.0  NaN    1  NaN   \n...          ...                      ...     ...     ...  ...  ...  ...   \n330822    삼성프라자1        서울특별시 서초구 성촌1길 26  137901  6765.0  NaN    2  NaN   \n330823    가든파이브툴         서울특별시 송파구 충민로 10  138200  5840.0  NaN    1  NaN   \n330824     아성빌라트   서울특별시 광진구 능동로32길 82-58  143849  4988.0  NaN    1  NaN   \n330825  강남유탑유블레스        서울특별시 강남구 자곡로 180  135200  6373.0  NaN    1  NaN   \n330826    삼성프라자1        서울특별시 서초구 성촌1길 26  137901  6765.0  NaN    1  NaN   \n\n                경도         위도  \n0       126.907168  37.520613  \n1       127.049018  37.566857  \n2       126.993530  37.571848  \n3       127.121520  37.510967  \n4       126.991394  37.488375  \n...            ...        ...  \n330822  127.021354  37.465397  \n330823  127.119371  37.478261  \n330824  127.082117  37.552990  \n330825  127.103347  37.473707  \n330826  127.021354  37.465397  \n\n[330827 rows x 39 columns]",
      "text/html": "<div>\n<style scoped>\n    .dataframe tbody tr th:only-of-type {\n        vertical-align: middle;\n    }\n\n    .dataframe tbody tr th {\n        vertical-align: top;\n    }\n\n    .dataframe thead th {\n        text-align: right;\n    }\n</style>\n<table border=\"1\" class=\"dataframe\">\n  <thead>\n    <tr style=\"text-align: right;\">\n      <th></th>\n      <th>상가업소번호</th>\n      <th>상호명</th>\n      <th>지점명</th>\n      <th>상권업종대분류코드</th>\n      <th>상권업종대분류명</th>\n      <th>상권업종중분류코드</th>\n      <th>상권업종중분류명</th>\n      <th>상권업종소분류코드</th>\n      <th>상권업종소분류명</th>\n      <th>표준산업분류코드</th>\n      <th>...</th>\n      <th>건물관리번호</th>\n      <th>건물명</th>\n      <th>도로명주소</th>\n      <th>구우편번호</th>\n      <th>신우편번호</th>\n      <th>동정보</th>\n      <th>층정보</th>\n      <th>호정보</th>\n      <th>경도</th>\n      <th>위도</th>\n    </tr>\n  </thead>\n  <tbody>\n    <tr>\n      <th>0</th>\n      <td>23324279</td>\n      <td>제중건강원</td>\n      <td>NaN</td>\n      <td>D</td>\n      <td>소매</td>\n      <td>D10</td>\n      <td>건강/미용식품</td>\n      <td>D10A07</td>\n      <td>건강원</td>\n      <td>G47216</td>\n      <td>...</td>\n      <td>1156010600100410002034626</td>\n      <td>NaN</td>\n      <td>서울특별시 영등포구 영중로14길 11-17</td>\n      <td>150035</td>\n      <td>7250.0</td>\n      <td>NaN</td>\n      <td>1</td>\n      <td>NaN</td>\n      <td>126.907168</td>\n      <td>37.520613</td>\n    </tr>\n    <tr>\n      <th>1</th>\n      <td>24525909</td>\n      <td>민속악기사</td>\n      <td>NaN</td>\n      <td>D</td>\n      <td>소매</td>\n      <td>D04</td>\n      <td>취미/오락관련소매</td>\n      <td>D04A09</td>\n      <td>악기판매</td>\n      <td>G47593</td>\n      <td>...</td>\n      <td>1120012200101420011000227</td>\n      <td>NaN</td>\n      <td>서울특별시 성동구 용답5길 2</td>\n      <td>133849</td>\n      <td>4803.0</td>\n      <td>NaN</td>\n      <td>NaN</td>\n      <td>NaN</td>\n      <td>127.049018</td>\n      <td>37.566857</td>\n    </tr>\n    <tr>\n      <th>2</th>\n      <td>24715368</td>\n      <td>태평양진주</td>\n      <td>NaN</td>\n      <td>D</td>\n      <td>소매</td>\n      <td>D26</td>\n      <td>시계/귀금속소매</td>\n      <td>D26A01</td>\n      <td>시계/귀금속</td>\n      <td>G47830</td>\n      <td>...</td>\n      <td>1111015200100440000000001</td>\n      <td>금사랑투빌딩</td>\n      <td>서울특별시 종로구 서순라길 17-10</td>\n      <td>110390</td>\n      <td>3138.0</td>\n      <td>NaN</td>\n      <td>NaN</td>\n      <td>NaN</td>\n      <td>126.993530</td>\n      <td>37.571848</td>\n    </tr>\n    <tr>\n      <th>3</th>\n      <td>15554136</td>\n      <td>김선희꼼꼼국어교습소</td>\n      <td>NaN</td>\n      <td>R</td>\n      <td>학문/교육</td>\n      <td>R01</td>\n      <td>학원-보습교습입시</td>\n      <td>R01A01</td>\n      <td>학원-입시</td>\n      <td>P85501</td>\n      <td>...</td>\n      <td>1171011100101970003017195</td>\n      <td>NaN</td>\n      <td>서울특별시 송파구 위례성대로12길 31</td>\n      <td>138834</td>\n      <td>5640.0</td>\n      <td>NaN</td>\n      <td>2</td>\n      <td>NaN</td>\n      <td>127.121520</td>\n      <td>37.510967</td>\n    </tr>\n    <tr>\n      <th>4</th>\n      <td>17174175</td>\n      <td>비지트</td>\n      <td>NaN</td>\n      <td>Q</td>\n      <td>음식</td>\n      <td>Q01</td>\n      <td>한식</td>\n      <td>Q01A01</td>\n      <td>한식/백반/한정식</td>\n      <td>I56111</td>\n      <td>...</td>\n      <td>1165010100108540018009586</td>\n      <td>상랑의빌딩</td>\n      <td>서울특별시 서초구 동광로18길 82</td>\n      <td>137837</td>\n      <td>6572.0</td>\n      <td>NaN</td>\n      <td>1</td>\n      <td>NaN</td>\n      <td>126.991394</td>\n      <td>37.488375</td>\n    </tr>\n    <tr>\n      <th>...</th>\n      <td>...</td>\n      <td>...</td>\n      <td>...</td>\n      <td>...</td>\n      <td>...</td>\n      <td>...</td>\n      <td>...</td>\n      <td>...</td>\n      <td>...</td>\n      <td>...</td>\n      <td>...</td>\n      <td>...</td>\n      <td>...</td>\n      <td>...</td>\n      <td>...</td>\n      <td>...</td>\n      <td>...</td>\n      <td>...</td>\n      <td>...</td>\n      <td>...</td>\n      <td>...</td>\n    </tr>\n    <tr>\n      <th>330822</th>\n      <td>9032765</td>\n      <td>글로리아진스커피</td>\n      <td>NaN</td>\n      <td>Q</td>\n      <td>음식</td>\n      <td>Q12</td>\n      <td>커피점/카페</td>\n      <td>Q12A01</td>\n      <td>커피전문점/카페/다방</td>\n      <td>I56220</td>\n      <td>...</td>\n      <td>1165010300106860000000001</td>\n      <td>삼성프라자1</td>\n      <td>서울특별시 서초구 성촌1길 26</td>\n      <td>137901</td>\n      <td>6765.0</td>\n      <td>NaN</td>\n      <td>2</td>\n      <td>NaN</td>\n      <td>127.021354</td>\n      <td>37.465397</td>\n    </tr>\n    <tr>\n      <th>330823</th>\n      <td>9093595</td>\n      <td>김밥</td>\n      <td>NaN</td>\n      <td>Q</td>\n      <td>음식</td>\n      <td>Q04</td>\n      <td>분식</td>\n      <td>Q04A01</td>\n      <td>라면김밥분식</td>\n      <td>I56194</td>\n      <td>...</td>\n      <td>1171010800104090003000001</td>\n      <td>가든파이브툴</td>\n      <td>서울특별시 송파구 충민로 10</td>\n      <td>138200</td>\n      <td>5840.0</td>\n      <td>NaN</td>\n      <td>1</td>\n      <td>NaN</td>\n      <td>127.119371</td>\n      <td>37.478261</td>\n    </tr>\n    <tr>\n      <th>330824</th>\n      <td>9099241</td>\n      <td>더페이스샵아차산역점</td>\n      <td>아차산역점</td>\n      <td>D</td>\n      <td>소매</td>\n      <td>D16</td>\n      <td>화장품소매</td>\n      <td>D16A01</td>\n      <td>화장품판매점</td>\n      <td>G47813</td>\n      <td>...</td>\n      <td>1121510200102400029005869</td>\n      <td>아성빌라트</td>\n      <td>서울특별시 광진구 능동로32길 82-58</td>\n      <td>143849</td>\n      <td>4988.0</td>\n      <td>NaN</td>\n      <td>1</td>\n      <td>NaN</td>\n      <td>127.082117</td>\n      <td>37.552990</td>\n    </tr>\n    <tr>\n      <th>330825</th>\n      <td>9160309</td>\n      <td>CU자곡현대점</td>\n      <td>자곡현대점</td>\n      <td>D</td>\n      <td>소매</td>\n      <td>D03</td>\n      <td>종합소매점</td>\n      <td>D03A01</td>\n      <td>편의점</td>\n      <td>G47122</td>\n      <td>...</td>\n      <td>1168011200103950004000001</td>\n      <td>강남유탑유블레스</td>\n      <td>서울특별시 강남구 자곡로 180</td>\n      <td>135200</td>\n      <td>6373.0</td>\n      <td>NaN</td>\n      <td>1</td>\n      <td>NaN</td>\n      <td>127.103347</td>\n      <td>37.473707</td>\n    </tr>\n    <tr>\n      <th>330826</th>\n      <td>9173533</td>\n      <td>EYAGI2</td>\n      <td>NaN</td>\n      <td>Q</td>\n      <td>음식</td>\n      <td>Q01</td>\n      <td>한식</td>\n      <td>Q01A01</td>\n      <td>한식/백반/한정식</td>\n      <td>I56111</td>\n      <td>...</td>\n      <td>1165010300106860000000001</td>\n      <td>삼성프라자1</td>\n      <td>서울특별시 서초구 성촌1길 26</td>\n      <td>137901</td>\n      <td>6765.0</td>\n      <td>NaN</td>\n      <td>1</td>\n      <td>NaN</td>\n      <td>127.021354</td>\n      <td>37.465397</td>\n    </tr>\n  </tbody>\n</table>\n<p>330827 rows × 39 columns</p>\n</div>"
     },
     "execution_count": 43,
     "metadata": {},
     "output_type": "execute_result"
    }
   ],
   "source": [
    "seoul=pd.read_csv('../data/소상공인/소상공인시장진흥공단_상가(상권)정보_서울_202203.csv')\n",
    "seoul"
   ],
   "metadata": {
    "collapsed": false,
    "pycharm": {
     "name": "#%%\n"
    }
   }
  },
  {
   "cell_type": "code",
   "execution_count": 44,
   "outputs": [
    {
     "name": "stderr",
     "output_type": "stream",
     "text": [
      "C:\\Users\\jpc10\\AppData\\Local\\Temp\\ipykernel_25380\\3975094020.py:4: DtypeWarning: Columns (35) have mixed types. Specify dtype option on import or set low_memory=False.\n",
      "  temp_df=pd.read_csv(file_name)\n",
      "C:\\Users\\jpc10\\AppData\\Local\\Temp\\ipykernel_25380\\3975094020.py:4: DtypeWarning: Columns (35) have mixed types. Specify dtype option on import or set low_memory=False.\n",
      "  temp_df=pd.read_csv(file_name)\n",
      "C:\\Users\\jpc10\\AppData\\Local\\Temp\\ipykernel_25380\\3975094020.py:4: DtypeWarning: Columns (35) have mixed types. Specify dtype option on import or set low_memory=False.\n",
      "  temp_df=pd.read_csv(file_name)\n",
      "C:\\Users\\jpc10\\AppData\\Local\\Temp\\ipykernel_25380\\3975094020.py:4: DtypeWarning: Columns (35) have mixed types. Specify dtype option on import or set low_memory=False.\n",
      "  temp_df=pd.read_csv(file_name)\n",
      "C:\\Users\\jpc10\\AppData\\Local\\Temp\\ipykernel_25380\\3975094020.py:4: DtypeWarning: Columns (35) have mixed types. Specify dtype option on import or set low_memory=False.\n",
      "  temp_df=pd.read_csv(file_name)\n",
      "C:\\Users\\jpc10\\AppData\\Local\\Temp\\ipykernel_25380\\3975094020.py:4: DtypeWarning: Columns (35) have mixed types. Specify dtype option on import or set low_memory=False.\n",
      "  temp_df=pd.read_csv(file_name)\n",
      "C:\\Users\\jpc10\\AppData\\Local\\Temp\\ipykernel_25380\\3975094020.py:4: DtypeWarning: Columns (35) have mixed types. Specify dtype option on import or set low_memory=False.\n",
      "  temp_df=pd.read_csv(file_name)\n",
      "C:\\Users\\jpc10\\AppData\\Local\\Temp\\ipykernel_25380\\3975094020.py:4: DtypeWarning: Columns (35) have mixed types. Specify dtype option on import or set low_memory=False.\n",
      "  temp_df=pd.read_csv(file_name)\n",
      "C:\\Users\\jpc10\\AppData\\Local\\Temp\\ipykernel_25380\\3975094020.py:4: DtypeWarning: Columns (35) have mixed types. Specify dtype option on import or set low_memory=False.\n",
      "  temp_df=pd.read_csv(file_name)\n",
      "C:\\Users\\jpc10\\AppData\\Local\\Temp\\ipykernel_25380\\3975094020.py:4: DtypeWarning: Columns (35) have mixed types. Specify dtype option on import or set low_memory=False.\n",
      "  temp_df=pd.read_csv(file_name)\n"
     ]
    }
   ],
   "source": [
    "file_names=glob('../data/소상공인/*.csv')\n",
    "total_df=pd.DataFrame()\n",
    "for file_name in file_names:\n",
    "    temp_df=pd.read_csv(file_name)\n",
    "    total_df=pd.concat([total_df, temp_df])\n",
    "\n",
    "total_df=total_df.reset_index(drop=True)\n"
   ],
   "metadata": {
    "collapsed": false,
    "pycharm": {
     "name": "#%%\n"
    }
   }
  },
  {
   "cell_type": "code",
   "execution_count": 45,
   "outputs": [
    {
     "data": {
      "text/plain": "Index(['상가업소번호', '상호명', '지점명', '상권업종대분류코드', '상권업종대분류명', '상권업종중분류코드',\n       '상권업종중분류명', '상권업종소분류코드', '상권업종소분류명', '표준산업분류코드', '표준산업분류명', '시도코드',\n       '시도명', '시군구코드', '시군구명', '행정동코드', '행정동명', '법정동코드', '법정동명', '지번코드',\n       '대지구분코드', '대지구분명', '지번본번지', '지번부번지', '지번주소', '도로명코드', '도로명', '건물본번지',\n       '건물부번지', '건물관리번호', '건물명', '도로명주소', '구우편번호', '신우편번호', '동정보', '층정보',\n       '호정보', '경도', '위도'],\n      dtype='object')"
     },
     "execution_count": 45,
     "metadata": {},
     "output_type": "execute_result"
    }
   ],
   "source": [
    "total_df.columns"
   ],
   "metadata": {
    "collapsed": false,
    "pycharm": {
     "name": "#%%\n"
    }
   }
  },
  {
   "cell_type": "code",
   "execution_count": 46,
   "outputs": [
    {
     "data": {
      "text/plain": "     상가업소번호            상호명      지점명 상권업종대분류코드 상권업종대분류명 상권업종중분류코드  \\\n0  25033300      동그라미중고타이어      NaN         D       소매       D23   \n1  17174549  세인트존스호텔Ohcrab      NaN         O       숙박       O01   \n2  17174079        평창라마다호텔      NaN         O       숙박       O01   \n3  17173904    호텔탑스텐스카이라운지      NaN         O       숙박       O01   \n4  24412526          레이디가구      NaN         D       소매       D15   \n5  24611751      멜로디피아노교습소      NaN         R    학문/교육       R09   \n6  17174157   치킨플러스원주기업도시점  원주기업도시점         Q       음식       Q09   \n7  17174566          307포차      NaN         Q       음식       Q09   \n8  21651344          영진보일러      NaN         D       소매       D21   \n9  21651627       금강샷시유리공사      NaN         D       소매       D21   \n\n       상권업종중분류명 상권업종소분류코드   상권업종소분류명 표준산업분류코드  ...                     건물관리번호  \\\n0     자동차/자동차용품    D23A04      타이어판매   G45211  ...  4215011100110960006010791   \n1         호텔/콘도    O01A01      호텔/콘도      NaN  ...  4215011300100010001017124   \n2         호텔/콘도    O01A01      호텔/콘도      NaN  ...  4276038024102450036000001   \n3         호텔/콘도    O01A01      호텔/콘도      NaN  ...  4215035029100920001000002   \n4          가구소매    D15A01     일반가구소매   G47520  ...  4213011500111400020035715   \n5          학원기타    R09A01     학원(종합)   P85501  ...  4223011800100780005000001   \n6          유흥주점    Q09A01      호프/맥주   I56219  ...  4213033023114930000000001   \n7          유흥주점    Q09A07   기타일반유흥주점   I56211  ...  4215011300100010001017124   \n8  철물/난방/건설자재소매    D21A02  보일러/냉난방용품   G47511  ...  4277025622102840011006020   \n9  철물/난방/건설자재소매    D21A08    셔터/새시판매   G47511  ...  4275025021109590027017103   \n\n            건물명                   도로명주소     구우편번호    신우편번호  동정보  층정보  호정보  \\\n0           NaN         강원도 강릉시 가작로 270  210110.0  25488.0    1  NaN  NaN   \n1       세인트존스호텔         강원도 강릉시 창해로 307  210120.0  25467.0  NaN  NaN  NaN   \n2           NaN    강원도 평창군 대관령면 오목길 107  232954.0  25342.0  NaN  NaN  NaN   \n3           NaN  강원도 강릉시 옥계면 헌화로 455-34  210831.0  25633.0  NaN  NaN  NaN   \n4           NaN      강원도 원주시 송삼길 156-19  220150.0  26385.0  NaN  NaN  NaN   \n5        현대그린마트     강원도 삼척시 오십천로 301-11  245943.0  25918.0  NaN  NaN  NaN   \n6  원주기업도시라온프라이빗     강원도 원주시 지정면 가곡로 132  220821.0  26352.0  NaN  NaN  NaN   \n7       세인트존스호텔         강원도 강릉시 창해로 307  210120.0  25467.0  NaN  NaN  NaN   \n8           NaN     강원도 정선군 사북읍 범바위길 20  233901.0  26150.0  NaN  NaN  NaN   \n9           NaN      강원도 영월군 영월읍 단종로 21  230805.0  26233.0  NaN    1  NaN   \n\n           경도         위도  \n0  128.904472  37.770252  \n1  128.920908  37.791299  \n2  128.717971  37.660051  \n3  129.052902  37.654680  \n4  127.917307  37.327668  \n5  129.152136  37.439478  \n6  127.873974  37.383057  \n7  128.920908  37.791299  \n8  128.830461  37.227626  \n9  128.467925  37.185359  \n\n[10 rows x 39 columns]",
      "text/html": "<div>\n<style scoped>\n    .dataframe tbody tr th:only-of-type {\n        vertical-align: middle;\n    }\n\n    .dataframe tbody tr th {\n        vertical-align: top;\n    }\n\n    .dataframe thead th {\n        text-align: right;\n    }\n</style>\n<table border=\"1\" class=\"dataframe\">\n  <thead>\n    <tr style=\"text-align: right;\">\n      <th></th>\n      <th>상가업소번호</th>\n      <th>상호명</th>\n      <th>지점명</th>\n      <th>상권업종대분류코드</th>\n      <th>상권업종대분류명</th>\n      <th>상권업종중분류코드</th>\n      <th>상권업종중분류명</th>\n      <th>상권업종소분류코드</th>\n      <th>상권업종소분류명</th>\n      <th>표준산업분류코드</th>\n      <th>...</th>\n      <th>건물관리번호</th>\n      <th>건물명</th>\n      <th>도로명주소</th>\n      <th>구우편번호</th>\n      <th>신우편번호</th>\n      <th>동정보</th>\n      <th>층정보</th>\n      <th>호정보</th>\n      <th>경도</th>\n      <th>위도</th>\n    </tr>\n  </thead>\n  <tbody>\n    <tr>\n      <th>0</th>\n      <td>25033300</td>\n      <td>동그라미중고타이어</td>\n      <td>NaN</td>\n      <td>D</td>\n      <td>소매</td>\n      <td>D23</td>\n      <td>자동차/자동차용품</td>\n      <td>D23A04</td>\n      <td>타이어판매</td>\n      <td>G45211</td>\n      <td>...</td>\n      <td>4215011100110960006010791</td>\n      <td>NaN</td>\n      <td>강원도 강릉시 가작로 270</td>\n      <td>210110.0</td>\n      <td>25488.0</td>\n      <td>1</td>\n      <td>NaN</td>\n      <td>NaN</td>\n      <td>128.904472</td>\n      <td>37.770252</td>\n    </tr>\n    <tr>\n      <th>1</th>\n      <td>17174549</td>\n      <td>세인트존스호텔Ohcrab</td>\n      <td>NaN</td>\n      <td>O</td>\n      <td>숙박</td>\n      <td>O01</td>\n      <td>호텔/콘도</td>\n      <td>O01A01</td>\n      <td>호텔/콘도</td>\n      <td>NaN</td>\n      <td>...</td>\n      <td>4215011300100010001017124</td>\n      <td>세인트존스호텔</td>\n      <td>강원도 강릉시 창해로 307</td>\n      <td>210120.0</td>\n      <td>25467.0</td>\n      <td>NaN</td>\n      <td>NaN</td>\n      <td>NaN</td>\n      <td>128.920908</td>\n      <td>37.791299</td>\n    </tr>\n    <tr>\n      <th>2</th>\n      <td>17174079</td>\n      <td>평창라마다호텔</td>\n      <td>NaN</td>\n      <td>O</td>\n      <td>숙박</td>\n      <td>O01</td>\n      <td>호텔/콘도</td>\n      <td>O01A01</td>\n      <td>호텔/콘도</td>\n      <td>NaN</td>\n      <td>...</td>\n      <td>4276038024102450036000001</td>\n      <td>NaN</td>\n      <td>강원도 평창군 대관령면 오목길 107</td>\n      <td>232954.0</td>\n      <td>25342.0</td>\n      <td>NaN</td>\n      <td>NaN</td>\n      <td>NaN</td>\n      <td>128.717971</td>\n      <td>37.660051</td>\n    </tr>\n    <tr>\n      <th>3</th>\n      <td>17173904</td>\n      <td>호텔탑스텐스카이라운지</td>\n      <td>NaN</td>\n      <td>O</td>\n      <td>숙박</td>\n      <td>O01</td>\n      <td>호텔/콘도</td>\n      <td>O01A01</td>\n      <td>호텔/콘도</td>\n      <td>NaN</td>\n      <td>...</td>\n      <td>4215035029100920001000002</td>\n      <td>NaN</td>\n      <td>강원도 강릉시 옥계면 헌화로 455-34</td>\n      <td>210831.0</td>\n      <td>25633.0</td>\n      <td>NaN</td>\n      <td>NaN</td>\n      <td>NaN</td>\n      <td>129.052902</td>\n      <td>37.654680</td>\n    </tr>\n    <tr>\n      <th>4</th>\n      <td>24412526</td>\n      <td>레이디가구</td>\n      <td>NaN</td>\n      <td>D</td>\n      <td>소매</td>\n      <td>D15</td>\n      <td>가구소매</td>\n      <td>D15A01</td>\n      <td>일반가구소매</td>\n      <td>G47520</td>\n      <td>...</td>\n      <td>4213011500111400020035715</td>\n      <td>NaN</td>\n      <td>강원도 원주시 송삼길 156-19</td>\n      <td>220150.0</td>\n      <td>26385.0</td>\n      <td>NaN</td>\n      <td>NaN</td>\n      <td>NaN</td>\n      <td>127.917307</td>\n      <td>37.327668</td>\n    </tr>\n    <tr>\n      <th>5</th>\n      <td>24611751</td>\n      <td>멜로디피아노교습소</td>\n      <td>NaN</td>\n      <td>R</td>\n      <td>학문/교육</td>\n      <td>R09</td>\n      <td>학원기타</td>\n      <td>R09A01</td>\n      <td>학원(종합)</td>\n      <td>P85501</td>\n      <td>...</td>\n      <td>4223011800100780005000001</td>\n      <td>현대그린마트</td>\n      <td>강원도 삼척시 오십천로 301-11</td>\n      <td>245943.0</td>\n      <td>25918.0</td>\n      <td>NaN</td>\n      <td>NaN</td>\n      <td>NaN</td>\n      <td>129.152136</td>\n      <td>37.439478</td>\n    </tr>\n    <tr>\n      <th>6</th>\n      <td>17174157</td>\n      <td>치킨플러스원주기업도시점</td>\n      <td>원주기업도시점</td>\n      <td>Q</td>\n      <td>음식</td>\n      <td>Q09</td>\n      <td>유흥주점</td>\n      <td>Q09A01</td>\n      <td>호프/맥주</td>\n      <td>I56219</td>\n      <td>...</td>\n      <td>4213033023114930000000001</td>\n      <td>원주기업도시라온프라이빗</td>\n      <td>강원도 원주시 지정면 가곡로 132</td>\n      <td>220821.0</td>\n      <td>26352.0</td>\n      <td>NaN</td>\n      <td>NaN</td>\n      <td>NaN</td>\n      <td>127.873974</td>\n      <td>37.383057</td>\n    </tr>\n    <tr>\n      <th>7</th>\n      <td>17174566</td>\n      <td>307포차</td>\n      <td>NaN</td>\n      <td>Q</td>\n      <td>음식</td>\n      <td>Q09</td>\n      <td>유흥주점</td>\n      <td>Q09A07</td>\n      <td>기타일반유흥주점</td>\n      <td>I56211</td>\n      <td>...</td>\n      <td>4215011300100010001017124</td>\n      <td>세인트존스호텔</td>\n      <td>강원도 강릉시 창해로 307</td>\n      <td>210120.0</td>\n      <td>25467.0</td>\n      <td>NaN</td>\n      <td>NaN</td>\n      <td>NaN</td>\n      <td>128.920908</td>\n      <td>37.791299</td>\n    </tr>\n    <tr>\n      <th>8</th>\n      <td>21651344</td>\n      <td>영진보일러</td>\n      <td>NaN</td>\n      <td>D</td>\n      <td>소매</td>\n      <td>D21</td>\n      <td>철물/난방/건설자재소매</td>\n      <td>D21A02</td>\n      <td>보일러/냉난방용품</td>\n      <td>G47511</td>\n      <td>...</td>\n      <td>4277025622102840011006020</td>\n      <td>NaN</td>\n      <td>강원도 정선군 사북읍 범바위길 20</td>\n      <td>233901.0</td>\n      <td>26150.0</td>\n      <td>NaN</td>\n      <td>NaN</td>\n      <td>NaN</td>\n      <td>128.830461</td>\n      <td>37.227626</td>\n    </tr>\n    <tr>\n      <th>9</th>\n      <td>21651627</td>\n      <td>금강샷시유리공사</td>\n      <td>NaN</td>\n      <td>D</td>\n      <td>소매</td>\n      <td>D21</td>\n      <td>철물/난방/건설자재소매</td>\n      <td>D21A08</td>\n      <td>셔터/새시판매</td>\n      <td>G47511</td>\n      <td>...</td>\n      <td>4275025021109590027017103</td>\n      <td>NaN</td>\n      <td>강원도 영월군 영월읍 단종로 21</td>\n      <td>230805.0</td>\n      <td>26233.0</td>\n      <td>NaN</td>\n      <td>1</td>\n      <td>NaN</td>\n      <td>128.467925</td>\n      <td>37.185359</td>\n    </tr>\n  </tbody>\n</table>\n<p>10 rows × 39 columns</p>\n</div>"
     },
     "execution_count": 46,
     "metadata": {},
     "output_type": "execute_result"
    }
   ],
   "source": [
    "total_df.head(10)"
   ],
   "metadata": {
    "collapsed": false,
    "pycharm": {
     "name": "#%%\n"
    }
   }
  },
  {
   "cell_type": "code",
   "execution_count": 47,
   "outputs": [
    {
     "data": {
      "text/plain": "Index(['상가업소번호', '상호명', '지점명', '상권업종대분류코드', '상권업종대분류명', '상권업종중분류코드',\n       '상권업종중분류명', '상권업종소분류코드', '상권업종소분류명', '표준산업분류코드', '표준산업분류명', '시도코드',\n       '시도명', '시군구코드', '시군구명', '행정동코드', '행정동명', '법정동코드', '법정동명', '지번코드',\n       '대지구분코드', '대지구분명', '지번본번지', '지번부번지', '지번주소', '도로명코드', '도로명', '건물본번지',\n       '건물부번지', '건물관리번호', '건물명', '도로명주소', '구우편번호', '신우편번호', '동정보', '층정보',\n       '호정보', '경도', '위도'],\n      dtype='object')"
     },
     "execution_count": 47,
     "metadata": {},
     "output_type": "execute_result"
    }
   ],
   "source": [
    "total_df.상권업종소분류명.unique()\n",
    "total_df.columns # 상권업종중분류명, 상호명, 시도명"
   ],
   "metadata": {
    "collapsed": false,
    "pycharm": {
     "name": "#%%\n"
    }
   }
  },
  {
   "cell_type": "code",
   "execution_count": 48,
   "outputs": [
    {
     "name": "stdout",
     "output_type": "stream",
     "text": [
      "<class 'pandas.core.frame.DataFrame'>\n",
      "RangeIndex: 2279879 entries, 0 to 2279878\n",
      "Data columns (total 39 columns):\n",
      " #   Column     Dtype  \n",
      "---  ------     -----  \n",
      " 0   상가업소번호     int64  \n",
      " 1   상호명        object \n",
      " 2   지점명        object \n",
      " 3   상권업종대분류코드  object \n",
      " 4   상권업종대분류명   object \n",
      " 5   상권업종중분류코드  object \n",
      " 6   상권업종중분류명   object \n",
      " 7   상권업종소분류코드  object \n",
      " 8   상권업종소분류명   object \n",
      " 9   표준산업분류코드   object \n",
      " 10  표준산업분류명    object \n",
      " 11  시도코드       int64  \n",
      " 12  시도명        object \n",
      " 13  시군구코드      int64  \n",
      " 14  시군구명       object \n",
      " 15  행정동코드      int64  \n",
      " 16  행정동명       object \n",
      " 17  법정동코드      float64\n",
      " 18  법정동명       object \n",
      " 19  지번코드       int64  \n",
      " 20  대지구분코드     int64  \n",
      " 21  대지구분명      object \n",
      " 22  지번본번지      int64  \n",
      " 23  지번부번지      float64\n",
      " 24  지번주소       object \n",
      " 25  도로명코드      int64  \n",
      " 26  도로명        object \n",
      " 27  건물본번지      int64  \n",
      " 28  건물부번지      float64\n",
      " 29  건물관리번호     object \n",
      " 30  건물명        object \n",
      " 31  도로명주소      object \n",
      " 32  구우편번호      float64\n",
      " 33  신우편번호      float64\n",
      " 34  동정보        object \n",
      " 35  층정보        object \n",
      " 36  호정보        float64\n",
      " 37  경도         float64\n",
      " 38  위도         float64\n",
      "dtypes: float64(8), int64(9), object(22)\n",
      "memory usage: 678.4+ MB\n"
     ]
    }
   ],
   "source": [
    "total_df.info()"
   ],
   "metadata": {
    "collapsed": false,
    "pycharm": {
     "name": "#%%\n"
    }
   }
  },
  {
   "cell_type": "code",
   "execution_count": 49,
   "outputs": [
    {
     "data": {
      "text/plain": "          상권업종중분류명            상호명   시도명\n0        자동차/자동차용품      동그라미중고타이어   강원도\n1            호텔/콘도  세인트존스호텔Ohcrab   강원도\n2            호텔/콘도        평창라마다호텔   강원도\n3            호텔/콘도    호텔탑스텐스카이라운지   강원도\n4             가구소매          레이디가구   강원도\n...            ...            ...   ...\n2279874    건강/미용식품          송학건강원  충청북도\n2279875   세탁/가사서비스          건영세탁소  충청북도\n2279876    주유소/충전소     GS칼텍스직영금성점  충청북도\n2279877    이/미용/건강          장미이발관  충청북도\n2279878     커피점/카페           별빛다락  충청북도\n\n[2279879 rows x 3 columns]",
      "text/html": "<div>\n<style scoped>\n    .dataframe tbody tr th:only-of-type {\n        vertical-align: middle;\n    }\n\n    .dataframe tbody tr th {\n        vertical-align: top;\n    }\n\n    .dataframe thead th {\n        text-align: right;\n    }\n</style>\n<table border=\"1\" class=\"dataframe\">\n  <thead>\n    <tr style=\"text-align: right;\">\n      <th></th>\n      <th>상권업종중분류명</th>\n      <th>상호명</th>\n      <th>시도명</th>\n    </tr>\n  </thead>\n  <tbody>\n    <tr>\n      <th>0</th>\n      <td>자동차/자동차용품</td>\n      <td>동그라미중고타이어</td>\n      <td>강원도</td>\n    </tr>\n    <tr>\n      <th>1</th>\n      <td>호텔/콘도</td>\n      <td>세인트존스호텔Ohcrab</td>\n      <td>강원도</td>\n    </tr>\n    <tr>\n      <th>2</th>\n      <td>호텔/콘도</td>\n      <td>평창라마다호텔</td>\n      <td>강원도</td>\n    </tr>\n    <tr>\n      <th>3</th>\n      <td>호텔/콘도</td>\n      <td>호텔탑스텐스카이라운지</td>\n      <td>강원도</td>\n    </tr>\n    <tr>\n      <th>4</th>\n      <td>가구소매</td>\n      <td>레이디가구</td>\n      <td>강원도</td>\n    </tr>\n    <tr>\n      <th>...</th>\n      <td>...</td>\n      <td>...</td>\n      <td>...</td>\n    </tr>\n    <tr>\n      <th>2279874</th>\n      <td>건강/미용식품</td>\n      <td>송학건강원</td>\n      <td>충청북도</td>\n    </tr>\n    <tr>\n      <th>2279875</th>\n      <td>세탁/가사서비스</td>\n      <td>건영세탁소</td>\n      <td>충청북도</td>\n    </tr>\n    <tr>\n      <th>2279876</th>\n      <td>주유소/충전소</td>\n      <td>GS칼텍스직영금성점</td>\n      <td>충청북도</td>\n    </tr>\n    <tr>\n      <th>2279877</th>\n      <td>이/미용/건강</td>\n      <td>장미이발관</td>\n      <td>충청북도</td>\n    </tr>\n    <tr>\n      <th>2279878</th>\n      <td>커피점/카페</td>\n      <td>별빛다락</td>\n      <td>충청북도</td>\n    </tr>\n  </tbody>\n</table>\n<p>2279879 rows × 3 columns</p>\n</div>"
     },
     "execution_count": 49,
     "metadata": {},
     "output_type": "execute_result"
    }
   ],
   "source": [
    "coffee_df=total_df[[\"상권업종중분류명\", \"상호명\", '시도명']]\n",
    "coffee_df"
   ],
   "metadata": {
    "collapsed": false,
    "pycharm": {
     "name": "#%%\n"
    }
   }
  },
  {
   "cell_type": "code",
   "execution_count": 50,
   "outputs": [
    {
     "data": {
      "text/plain": "         상가업소번호         상호명       지점명 상권업종대분류코드 상권업종대분류명 상권업종중분류코드  \\\n0      23971869       청담어학원  청주가경캠퍼스점         R    학문/교육       R04   \n1      20602380        신도다실       NaN         Q       음식       Q12   \n2      21968791        원주양행       NaN         D       소매       D06   \n3      20552215       유기농팔도       NaN         D       소매       D01   \n4      24206905      D.C.열쇠       NaN         D       소매       D07   \n...         ...         ...       ...       ...      ...       ...   \n89496   8788862       송학건강원       NaN         D       소매       D10   \n89497   8806881       건영세탁소       NaN         F    생활서비스       F02   \n89498   9002993  GS칼텍스직영금성점     직영금성점         F    생활서비스       F16   \n89499   9072345       장미이발관       NaN         F    생활서비스       F01   \n89500   9181103        별빛다락       NaN         Q       음식       Q12   \n\n         상권업종중분류명 상권업종소분류코드       상권업종소분류명 표준산업분류코드  ...  \\\n0           학원-어학    R04A01      학원-외국어/어학   P85502  ...   \n1          커피점/카페    Q12A01    커피전문점/카페/다방   I56220  ...   \n2      가방/신발/액세서리    D06A07            양품점   G47419  ...   \n3         음/식료품소매    D01A08        유기농식품판매   G47219  ...   \n4      가정/주방/인테리어    D07A15  유리/페인트/철물건축자재   G47519  ...   \n...           ...       ...            ...      ...  ...   \n89496     건강/미용식품    D10A07            건강원   G47216  ...   \n89497    세탁/가사서비스    F02A01        세탁소/빨래방   S96912  ...   \n89498     주유소/충전소    F16A01            주유소   G47711  ...   \n89499     이/미용/건강    F01A04          남성미용실   S96111  ...   \n89500      커피점/카페    Q12A01    커피전문점/카페/다방   I56220  ...   \n\n                          건물관리번호       건물명                      도로명주소   구우편번호  \\\n0      4311311100107000000024027   대상마스터빌딩         충청북도 청주시 서원구 복대로 7  362805   \n1      4311110800100250006048924       NaN        충청북도 청주시 상당구 대성로 38  360050   \n2      4313011500100040014015525       NaN            충청북도 충주시 무학4길 5  380959   \n3      4374034028101280000002104  대양영농조합법인   충청북도 영동군 매곡면 괘방령로 674-52  370871   \n4      4311310900103500000018517  주공3단지아파트        충청북도 청주시 서원구 매봉로 64  362150   \n...                          ...       ...                        ...     ...   \n89496  4315038021102220012000001       NaN        충청북도 제천시 송학면 무도2길 2  390811   \n89497  4311112400120990000053512     건영아파트        충청북도 청주시 상당구 중흥로 71  360770   \n89498  4311311500107540000004909       NaN      충청북도 청주시 흥덕구 1순환로 561  361300   \n89499  4375037027102490020011432   삼성공인중개사  충청북도 진천군 광혜원면 진광로 1535-10  365832   \n89500  4315011100100640041000001       NaN       충청북도 제천시 용두대로15가길 21  390240   \n\n         신우편번호  동정보  층정보  호정보          경도         위도  \n0      28612.0  NaN    7  NaN  127.446061  36.617928  \n1      28716.0  NaN  NaN  NaN  127.493371  36.628602  \n2      27405.0  NaN    1  NaN  127.927238  36.974111  \n3      29122.0  NaN  NaN  NaN  127.980293  36.152695  \n4      28694.0  306  NaN  NaN  127.478662  36.616083  \n...        ...  ...  ...  ...         ...        ...  \n89496  27126.0  NaN  NaN  NaN  128.263464  37.183593  \n89497  28773.0  NaN    1  NaN  127.502906  36.611555  \n89498  28557.0  NaN    1  NaN  127.462580  36.642724  \n89499  27805.0  NaN    1  NaN  127.445470  36.990781  \n89500  27162.0  NaN    1  NaN  128.199955  37.141310  \n\n[89501 rows x 39 columns]",
      "text/html": "<div>\n<style scoped>\n    .dataframe tbody tr th:only-of-type {\n        vertical-align: middle;\n    }\n\n    .dataframe tbody tr th {\n        vertical-align: top;\n    }\n\n    .dataframe thead th {\n        text-align: right;\n    }\n</style>\n<table border=\"1\" class=\"dataframe\">\n  <thead>\n    <tr style=\"text-align: right;\">\n      <th></th>\n      <th>상가업소번호</th>\n      <th>상호명</th>\n      <th>지점명</th>\n      <th>상권업종대분류코드</th>\n      <th>상권업종대분류명</th>\n      <th>상권업종중분류코드</th>\n      <th>상권업종중분류명</th>\n      <th>상권업종소분류코드</th>\n      <th>상권업종소분류명</th>\n      <th>표준산업분류코드</th>\n      <th>...</th>\n      <th>건물관리번호</th>\n      <th>건물명</th>\n      <th>도로명주소</th>\n      <th>구우편번호</th>\n      <th>신우편번호</th>\n      <th>동정보</th>\n      <th>층정보</th>\n      <th>호정보</th>\n      <th>경도</th>\n      <th>위도</th>\n    </tr>\n  </thead>\n  <tbody>\n    <tr>\n      <th>0</th>\n      <td>23971869</td>\n      <td>청담어학원</td>\n      <td>청주가경캠퍼스점</td>\n      <td>R</td>\n      <td>학문/교육</td>\n      <td>R04</td>\n      <td>학원-어학</td>\n      <td>R04A01</td>\n      <td>학원-외국어/어학</td>\n      <td>P85502</td>\n      <td>...</td>\n      <td>4311311100107000000024027</td>\n      <td>대상마스터빌딩</td>\n      <td>충청북도 청주시 서원구 복대로 7</td>\n      <td>362805</td>\n      <td>28612.0</td>\n      <td>NaN</td>\n      <td>7</td>\n      <td>NaN</td>\n      <td>127.446061</td>\n      <td>36.617928</td>\n    </tr>\n    <tr>\n      <th>1</th>\n      <td>20602380</td>\n      <td>신도다실</td>\n      <td>NaN</td>\n      <td>Q</td>\n      <td>음식</td>\n      <td>Q12</td>\n      <td>커피점/카페</td>\n      <td>Q12A01</td>\n      <td>커피전문점/카페/다방</td>\n      <td>I56220</td>\n      <td>...</td>\n      <td>4311110800100250006048924</td>\n      <td>NaN</td>\n      <td>충청북도 청주시 상당구 대성로 38</td>\n      <td>360050</td>\n      <td>28716.0</td>\n      <td>NaN</td>\n      <td>NaN</td>\n      <td>NaN</td>\n      <td>127.493371</td>\n      <td>36.628602</td>\n    </tr>\n    <tr>\n      <th>2</th>\n      <td>21968791</td>\n      <td>원주양행</td>\n      <td>NaN</td>\n      <td>D</td>\n      <td>소매</td>\n      <td>D06</td>\n      <td>가방/신발/액세서리</td>\n      <td>D06A07</td>\n      <td>양품점</td>\n      <td>G47419</td>\n      <td>...</td>\n      <td>4313011500100040014015525</td>\n      <td>NaN</td>\n      <td>충청북도 충주시 무학4길 5</td>\n      <td>380959</td>\n      <td>27405.0</td>\n      <td>NaN</td>\n      <td>1</td>\n      <td>NaN</td>\n      <td>127.927238</td>\n      <td>36.974111</td>\n    </tr>\n    <tr>\n      <th>3</th>\n      <td>20552215</td>\n      <td>유기농팔도</td>\n      <td>NaN</td>\n      <td>D</td>\n      <td>소매</td>\n      <td>D01</td>\n      <td>음/식료품소매</td>\n      <td>D01A08</td>\n      <td>유기농식품판매</td>\n      <td>G47219</td>\n      <td>...</td>\n      <td>4374034028101280000002104</td>\n      <td>대양영농조합법인</td>\n      <td>충청북도 영동군 매곡면 괘방령로 674-52</td>\n      <td>370871</td>\n      <td>29122.0</td>\n      <td>NaN</td>\n      <td>NaN</td>\n      <td>NaN</td>\n      <td>127.980293</td>\n      <td>36.152695</td>\n    </tr>\n    <tr>\n      <th>4</th>\n      <td>24206905</td>\n      <td>D.C.열쇠</td>\n      <td>NaN</td>\n      <td>D</td>\n      <td>소매</td>\n      <td>D07</td>\n      <td>가정/주방/인테리어</td>\n      <td>D07A15</td>\n      <td>유리/페인트/철물건축자재</td>\n      <td>G47519</td>\n      <td>...</td>\n      <td>4311310900103500000018517</td>\n      <td>주공3단지아파트</td>\n      <td>충청북도 청주시 서원구 매봉로 64</td>\n      <td>362150</td>\n      <td>28694.0</td>\n      <td>306</td>\n      <td>NaN</td>\n      <td>NaN</td>\n      <td>127.478662</td>\n      <td>36.616083</td>\n    </tr>\n    <tr>\n      <th>...</th>\n      <td>...</td>\n      <td>...</td>\n      <td>...</td>\n      <td>...</td>\n      <td>...</td>\n      <td>...</td>\n      <td>...</td>\n      <td>...</td>\n      <td>...</td>\n      <td>...</td>\n      <td>...</td>\n      <td>...</td>\n      <td>...</td>\n      <td>...</td>\n      <td>...</td>\n      <td>...</td>\n      <td>...</td>\n      <td>...</td>\n      <td>...</td>\n      <td>...</td>\n      <td>...</td>\n    </tr>\n    <tr>\n      <th>89496</th>\n      <td>8788862</td>\n      <td>송학건강원</td>\n      <td>NaN</td>\n      <td>D</td>\n      <td>소매</td>\n      <td>D10</td>\n      <td>건강/미용식품</td>\n      <td>D10A07</td>\n      <td>건강원</td>\n      <td>G47216</td>\n      <td>...</td>\n      <td>4315038021102220012000001</td>\n      <td>NaN</td>\n      <td>충청북도 제천시 송학면 무도2길 2</td>\n      <td>390811</td>\n      <td>27126.0</td>\n      <td>NaN</td>\n      <td>NaN</td>\n      <td>NaN</td>\n      <td>128.263464</td>\n      <td>37.183593</td>\n    </tr>\n    <tr>\n      <th>89497</th>\n      <td>8806881</td>\n      <td>건영세탁소</td>\n      <td>NaN</td>\n      <td>F</td>\n      <td>생활서비스</td>\n      <td>F02</td>\n      <td>세탁/가사서비스</td>\n      <td>F02A01</td>\n      <td>세탁소/빨래방</td>\n      <td>S96912</td>\n      <td>...</td>\n      <td>4311112400120990000053512</td>\n      <td>건영아파트</td>\n      <td>충청북도 청주시 상당구 중흥로 71</td>\n      <td>360770</td>\n      <td>28773.0</td>\n      <td>NaN</td>\n      <td>1</td>\n      <td>NaN</td>\n      <td>127.502906</td>\n      <td>36.611555</td>\n    </tr>\n    <tr>\n      <th>89498</th>\n      <td>9002993</td>\n      <td>GS칼텍스직영금성점</td>\n      <td>직영금성점</td>\n      <td>F</td>\n      <td>생활서비스</td>\n      <td>F16</td>\n      <td>주유소/충전소</td>\n      <td>F16A01</td>\n      <td>주유소</td>\n      <td>G47711</td>\n      <td>...</td>\n      <td>4311311500107540000004909</td>\n      <td>NaN</td>\n      <td>충청북도 청주시 흥덕구 1순환로 561</td>\n      <td>361300</td>\n      <td>28557.0</td>\n      <td>NaN</td>\n      <td>1</td>\n      <td>NaN</td>\n      <td>127.462580</td>\n      <td>36.642724</td>\n    </tr>\n    <tr>\n      <th>89499</th>\n      <td>9072345</td>\n      <td>장미이발관</td>\n      <td>NaN</td>\n      <td>F</td>\n      <td>생활서비스</td>\n      <td>F01</td>\n      <td>이/미용/건강</td>\n      <td>F01A04</td>\n      <td>남성미용실</td>\n      <td>S96111</td>\n      <td>...</td>\n      <td>4375037027102490020011432</td>\n      <td>삼성공인중개사</td>\n      <td>충청북도 진천군 광혜원면 진광로 1535-10</td>\n      <td>365832</td>\n      <td>27805.0</td>\n      <td>NaN</td>\n      <td>1</td>\n      <td>NaN</td>\n      <td>127.445470</td>\n      <td>36.990781</td>\n    </tr>\n    <tr>\n      <th>89500</th>\n      <td>9181103</td>\n      <td>별빛다락</td>\n      <td>NaN</td>\n      <td>Q</td>\n      <td>음식</td>\n      <td>Q12</td>\n      <td>커피점/카페</td>\n      <td>Q12A01</td>\n      <td>커피전문점/카페/다방</td>\n      <td>I56220</td>\n      <td>...</td>\n      <td>4315011100100640041000001</td>\n      <td>NaN</td>\n      <td>충청북도 제천시 용두대로15가길 21</td>\n      <td>390240</td>\n      <td>27162.0</td>\n      <td>NaN</td>\n      <td>1</td>\n      <td>NaN</td>\n      <td>128.199955</td>\n      <td>37.141310</td>\n    </tr>\n  </tbody>\n</table>\n<p>89501 rows × 39 columns</p>\n</div>"
     },
     "execution_count": 50,
     "metadata": {},
     "output_type": "execute_result"
    }
   ],
   "source": [
    "temp_df"
   ],
   "metadata": {
    "collapsed": false,
    "pycharm": {
     "name": "#%%\n"
    }
   }
  },
  {
   "cell_type": "code",
   "execution_count": 51,
   "outputs": [
    {
     "name": "stdout",
     "output_type": "stream",
     "text": [
      "전국 커피 전문점 점포 수 : 3524\n"
     ]
    },
    {
     "data": {
      "text/plain": "        상가업소번호           상호명        지점명 상권업종대분류코드 상권업종대분류명 상권업종중분류코드 상권업종중분류명  \\\n0     20602380          신도다실        NaN         Q       음식       Q12   커피점/카페   \n1     15569568           킴다방        NaN         Q       음식       Q12   커피점/카페   \n2     23467889     Cafe4B스케치        NaN         Q       음식       Q12   커피점/카페   \n3     20499049           커피올        NaN         Q       음식       Q12   커피점/카페   \n4     22831290            공차   현대백화점충청점         Q       음식       Q12   커피점/카페   \n...        ...           ...        ...       ...      ...       ...      ...   \n3519  25591809       칼디앤커피나무        NaN         Q       음식       Q12   커피점/카페   \n3520  25600486          라미커피        NaN         Q       음식       Q12   커피점/카페   \n3521  25884322  드롭탑청주다나여성병원점  청주다나여성병원점         Q       음식       Q12   커피점/카페   \n3522  26448354        커피와사람들        NaN         Q       음식       Q12   커피점/카페   \n3523   9181103          별빛다락        NaN         Q       음식       Q12   커피점/카페   \n\n     상권업종소분류코드     상권업종소분류명 표준산업분류코드  ...                     건물관리번호  \\\n0       Q12A01  커피전문점/카페/다방   I56220  ...  4311110800100250006048924   \n1       Q12A01  커피전문점/카페/다방   I56220  ...  4311311000104510000023898   \n2       Q12A01  커피전문점/카페/다방   I56220  ...  4311311500120360000014956   \n3       Q12A01  커피전문점/카페/다방   I56220  ...  4311111900101250010000001   \n4       Q12A01  커피전문점/카페/다방   I56220  ...  4311311400105840009000001   \n...        ...          ...      ...  ...                        ...   \n3519    Q12A01  커피전문점/카페/다방   I56220  ...  4311310800101620000000001   \n3520    Q12A01  커피전문점/카페/다방   I56220  ...  4311310600112480000023518   \n3521    Q12A01  커피전문점/카페/다방   I56220  ...  4311113200101710003000001   \n3522    Q12A01  커피전문점/카페/다방   I56220  ...  4311112400120960000053454   \n3523    Q12A01  커피전문점/카페/다방   I56220  ...  4315011100100640041000001   \n\n                건물명                     도로명주소   구우편번호    신우편번호  동정보  층정보  호정보  \\\n0               NaN       충청북도 청주시 상당구 대성로 38  360050  28716.0  NaN  NaN  NaN   \n1     성화동POWER프라자빌딩       충청북도 청주시 서원구 신화로 38  362230  28637.0  NaN  NaN  NaN   \n2               NaN  충청북도 청주시 흥덕구 백봉로220번길 19  361300  28449.0  NaN    1  NaN   \n3               NaN    충청북도 청주시 상당구 단재로 110-3  360090  28713.0  NaN    1  NaN   \n4             현대백화점     충청북도 청주시 흥덕구 직지대로 308  361270  28424.0  NaN    6  NaN   \n...             ...                       ...     ...      ...  ...  ...  ...   \n3519            NaN    충청북도 청주시 서원구 1순환로 1090  362855  28802.0  NaN    1  NaN   \n3520            NaN      충청북도 청주시 서원구 산미로 146  362160  28635.0  NaN    1  NaN   \n3521            NaN     충청북도 청주시 청원구 충청대로 175  363568  28325.0  NaN    5  NaN   \n3522      용암3차현대아파트     충청북도 청주시 상당구 중흥로 70-1  360736  28774.0  303    1  NaN   \n3523            NaN      충청북도 제천시 용두대로15가길 21  390240  27162.0  NaN    1  NaN   \n\n              경도         위도  \n0     127.493371  36.628602  \n1     127.455596  36.618107  \n2     127.459891  36.648227  \n3     127.496842  36.619253  \n4     127.426554  36.644863  \n...          ...        ...  \n3519  127.487606  36.605920  \n3520  127.476073  36.608916  \n3521  127.495750  36.671834  \n3522  127.504643  36.610976  \n3523  128.199955  37.141310  \n\n[3524 rows x 39 columns]",
      "text/html": "<div>\n<style scoped>\n    .dataframe tbody tr th:only-of-type {\n        vertical-align: middle;\n    }\n\n    .dataframe tbody tr th {\n        vertical-align: top;\n    }\n\n    .dataframe thead th {\n        text-align: right;\n    }\n</style>\n<table border=\"1\" class=\"dataframe\">\n  <thead>\n    <tr style=\"text-align: right;\">\n      <th></th>\n      <th>상가업소번호</th>\n      <th>상호명</th>\n      <th>지점명</th>\n      <th>상권업종대분류코드</th>\n      <th>상권업종대분류명</th>\n      <th>상권업종중분류코드</th>\n      <th>상권업종중분류명</th>\n      <th>상권업종소분류코드</th>\n      <th>상권업종소분류명</th>\n      <th>표준산업분류코드</th>\n      <th>...</th>\n      <th>건물관리번호</th>\n      <th>건물명</th>\n      <th>도로명주소</th>\n      <th>구우편번호</th>\n      <th>신우편번호</th>\n      <th>동정보</th>\n      <th>층정보</th>\n      <th>호정보</th>\n      <th>경도</th>\n      <th>위도</th>\n    </tr>\n  </thead>\n  <tbody>\n    <tr>\n      <th>0</th>\n      <td>20602380</td>\n      <td>신도다실</td>\n      <td>NaN</td>\n      <td>Q</td>\n      <td>음식</td>\n      <td>Q12</td>\n      <td>커피점/카페</td>\n      <td>Q12A01</td>\n      <td>커피전문점/카페/다방</td>\n      <td>I56220</td>\n      <td>...</td>\n      <td>4311110800100250006048924</td>\n      <td>NaN</td>\n      <td>충청북도 청주시 상당구 대성로 38</td>\n      <td>360050</td>\n      <td>28716.0</td>\n      <td>NaN</td>\n      <td>NaN</td>\n      <td>NaN</td>\n      <td>127.493371</td>\n      <td>36.628602</td>\n    </tr>\n    <tr>\n      <th>1</th>\n      <td>15569568</td>\n      <td>킴다방</td>\n      <td>NaN</td>\n      <td>Q</td>\n      <td>음식</td>\n      <td>Q12</td>\n      <td>커피점/카페</td>\n      <td>Q12A01</td>\n      <td>커피전문점/카페/다방</td>\n      <td>I56220</td>\n      <td>...</td>\n      <td>4311311000104510000023898</td>\n      <td>성화동POWER프라자빌딩</td>\n      <td>충청북도 청주시 서원구 신화로 38</td>\n      <td>362230</td>\n      <td>28637.0</td>\n      <td>NaN</td>\n      <td>NaN</td>\n      <td>NaN</td>\n      <td>127.455596</td>\n      <td>36.618107</td>\n    </tr>\n    <tr>\n      <th>2</th>\n      <td>23467889</td>\n      <td>Cafe4B스케치</td>\n      <td>NaN</td>\n      <td>Q</td>\n      <td>음식</td>\n      <td>Q12</td>\n      <td>커피점/카페</td>\n      <td>Q12A01</td>\n      <td>커피전문점/카페/다방</td>\n      <td>I56220</td>\n      <td>...</td>\n      <td>4311311500120360000014956</td>\n      <td>NaN</td>\n      <td>충청북도 청주시 흥덕구 백봉로220번길 19</td>\n      <td>361300</td>\n      <td>28449.0</td>\n      <td>NaN</td>\n      <td>1</td>\n      <td>NaN</td>\n      <td>127.459891</td>\n      <td>36.648227</td>\n    </tr>\n    <tr>\n      <th>3</th>\n      <td>20499049</td>\n      <td>커피올</td>\n      <td>NaN</td>\n      <td>Q</td>\n      <td>음식</td>\n      <td>Q12</td>\n      <td>커피점/카페</td>\n      <td>Q12A01</td>\n      <td>커피전문점/카페/다방</td>\n      <td>I56220</td>\n      <td>...</td>\n      <td>4311111900101250010000001</td>\n      <td>NaN</td>\n      <td>충청북도 청주시 상당구 단재로 110-3</td>\n      <td>360090</td>\n      <td>28713.0</td>\n      <td>NaN</td>\n      <td>1</td>\n      <td>NaN</td>\n      <td>127.496842</td>\n      <td>36.619253</td>\n    </tr>\n    <tr>\n      <th>4</th>\n      <td>22831290</td>\n      <td>공차</td>\n      <td>현대백화점충청점</td>\n      <td>Q</td>\n      <td>음식</td>\n      <td>Q12</td>\n      <td>커피점/카페</td>\n      <td>Q12A01</td>\n      <td>커피전문점/카페/다방</td>\n      <td>I56220</td>\n      <td>...</td>\n      <td>4311311400105840009000001</td>\n      <td>현대백화점</td>\n      <td>충청북도 청주시 흥덕구 직지대로 308</td>\n      <td>361270</td>\n      <td>28424.0</td>\n      <td>NaN</td>\n      <td>6</td>\n      <td>NaN</td>\n      <td>127.426554</td>\n      <td>36.644863</td>\n    </tr>\n    <tr>\n      <th>...</th>\n      <td>...</td>\n      <td>...</td>\n      <td>...</td>\n      <td>...</td>\n      <td>...</td>\n      <td>...</td>\n      <td>...</td>\n      <td>...</td>\n      <td>...</td>\n      <td>...</td>\n      <td>...</td>\n      <td>...</td>\n      <td>...</td>\n      <td>...</td>\n      <td>...</td>\n      <td>...</td>\n      <td>...</td>\n      <td>...</td>\n      <td>...</td>\n      <td>...</td>\n      <td>...</td>\n    </tr>\n    <tr>\n      <th>3519</th>\n      <td>25591809</td>\n      <td>칼디앤커피나무</td>\n      <td>NaN</td>\n      <td>Q</td>\n      <td>음식</td>\n      <td>Q12</td>\n      <td>커피점/카페</td>\n      <td>Q12A01</td>\n      <td>커피전문점/카페/다방</td>\n      <td>I56220</td>\n      <td>...</td>\n      <td>4311310800101620000000001</td>\n      <td>NaN</td>\n      <td>충청북도 청주시 서원구 1순환로 1090</td>\n      <td>362855</td>\n      <td>28802.0</td>\n      <td>NaN</td>\n      <td>1</td>\n      <td>NaN</td>\n      <td>127.487606</td>\n      <td>36.605920</td>\n    </tr>\n    <tr>\n      <th>3520</th>\n      <td>25600486</td>\n      <td>라미커피</td>\n      <td>NaN</td>\n      <td>Q</td>\n      <td>음식</td>\n      <td>Q12</td>\n      <td>커피점/카페</td>\n      <td>Q12A01</td>\n      <td>커피전문점/카페/다방</td>\n      <td>I56220</td>\n      <td>...</td>\n      <td>4311310600112480000023518</td>\n      <td>NaN</td>\n      <td>충청북도 청주시 서원구 산미로 146</td>\n      <td>362160</td>\n      <td>28635.0</td>\n      <td>NaN</td>\n      <td>1</td>\n      <td>NaN</td>\n      <td>127.476073</td>\n      <td>36.608916</td>\n    </tr>\n    <tr>\n      <th>3521</th>\n      <td>25884322</td>\n      <td>드롭탑청주다나여성병원점</td>\n      <td>청주다나여성병원점</td>\n      <td>Q</td>\n      <td>음식</td>\n      <td>Q12</td>\n      <td>커피점/카페</td>\n      <td>Q12A01</td>\n      <td>커피전문점/카페/다방</td>\n      <td>I56220</td>\n      <td>...</td>\n      <td>4311113200101710003000001</td>\n      <td>NaN</td>\n      <td>충청북도 청주시 청원구 충청대로 175</td>\n      <td>363568</td>\n      <td>28325.0</td>\n      <td>NaN</td>\n      <td>5</td>\n      <td>NaN</td>\n      <td>127.495750</td>\n      <td>36.671834</td>\n    </tr>\n    <tr>\n      <th>3522</th>\n      <td>26448354</td>\n      <td>커피와사람들</td>\n      <td>NaN</td>\n      <td>Q</td>\n      <td>음식</td>\n      <td>Q12</td>\n      <td>커피점/카페</td>\n      <td>Q12A01</td>\n      <td>커피전문점/카페/다방</td>\n      <td>I56220</td>\n      <td>...</td>\n      <td>4311112400120960000053454</td>\n      <td>용암3차현대아파트</td>\n      <td>충청북도 청주시 상당구 중흥로 70-1</td>\n      <td>360736</td>\n      <td>28774.0</td>\n      <td>303</td>\n      <td>1</td>\n      <td>NaN</td>\n      <td>127.504643</td>\n      <td>36.610976</td>\n    </tr>\n    <tr>\n      <th>3523</th>\n      <td>9181103</td>\n      <td>별빛다락</td>\n      <td>NaN</td>\n      <td>Q</td>\n      <td>음식</td>\n      <td>Q12</td>\n      <td>커피점/카페</td>\n      <td>Q12A01</td>\n      <td>커피전문점/카페/다방</td>\n      <td>I56220</td>\n      <td>...</td>\n      <td>4315011100100640041000001</td>\n      <td>NaN</td>\n      <td>충청북도 제천시 용두대로15가길 21</td>\n      <td>390240</td>\n      <td>27162.0</td>\n      <td>NaN</td>\n      <td>1</td>\n      <td>NaN</td>\n      <td>128.199955</td>\n      <td>37.141310</td>\n    </tr>\n  </tbody>\n</table>\n<p>3524 rows × 39 columns</p>\n</div>"
     },
     "execution_count": 51,
     "metadata": {},
     "output_type": "execute_result"
    }
   ],
   "source": [
    "df_coffee=temp_df.loc[temp_df.상권업종중분류명==\"커피점/카페\", :].reset_index(drop=True)\n",
    "\n",
    "del temp_df\n",
    "print(\"전국 커피 전문점 점포 수 :\", len(df_coffee))\n",
    "df_coffee"
   ],
   "metadata": {
    "collapsed": false,
    "pycharm": {
     "name": "#%%\n"
    }
   }
  },
  {
   "cell_type": "code",
   "execution_count": 52,
   "outputs": [
    {
     "name": "stdout",
     "output_type": "stream",
     "text": [
      "서울시 내 커피 전문점 점포 수 : 0\n"
     ]
    },
    {
     "data": {
      "text/plain": "Empty DataFrame\nColumns: [상가업소번호, 상호명, 지점명, 상권업종대분류코드, 상권업종대분류명, 상권업종중분류코드, 상권업종중분류명, 상권업종소분류코드, 상권업종소분류명, 표준산업분류코드, 표준산업분류명, 시도코드, 시도명, 시군구코드, 시군구명, 행정동코드, 행정동명, 법정동코드, 법정동명, 지번코드, 대지구분코드, 대지구분명, 지번본번지, 지번부번지, 지번주소, 도로명코드, 도로명, 건물본번지, 건물부번지, 건물관리번호, 건물명, 도로명주소, 구우편번호, 신우편번호, 동정보, 층정보, 호정보, 경도, 위도]\nIndex: []\n\n[0 rows x 39 columns]",
      "text/html": "<div>\n<style scoped>\n    .dataframe tbody tr th:only-of-type {\n        vertical-align: middle;\n    }\n\n    .dataframe tbody tr th {\n        vertical-align: top;\n    }\n\n    .dataframe thead th {\n        text-align: right;\n    }\n</style>\n<table border=\"1\" class=\"dataframe\">\n  <thead>\n    <tr style=\"text-align: right;\">\n      <th></th>\n      <th>상가업소번호</th>\n      <th>상호명</th>\n      <th>지점명</th>\n      <th>상권업종대분류코드</th>\n      <th>상권업종대분류명</th>\n      <th>상권업종중분류코드</th>\n      <th>상권업종중분류명</th>\n      <th>상권업종소분류코드</th>\n      <th>상권업종소분류명</th>\n      <th>표준산업분류코드</th>\n      <th>...</th>\n      <th>건물관리번호</th>\n      <th>건물명</th>\n      <th>도로명주소</th>\n      <th>구우편번호</th>\n      <th>신우편번호</th>\n      <th>동정보</th>\n      <th>층정보</th>\n      <th>호정보</th>\n      <th>경도</th>\n      <th>위도</th>\n    </tr>\n  </thead>\n  <tbody>\n  </tbody>\n</table>\n<p>0 rows × 39 columns</p>\n</div>"
     },
     "execution_count": 52,
     "metadata": {},
     "output_type": "execute_result"
    }
   ],
   "source": [
    "df_seoul_coffee=df_coffee.loc[df_coffee.시도명==\"서울특별시\", :]\n",
    "df_seoul_coffee.index=range(len(df_seoul_coffee))\n",
    "print('서울시 내 커피 전문점 점포 수 :', len(df_seoul_coffee))\n",
    "df_seoul_coffee.head(\n",
    "\n",
    ")"
   ],
   "metadata": {
    "collapsed": false,
    "pycharm": {
     "name": "#%%\n"
    }
   }
  },
  {
   "cell_type": "code",
   "execution_count": 53,
   "outputs": [
    {
     "data": {
      "text/plain": "array(['신도다실', '킴다방', 'Cafe4B스케치', '커피올', '공차', '한일다방', '셀리나', '향수다방',\n       '예촌카페', '어투썸플레이스', '별빛고운언덕팬션까폐', '영화플라워앤카페', '커피갤러리', '고추다방',\n       '신선다방', '청자다방', '중앙다방', '미연다방', '수나다방', '카페디딤', '스타벅스청주성화점',\n       '향미다방', '카페노리터충북대후문점', '보떼리아', '미스터커피', '산골쉼터', '마이커피', '카페케빈',\n       '빈스커피', '캡쳐커피', '캠브리지멤버스', '곰다방', 'RFC', 'CAFE203mini', '교차로다방',\n       '흙다실', '카페피노', '디온', '라비타', '할리스커피충북진천점', '연다방', '클렌첸카페', '갤러리카페',\n       '소정', '용다방', '날마다좋은날', '엔제리너스충북대점', '수선화', '카와올라', '크레이저커피',\n       '가베시광', '쉘터462', '코람데오', '이디야커피', '민들레', '스타벅스', '카페오감', '명다방',\n       '엔제리너스단양휴게소하점', '돈다방', '우리다방', '카페페이지', '커피333', '송다실', '투썸플레이스',\n       '뉴욕핫도그앤커피', '카페콩', '그림의집', '띠아모음성금왕점', '정다방', '천등다방', '영다방',\n       '스테이270', '엔제리너스', '베베카페', '우정다실', '들꽃풍경', '오드리헵번카페율량점', '대산카페',\n       '카페더블샷', '리버힐스카페', '다사면예술촌북카페', '은정다방', '테이블1101', '블레싱커피', '뉴셀',\n       '커피가있는풍경', '수마카롱', '디에떼에스프레소', '루틴759', 'VEROESPRESSO', '카페정모,정모',\n       '카페꼬레', '생클레어', '감곡베네치아', '팔공티', '엠브이피커피로스터스', '고울연',\n       '대청산업개발괴산양평휴게소엔제리너스', '꿈드래커피전문점'], dtype=object)"
     },
     "execution_count": 53,
     "metadata": {},
     "output_type": "execute_result"
    }
   ],
   "source": [
    "df_coffee.상호명.unique()[:100]\n"
   ],
   "metadata": {
    "collapsed": false,
    "pycharm": {
     "name": "#%%\n"
    }
   }
  },
  {
   "cell_type": "code",
   "execution_count": 55,
   "outputs": [
    {
     "name": "stdout",
     "output_type": "stream",
     "text": [
      "전국 스타벅스 점포 수:  30\n"
     ]
    },
    {
     "data": {
      "text/plain": "     상가업소번호          상호명      지점명 상권업종대분류코드 상권업종대분류명 상권업종중분류코드 상권업종중분류명  \\\n0  28524341    스타벅스청주성화점    청주성화점         Q       음식       Q12   커피점/카페   \n1  23277692         스타벅스    청주강서점         Q       음식       Q12   커피점/카페   \n2  12423113  스타벅스오창호수공원점  오창호수공원점         Q       음식       Q12   커피점/카페   \n3  25716616  스타벅스청주지웰시티점  청주지웰시티점         Q       음식       Q12   커피점/카페   \n4  20381764    스타벅스청주서문점    청주서문점         Q       음식       Q12   커피점/카페   \n\n  상권업종소분류코드     상권업종소분류명 표준산업분류코드  ...                     건물관리번호  \\\n0    Q12A01  커피전문점/카페/다방   I56220  ...  4311210900107020000000001   \n1    Q12A01  커피전문점/카페/다방   I56220  ...  4311311700104780000000001   \n2    Q12A01  커피전문점/카페/다방   I56220  ...  4311425345108200002000001   \n3    Q12A01  커피전문점/카페/다방   I56220  ...  4311311400105840001053436   \n4    Q12A01  커피전문점/카페/다방   I56220  ...  4311110900101500002047704   \n\n           건물명                       도로명주소   구우편번호    신우편번호  동정보 층정보  호정보  \\\n0          NaN          충청북도 청주시 서원구 복대로 5  362805  28612.0  NaN   1  NaN   \n1          NaN        충청북도 청주시 흥덕구 강서로 121  361872  28377.0  NaN   1  NaN   \n2          NaN  충청북도 청주시 청원구 오창읍 중심상업1로 20  363883  28120.0  NaN   1  NaN   \n3    지웰시티1차아파트         충청북도 청주시 흥덕구 대농로 17  361876  28424.0  NaN   1  NaN   \n4  (주)고려인삼한백식품   충청북도 청주시 상당구 무심동로392번길 20  360130  28528.0  NaN   1  NaN   \n\n           경도         위도  \n0  127.446063  36.617631  \n1  127.429617  36.625385  \n2  127.427720  36.712477  \n3  127.425105  36.642738  \n4  127.486002  36.635347  \n\n[5 rows x 39 columns]",
      "text/html": "<div>\n<style scoped>\n    .dataframe tbody tr th:only-of-type {\n        vertical-align: middle;\n    }\n\n    .dataframe tbody tr th {\n        vertical-align: top;\n    }\n\n    .dataframe thead th {\n        text-align: right;\n    }\n</style>\n<table border=\"1\" class=\"dataframe\">\n  <thead>\n    <tr style=\"text-align: right;\">\n      <th></th>\n      <th>상가업소번호</th>\n      <th>상호명</th>\n      <th>지점명</th>\n      <th>상권업종대분류코드</th>\n      <th>상권업종대분류명</th>\n      <th>상권업종중분류코드</th>\n      <th>상권업종중분류명</th>\n      <th>상권업종소분류코드</th>\n      <th>상권업종소분류명</th>\n      <th>표준산업분류코드</th>\n      <th>...</th>\n      <th>건물관리번호</th>\n      <th>건물명</th>\n      <th>도로명주소</th>\n      <th>구우편번호</th>\n      <th>신우편번호</th>\n      <th>동정보</th>\n      <th>층정보</th>\n      <th>호정보</th>\n      <th>경도</th>\n      <th>위도</th>\n    </tr>\n  </thead>\n  <tbody>\n    <tr>\n      <th>0</th>\n      <td>28524341</td>\n      <td>스타벅스청주성화점</td>\n      <td>청주성화점</td>\n      <td>Q</td>\n      <td>음식</td>\n      <td>Q12</td>\n      <td>커피점/카페</td>\n      <td>Q12A01</td>\n      <td>커피전문점/카페/다방</td>\n      <td>I56220</td>\n      <td>...</td>\n      <td>4311210900107020000000001</td>\n      <td>NaN</td>\n      <td>충청북도 청주시 서원구 복대로 5</td>\n      <td>362805</td>\n      <td>28612.0</td>\n      <td>NaN</td>\n      <td>1</td>\n      <td>NaN</td>\n      <td>127.446063</td>\n      <td>36.617631</td>\n    </tr>\n    <tr>\n      <th>1</th>\n      <td>23277692</td>\n      <td>스타벅스</td>\n      <td>청주강서점</td>\n      <td>Q</td>\n      <td>음식</td>\n      <td>Q12</td>\n      <td>커피점/카페</td>\n      <td>Q12A01</td>\n      <td>커피전문점/카페/다방</td>\n      <td>I56220</td>\n      <td>...</td>\n      <td>4311311700104780000000001</td>\n      <td>NaN</td>\n      <td>충청북도 청주시 흥덕구 강서로 121</td>\n      <td>361872</td>\n      <td>28377.0</td>\n      <td>NaN</td>\n      <td>1</td>\n      <td>NaN</td>\n      <td>127.429617</td>\n      <td>36.625385</td>\n    </tr>\n    <tr>\n      <th>2</th>\n      <td>12423113</td>\n      <td>스타벅스오창호수공원점</td>\n      <td>오창호수공원점</td>\n      <td>Q</td>\n      <td>음식</td>\n      <td>Q12</td>\n      <td>커피점/카페</td>\n      <td>Q12A01</td>\n      <td>커피전문점/카페/다방</td>\n      <td>I56220</td>\n      <td>...</td>\n      <td>4311425345108200002000001</td>\n      <td>NaN</td>\n      <td>충청북도 청주시 청원구 오창읍 중심상업1로 20</td>\n      <td>363883</td>\n      <td>28120.0</td>\n      <td>NaN</td>\n      <td>1</td>\n      <td>NaN</td>\n      <td>127.427720</td>\n      <td>36.712477</td>\n    </tr>\n    <tr>\n      <th>3</th>\n      <td>25716616</td>\n      <td>스타벅스청주지웰시티점</td>\n      <td>청주지웰시티점</td>\n      <td>Q</td>\n      <td>음식</td>\n      <td>Q12</td>\n      <td>커피점/카페</td>\n      <td>Q12A01</td>\n      <td>커피전문점/카페/다방</td>\n      <td>I56220</td>\n      <td>...</td>\n      <td>4311311400105840001053436</td>\n      <td>지웰시티1차아파트</td>\n      <td>충청북도 청주시 흥덕구 대농로 17</td>\n      <td>361876</td>\n      <td>28424.0</td>\n      <td>NaN</td>\n      <td>1</td>\n      <td>NaN</td>\n      <td>127.425105</td>\n      <td>36.642738</td>\n    </tr>\n    <tr>\n      <th>4</th>\n      <td>20381764</td>\n      <td>스타벅스청주서문점</td>\n      <td>청주서문점</td>\n      <td>Q</td>\n      <td>음식</td>\n      <td>Q12</td>\n      <td>커피점/카페</td>\n      <td>Q12A01</td>\n      <td>커피전문점/카페/다방</td>\n      <td>I56220</td>\n      <td>...</td>\n      <td>4311110900101500002047704</td>\n      <td>(주)고려인삼한백식품</td>\n      <td>충청북도 청주시 상당구 무심동로392번길 20</td>\n      <td>360130</td>\n      <td>28528.0</td>\n      <td>NaN</td>\n      <td>1</td>\n      <td>NaN</td>\n      <td>127.486002</td>\n      <td>36.635347</td>\n    </tr>\n  </tbody>\n</table>\n<p>5 rows × 39 columns</p>\n</div>"
     },
     "execution_count": 55,
     "metadata": {},
     "output_type": "execute_result"
    }
   ],
   "source": [
    "df_starbucks=df_coffee[df_coffee.상호명.str.contains(\"스타벅스\")]\n",
    "df_starbucks.index=range(len(df_starbucks))\n",
    "print('전국 스타벅스 점포 수: ', len(df_starbucks))\n",
    "df_starbucks.head(5)"
   ],
   "metadata": {
    "collapsed": false,
    "pycharm": {
     "name": "#%%\n"
    }
   }
  },
  {
   "cell_type": "code",
   "execution_count": 55,
   "outputs": [],
   "source": [
    "df_seoul_starbucks=df_starbucks.loc[df_starbucks]"
   ],
   "metadata": {
    "collapsed": false,
    "pycharm": {
     "name": "#%%\n"
    }
   }
  },
  {
   "cell_type": "code",
   "execution_count": null,
   "outputs": [],
   "source": [],
   "metadata": {
    "collapsed": false,
    "pycharm": {
     "name": "#%%\n"
    }
   }
  }
 ],
 "metadata": {
  "kernelspec": {
   "display_name": "Python 3",
   "language": "python",
   "name": "python3"
  },
  "language_info": {
   "codemirror_mode": {
    "name": "ipython",
    "version": 2
   },
   "file_extension": ".py",
   "mimetype": "text/x-python",
   "name": "python",
   "nbconvert_exporter": "python",
   "pygments_lexer": "ipython2",
   "version": "2.7.6"
  }
 },
 "nbformat": 4,
 "nbformat_minor": 0
}