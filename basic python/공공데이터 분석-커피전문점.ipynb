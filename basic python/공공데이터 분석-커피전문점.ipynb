{
 "cells": [
  {
   "cell_type": "code",
   "execution_count": 16,
   "metadata": {
    "collapsed": true
   },
   "outputs": [],
   "source": [
    "import numpy as np\n",
    "import pandas as pd\n",
    "import matplotlib.pyplot as plt\n",
    "import seaborn as sns\n",
    "\n",
    "from glob import glob\n",
    "import os"
   ]
  },
  {
   "cell_type": "code",
   "execution_count": 17,
   "outputs": [
    {
     "data": {
      "text/plain": "          상가업소번호         상호명    지점명 상권업종대분류코드 상권업종대분류명 상권업종중분류코드   상권업종중분류명  \\\n0       23324279       제중건강원    NaN         D       소매       D10    건강/미용식품   \n1       24525909       민속악기사    NaN         D       소매       D04  취미/오락관련소매   \n2       24715368       태평양진주    NaN         D       소매       D26   시계/귀금속소매   \n3       15554136  김선희꼼꼼국어교습소    NaN         R    학문/교육       R01  학원-보습교습입시   \n4       17174175         비지트    NaN         Q       음식       Q01         한식   \n...          ...         ...    ...       ...      ...       ...        ...   \n330822   9032765    글로리아진스커피    NaN         Q       음식       Q12     커피점/카페   \n330823   9093595          김밥    NaN         Q       음식       Q04         분식   \n330824   9099241  더페이스샵아차산역점  아차산역점         D       소매       D16      화장품소매   \n330825   9160309     CU자곡현대점  자곡현대점         D       소매       D03      종합소매점   \n330826   9173533      EYAGI2    NaN         Q       음식       Q01         한식   \n\n       상권업종소분류코드     상권업종소분류명 표준산업분류코드  ...                     건물관리번호  \\\n0         D10A07          건강원   G47216  ...  1156010600100410002034626   \n1         D04A09         악기판매   G47593  ...  1120012200101420011000227   \n2         D26A01       시계/귀금속   G47830  ...  1111015200100440000000001   \n3         R01A01        학원-입시   P85501  ...  1171011100101970003017195   \n4         Q01A01    한식/백반/한정식   I56111  ...  1165010100108540018009586   \n...          ...          ...      ...  ...                        ...   \n330822    Q12A01  커피전문점/카페/다방   I56220  ...  1165010300106860000000001   \n330823    Q04A01       라면김밥분식   I56194  ...  1171010800104090003000001   \n330824    D16A01       화장품판매점   G47813  ...  1121510200102400029005869   \n330825    D03A01          편의점   G47122  ...  1168011200103950004000001   \n330826    Q01A01    한식/백반/한정식   I56111  ...  1165010300106860000000001   \n\n             건물명                    도로명주소   구우편번호   신우편번호  동정보  층정보  호정보  \\\n0            NaN  서울특별시 영등포구 영중로14길 11-17  150035  7250.0  NaN    1  NaN   \n1            NaN         서울특별시 성동구 용답5길 2  133849  4803.0  NaN  NaN  NaN   \n2         금사랑투빌딩     서울특별시 종로구 서순라길 17-10  110390  3138.0  NaN  NaN  NaN   \n3            NaN    서울특별시 송파구 위례성대로12길 31  138834  5640.0  NaN    2  NaN   \n4          상랑의빌딩      서울특별시 서초구 동광로18길 82  137837  6572.0  NaN    1  NaN   \n...          ...                      ...     ...     ...  ...  ...  ...   \n330822    삼성프라자1        서울특별시 서초구 성촌1길 26  137901  6765.0  NaN    2  NaN   \n330823    가든파이브툴         서울특별시 송파구 충민로 10  138200  5840.0  NaN    1  NaN   \n330824     아성빌라트   서울특별시 광진구 능동로32길 82-58  143849  4988.0  NaN    1  NaN   \n330825  강남유탑유블레스        서울특별시 강남구 자곡로 180  135200  6373.0  NaN    1  NaN   \n330826    삼성프라자1        서울특별시 서초구 성촌1길 26  137901  6765.0  NaN    1  NaN   \n\n                경도         위도  \n0       126.907168  37.520613  \n1       127.049018  37.566857  \n2       126.993530  37.571848  \n3       127.121520  37.510967  \n4       126.991394  37.488375  \n...            ...        ...  \n330822  127.021354  37.465397  \n330823  127.119371  37.478261  \n330824  127.082117  37.552990  \n330825  127.103347  37.473707  \n330826  127.021354  37.465397  \n\n[330827 rows x 39 columns]",
      "text/html": "<div>\n<style scoped>\n    .dataframe tbody tr th:only-of-type {\n        vertical-align: middle;\n    }\n\n    .dataframe tbody tr th {\n        vertical-align: top;\n    }\n\n    .dataframe thead th {\n        text-align: right;\n    }\n</style>\n<table border=\"1\" class=\"dataframe\">\n  <thead>\n    <tr style=\"text-align: right;\">\n      <th></th>\n      <th>상가업소번호</th>\n      <th>상호명</th>\n      <th>지점명</th>\n      <th>상권업종대분류코드</th>\n      <th>상권업종대분류명</th>\n      <th>상권업종중분류코드</th>\n      <th>상권업종중분류명</th>\n      <th>상권업종소분류코드</th>\n      <th>상권업종소분류명</th>\n      <th>표준산업분류코드</th>\n      <th>...</th>\n      <th>건물관리번호</th>\n      <th>건물명</th>\n      <th>도로명주소</th>\n      <th>구우편번호</th>\n      <th>신우편번호</th>\n      <th>동정보</th>\n      <th>층정보</th>\n      <th>호정보</th>\n      <th>경도</th>\n      <th>위도</th>\n    </tr>\n  </thead>\n  <tbody>\n    <tr>\n      <th>0</th>\n      <td>23324279</td>\n      <td>제중건강원</td>\n      <td>NaN</td>\n      <td>D</td>\n      <td>소매</td>\n      <td>D10</td>\n      <td>건강/미용식품</td>\n      <td>D10A07</td>\n      <td>건강원</td>\n      <td>G47216</td>\n      <td>...</td>\n      <td>1156010600100410002034626</td>\n      <td>NaN</td>\n      <td>서울특별시 영등포구 영중로14길 11-17</td>\n      <td>150035</td>\n      <td>7250.0</td>\n      <td>NaN</td>\n      <td>1</td>\n      <td>NaN</td>\n      <td>126.907168</td>\n      <td>37.520613</td>\n    </tr>\n    <tr>\n      <th>1</th>\n      <td>24525909</td>\n      <td>민속악기사</td>\n      <td>NaN</td>\n      <td>D</td>\n      <td>소매</td>\n      <td>D04</td>\n      <td>취미/오락관련소매</td>\n      <td>D04A09</td>\n      <td>악기판매</td>\n      <td>G47593</td>\n      <td>...</td>\n      <td>1120012200101420011000227</td>\n      <td>NaN</td>\n      <td>서울특별시 성동구 용답5길 2</td>\n      <td>133849</td>\n      <td>4803.0</td>\n      <td>NaN</td>\n      <td>NaN</td>\n      <td>NaN</td>\n      <td>127.049018</td>\n      <td>37.566857</td>\n    </tr>\n    <tr>\n      <th>2</th>\n      <td>24715368</td>\n      <td>태평양진주</td>\n      <td>NaN</td>\n      <td>D</td>\n      <td>소매</td>\n      <td>D26</td>\n      <td>시계/귀금속소매</td>\n      <td>D26A01</td>\n      <td>시계/귀금속</td>\n      <td>G47830</td>\n      <td>...</td>\n      <td>1111015200100440000000001</td>\n      <td>금사랑투빌딩</td>\n      <td>서울특별시 종로구 서순라길 17-10</td>\n      <td>110390</td>\n      <td>3138.0</td>\n      <td>NaN</td>\n      <td>NaN</td>\n      <td>NaN</td>\n      <td>126.993530</td>\n      <td>37.571848</td>\n    </tr>\n    <tr>\n      <th>3</th>\n      <td>15554136</td>\n      <td>김선희꼼꼼국어교습소</td>\n      <td>NaN</td>\n      <td>R</td>\n      <td>학문/교육</td>\n      <td>R01</td>\n      <td>학원-보습교습입시</td>\n      <td>R01A01</td>\n      <td>학원-입시</td>\n      <td>P85501</td>\n      <td>...</td>\n      <td>1171011100101970003017195</td>\n      <td>NaN</td>\n      <td>서울특별시 송파구 위례성대로12길 31</td>\n      <td>138834</td>\n      <td>5640.0</td>\n      <td>NaN</td>\n      <td>2</td>\n      <td>NaN</td>\n      <td>127.121520</td>\n      <td>37.510967</td>\n    </tr>\n    <tr>\n      <th>4</th>\n      <td>17174175</td>\n      <td>비지트</td>\n      <td>NaN</td>\n      <td>Q</td>\n      <td>음식</td>\n      <td>Q01</td>\n      <td>한식</td>\n      <td>Q01A01</td>\n      <td>한식/백반/한정식</td>\n      <td>I56111</td>\n      <td>...</td>\n      <td>1165010100108540018009586</td>\n      <td>상랑의빌딩</td>\n      <td>서울특별시 서초구 동광로18길 82</td>\n      <td>137837</td>\n      <td>6572.0</td>\n      <td>NaN</td>\n      <td>1</td>\n      <td>NaN</td>\n      <td>126.991394</td>\n      <td>37.488375</td>\n    </tr>\n    <tr>\n      <th>...</th>\n      <td>...</td>\n      <td>...</td>\n      <td>...</td>\n      <td>...</td>\n      <td>...</td>\n      <td>...</td>\n      <td>...</td>\n      <td>...</td>\n      <td>...</td>\n      <td>...</td>\n      <td>...</td>\n      <td>...</td>\n      <td>...</td>\n      <td>...</td>\n      <td>...</td>\n      <td>...</td>\n      <td>...</td>\n      <td>...</td>\n      <td>...</td>\n      <td>...</td>\n      <td>...</td>\n    </tr>\n    <tr>\n      <th>330822</th>\n      <td>9032765</td>\n      <td>글로리아진스커피</td>\n      <td>NaN</td>\n      <td>Q</td>\n      <td>음식</td>\n      <td>Q12</td>\n      <td>커피점/카페</td>\n      <td>Q12A01</td>\n      <td>커피전문점/카페/다방</td>\n      <td>I56220</td>\n      <td>...</td>\n      <td>1165010300106860000000001</td>\n      <td>삼성프라자1</td>\n      <td>서울특별시 서초구 성촌1길 26</td>\n      <td>137901</td>\n      <td>6765.0</td>\n      <td>NaN</td>\n      <td>2</td>\n      <td>NaN</td>\n      <td>127.021354</td>\n      <td>37.465397</td>\n    </tr>\n    <tr>\n      <th>330823</th>\n      <td>9093595</td>\n      <td>김밥</td>\n      <td>NaN</td>\n      <td>Q</td>\n      <td>음식</td>\n      <td>Q04</td>\n      <td>분식</td>\n      <td>Q04A01</td>\n      <td>라면김밥분식</td>\n      <td>I56194</td>\n      <td>...</td>\n      <td>1171010800104090003000001</td>\n      <td>가든파이브툴</td>\n      <td>서울특별시 송파구 충민로 10</td>\n      <td>138200</td>\n      <td>5840.0</td>\n      <td>NaN</td>\n      <td>1</td>\n      <td>NaN</td>\n      <td>127.119371</td>\n      <td>37.478261</td>\n    </tr>\n    <tr>\n      <th>330824</th>\n      <td>9099241</td>\n      <td>더페이스샵아차산역점</td>\n      <td>아차산역점</td>\n      <td>D</td>\n      <td>소매</td>\n      <td>D16</td>\n      <td>화장품소매</td>\n      <td>D16A01</td>\n      <td>화장품판매점</td>\n      <td>G47813</td>\n      <td>...</td>\n      <td>1121510200102400029005869</td>\n      <td>아성빌라트</td>\n      <td>서울특별시 광진구 능동로32길 82-58</td>\n      <td>143849</td>\n      <td>4988.0</td>\n      <td>NaN</td>\n      <td>1</td>\n      <td>NaN</td>\n      <td>127.082117</td>\n      <td>37.552990</td>\n    </tr>\n    <tr>\n      <th>330825</th>\n      <td>9160309</td>\n      <td>CU자곡현대점</td>\n      <td>자곡현대점</td>\n      <td>D</td>\n      <td>소매</td>\n      <td>D03</td>\n      <td>종합소매점</td>\n      <td>D03A01</td>\n      <td>편의점</td>\n      <td>G47122</td>\n      <td>...</td>\n      <td>1168011200103950004000001</td>\n      <td>강남유탑유블레스</td>\n      <td>서울특별시 강남구 자곡로 180</td>\n      <td>135200</td>\n      <td>6373.0</td>\n      <td>NaN</td>\n      <td>1</td>\n      <td>NaN</td>\n      <td>127.103347</td>\n      <td>37.473707</td>\n    </tr>\n    <tr>\n      <th>330826</th>\n      <td>9173533</td>\n      <td>EYAGI2</td>\n      <td>NaN</td>\n      <td>Q</td>\n      <td>음식</td>\n      <td>Q01</td>\n      <td>한식</td>\n      <td>Q01A01</td>\n      <td>한식/백반/한정식</td>\n      <td>I56111</td>\n      <td>...</td>\n      <td>1165010300106860000000001</td>\n      <td>삼성프라자1</td>\n      <td>서울특별시 서초구 성촌1길 26</td>\n      <td>137901</td>\n      <td>6765.0</td>\n      <td>NaN</td>\n      <td>1</td>\n      <td>NaN</td>\n      <td>127.021354</td>\n      <td>37.465397</td>\n    </tr>\n  </tbody>\n</table>\n<p>330827 rows × 39 columns</p>\n</div>"
     },
     "execution_count": 17,
     "metadata": {},
     "output_type": "execute_result"
    }
   ],
   "source": [
    "seoul=pd.read_csv('../data/소상공인/소상공인시장진흥공단_상가(상권)정보_서울_202203.csv')\n",
    "seoul"
   ],
   "metadata": {
    "collapsed": false,
    "pycharm": {
     "name": "#%%\n"
    }
   }
  },
  {
   "cell_type": "code",
   "execution_count": 18,
   "outputs": [
    {
     "ename": "ValueError",
     "evalue": "Invalid file path or buffer object type: <class 'list'>",
     "output_type": "error",
     "traceback": [
      "\u001B[1;31m---------------------------------------------------------------------------\u001B[0m",
      "\u001B[1;31mValueError\u001B[0m                                Traceback (most recent call last)",
      "Input \u001B[1;32mIn [18]\u001B[0m, in \u001B[0;36m<cell line: 3>\u001B[1;34m()\u001B[0m\n\u001B[0;32m      1\u001B[0m file_names\u001B[38;5;241m=\u001B[39mglob(\u001B[38;5;124m'\u001B[39m\u001B[38;5;124m../data/소상공인/*.csv\u001B[39m\u001B[38;5;124m'\u001B[39m)\n\u001B[0;32m      2\u001B[0m total_df\u001B[38;5;241m=\u001B[39mpd\u001B[38;5;241m.\u001B[39mDataFrame()\n\u001B[1;32m----> 3\u001B[0m temp_df\u001B[38;5;241m=\u001B[39m\u001B[43mpd\u001B[49m\u001B[38;5;241;43m.\u001B[39;49m\u001B[43mread_csv\u001B[49m\u001B[43m(\u001B[49m\u001B[43mfile_names\u001B[49m\u001B[43m)\u001B[49m\n\u001B[0;32m      4\u001B[0m total_df\u001B[38;5;241m=\u001B[39mpd\u001B[38;5;241m.\u001B[39mconcat([total_df, temp_df])\n\u001B[0;32m      6\u001B[0m total_df\u001B[38;5;241m=\u001B[39mtotal_df\u001B[38;5;241m.\u001B[39mreset_index(drop\u001B[38;5;241m=\u001B[39m\u001B[38;5;28;01mTrue\u001B[39;00m)\n",
      "File \u001B[1;32mc:\\users\\jpc10\\ideaprojects\\untitled\\venv\\lib\\site-packages\\pandas\\util\\_decorators.py:311\u001B[0m, in \u001B[0;36mdeprecate_nonkeyword_arguments.<locals>.decorate.<locals>.wrapper\u001B[1;34m(*args, **kwargs)\u001B[0m\n\u001B[0;32m    305\u001B[0m \u001B[38;5;28;01mif\u001B[39;00m \u001B[38;5;28mlen\u001B[39m(args) \u001B[38;5;241m>\u001B[39m num_allow_args:\n\u001B[0;32m    306\u001B[0m     warnings\u001B[38;5;241m.\u001B[39mwarn(\n\u001B[0;32m    307\u001B[0m         msg\u001B[38;5;241m.\u001B[39mformat(arguments\u001B[38;5;241m=\u001B[39marguments),\n\u001B[0;32m    308\u001B[0m         \u001B[38;5;167;01mFutureWarning\u001B[39;00m,\n\u001B[0;32m    309\u001B[0m         stacklevel\u001B[38;5;241m=\u001B[39mstacklevel,\n\u001B[0;32m    310\u001B[0m     )\n\u001B[1;32m--> 311\u001B[0m \u001B[38;5;28;01mreturn\u001B[39;00m func(\u001B[38;5;241m*\u001B[39margs, \u001B[38;5;241m*\u001B[39m\u001B[38;5;241m*\u001B[39mkwargs)\n",
      "File \u001B[1;32mc:\\users\\jpc10\\ideaprojects\\untitled\\venv\\lib\\site-packages\\pandas\\io\\parsers\\readers.py:680\u001B[0m, in \u001B[0;36mread_csv\u001B[1;34m(filepath_or_buffer, sep, delimiter, header, names, index_col, usecols, squeeze, prefix, mangle_dupe_cols, dtype, engine, converters, true_values, false_values, skipinitialspace, skiprows, skipfooter, nrows, na_values, keep_default_na, na_filter, verbose, skip_blank_lines, parse_dates, infer_datetime_format, keep_date_col, date_parser, dayfirst, cache_dates, iterator, chunksize, compression, thousands, decimal, lineterminator, quotechar, quoting, doublequote, escapechar, comment, encoding, encoding_errors, dialect, error_bad_lines, warn_bad_lines, on_bad_lines, delim_whitespace, low_memory, memory_map, float_precision, storage_options)\u001B[0m\n\u001B[0;32m    665\u001B[0m kwds_defaults \u001B[38;5;241m=\u001B[39m _refine_defaults_read(\n\u001B[0;32m    666\u001B[0m     dialect,\n\u001B[0;32m    667\u001B[0m     delimiter,\n\u001B[1;32m   (...)\u001B[0m\n\u001B[0;32m    676\u001B[0m     defaults\u001B[38;5;241m=\u001B[39m{\u001B[38;5;124m\"\u001B[39m\u001B[38;5;124mdelimiter\u001B[39m\u001B[38;5;124m\"\u001B[39m: \u001B[38;5;124m\"\u001B[39m\u001B[38;5;124m,\u001B[39m\u001B[38;5;124m\"\u001B[39m},\n\u001B[0;32m    677\u001B[0m )\n\u001B[0;32m    678\u001B[0m kwds\u001B[38;5;241m.\u001B[39mupdate(kwds_defaults)\n\u001B[1;32m--> 680\u001B[0m \u001B[38;5;28;01mreturn\u001B[39;00m \u001B[43m_read\u001B[49m\u001B[43m(\u001B[49m\u001B[43mfilepath_or_buffer\u001B[49m\u001B[43m,\u001B[49m\u001B[43m \u001B[49m\u001B[43mkwds\u001B[49m\u001B[43m)\u001B[49m\n",
      "File \u001B[1;32mc:\\users\\jpc10\\ideaprojects\\untitled\\venv\\lib\\site-packages\\pandas\\io\\parsers\\readers.py:575\u001B[0m, in \u001B[0;36m_read\u001B[1;34m(filepath_or_buffer, kwds)\u001B[0m\n\u001B[0;32m    572\u001B[0m _validate_names(kwds\u001B[38;5;241m.\u001B[39mget(\u001B[38;5;124m\"\u001B[39m\u001B[38;5;124mnames\u001B[39m\u001B[38;5;124m\"\u001B[39m, \u001B[38;5;28;01mNone\u001B[39;00m))\n\u001B[0;32m    574\u001B[0m \u001B[38;5;66;03m# Create the parser.\u001B[39;00m\n\u001B[1;32m--> 575\u001B[0m parser \u001B[38;5;241m=\u001B[39m TextFileReader(filepath_or_buffer, \u001B[38;5;241m*\u001B[39m\u001B[38;5;241m*\u001B[39mkwds)\n\u001B[0;32m    577\u001B[0m \u001B[38;5;28;01mif\u001B[39;00m chunksize \u001B[38;5;129;01mor\u001B[39;00m iterator:\n\u001B[0;32m    578\u001B[0m     \u001B[38;5;28;01mreturn\u001B[39;00m parser\n",
      "File \u001B[1;32mc:\\users\\jpc10\\ideaprojects\\untitled\\venv\\lib\\site-packages\\pandas\\io\\parsers\\readers.py:933\u001B[0m, in \u001B[0;36mTextFileReader.__init__\u001B[1;34m(self, f, engine, **kwds)\u001B[0m\n\u001B[0;32m    930\u001B[0m     \u001B[38;5;28mself\u001B[39m\u001B[38;5;241m.\u001B[39moptions[\u001B[38;5;124m\"\u001B[39m\u001B[38;5;124mhas_index_names\u001B[39m\u001B[38;5;124m\"\u001B[39m] \u001B[38;5;241m=\u001B[39m kwds[\u001B[38;5;124m\"\u001B[39m\u001B[38;5;124mhas_index_names\u001B[39m\u001B[38;5;124m\"\u001B[39m]\n\u001B[0;32m    932\u001B[0m \u001B[38;5;28mself\u001B[39m\u001B[38;5;241m.\u001B[39mhandles: IOHandles \u001B[38;5;241m|\u001B[39m \u001B[38;5;28;01mNone\u001B[39;00m \u001B[38;5;241m=\u001B[39m \u001B[38;5;28;01mNone\u001B[39;00m\n\u001B[1;32m--> 933\u001B[0m \u001B[38;5;28mself\u001B[39m\u001B[38;5;241m.\u001B[39m_engine \u001B[38;5;241m=\u001B[39m \u001B[38;5;28;43mself\u001B[39;49m\u001B[38;5;241;43m.\u001B[39;49m\u001B[43m_make_engine\u001B[49m\u001B[43m(\u001B[49m\u001B[43mf\u001B[49m\u001B[43m,\u001B[49m\u001B[43m \u001B[49m\u001B[38;5;28;43mself\u001B[39;49m\u001B[38;5;241;43m.\u001B[39;49m\u001B[43mengine\u001B[49m\u001B[43m)\u001B[49m\n",
      "File \u001B[1;32mc:\\users\\jpc10\\ideaprojects\\untitled\\venv\\lib\\site-packages\\pandas\\io\\parsers\\readers.py:1232\u001B[0m, in \u001B[0;36mTextFileReader._make_engine\u001B[1;34m(self, f, engine)\u001B[0m\n\u001B[0;32m   1230\u001B[0m \u001B[38;5;28;01melif\u001B[39;00m engine \u001B[38;5;241m!=\u001B[39m \u001B[38;5;124m\"\u001B[39m\u001B[38;5;124mpython\u001B[39m\u001B[38;5;124m\"\u001B[39m:\n\u001B[0;32m   1231\u001B[0m     msg \u001B[38;5;241m=\u001B[39m \u001B[38;5;124mf\u001B[39m\u001B[38;5;124m\"\u001B[39m\u001B[38;5;124mInvalid file path or buffer object type: \u001B[39m\u001B[38;5;132;01m{\u001B[39;00m\u001B[38;5;28mtype\u001B[39m(f)\u001B[38;5;132;01m}\u001B[39;00m\u001B[38;5;124m\"\u001B[39m\n\u001B[1;32m-> 1232\u001B[0m     \u001B[38;5;28;01mraise\u001B[39;00m \u001B[38;5;167;01mValueError\u001B[39;00m(msg)\n\u001B[0;32m   1234\u001B[0m \u001B[38;5;28;01mtry\u001B[39;00m:\n\u001B[0;32m   1235\u001B[0m     \u001B[38;5;28;01mreturn\u001B[39;00m mapping[engine](f, \u001B[38;5;241m*\u001B[39m\u001B[38;5;241m*\u001B[39m\u001B[38;5;28mself\u001B[39m\u001B[38;5;241m.\u001B[39moptions)\n",
      "\u001B[1;31mValueError\u001B[0m: Invalid file path or buffer object type: <class 'list'>"
     ]
    }
   ],
   "source": [
    "file_names=glob('../data/소상공인/*.csv')\n",
    "total_df=pd.DataFrame()\n",
    "temp_df=pd.read_csv(file_names)\n",
    "total_df=pd.concat([total_df, temp_df])\n",
    "\n",
    "total_df=total_df.reset_index(drop=True)"
   ],
   "metadata": {
    "collapsed": false,
    "pycharm": {
     "name": "#%%\n"
    }
   }
  },
  {
   "cell_type": "code",
   "execution_count": null,
   "outputs": [],
   "source": [
    "total_df.columns"
   ],
   "metadata": {
    "collapsed": false,
    "pycharm": {
     "name": "#%%\n"
    }
   }
  },
  {
   "cell_type": "code",
   "execution_count": null,
   "outputs": [],
   "source": [
    "total_df.head(10)"
   ],
   "metadata": {
    "collapsed": false,
    "pycharm": {
     "name": "#%%\n"
    }
   }
  },
  {
   "cell_type": "code",
   "execution_count": null,
   "outputs": [],
   "source": [
    "total_df.상권업종소분류명.unique()\n",
    "total_df.columns # 상권업종중분류명, 상호명, 시도명"
   ],
   "metadata": {
    "collapsed": false,
    "pycharm": {
     "name": "#%%\n"
    }
   }
  },
  {
   "cell_type": "code",
   "execution_count": null,
   "outputs": [],
   "source": [
    "total_df.info()"
   ],
   "metadata": {
    "collapsed": false,
    "pycharm": {
     "name": "#%%\n"
    }
   }
  },
  {
   "cell_type": "code",
   "execution_count": null,
   "outputs": [],
   "source": [
    "coffee_df=total_df[[\"상권업종중분류명\", \"상호명\", '시도명']]\n",
    "coffee_df"
   ],
   "metadata": {
    "collapsed": false,
    "pycharm": {
     "name": "#%%\n"
    }
   }
  },
  {
   "cell_type": "code",
   "execution_count": null,
   "outputs": [],
   "source": [
    "temp_df"
   ],
   "metadata": {
    "collapsed": false,
    "pycharm": {
     "name": "#%%\n"
    }
   }
  },
  {
   "cell_type": "code",
   "execution_count": null,
   "outputs": [],
   "source": [
    "df_coffee=temp_df.loc[temp_df.상권업종중분류명==\"커피점/카페\", :].reset_index(drop=True)\n",
    "\n",
    "del temp_df\n",
    "print(\"전국 커피 전문점 점포 수 :\", len(df_coffee))\n",
    "df_coffee"
   ],
   "metadata": {
    "collapsed": false,
    "pycharm": {
     "name": "#%%\n"
    }
   }
  },
  {
   "cell_type": "code",
   "execution_count": null,
   "outputs": [],
   "source": [
    "df_seoul_coffee=df_coffee.loc[df_coffee.시도명==\"서울특별시\", :]\n",
    "df_seoul_coffee.index=range(len(df_seoul_coffee))\n",
    "print('서울시 내 커피 전문점 점포 수 :', len(df_seoul_coffee))\n",
    "df_seoul_coffee.head()"
   ],
   "metadata": {
    "collapsed": false,
    "pycharm": {
     "name": "#%%\n"
    }
   }
  },
  {
   "cell_type": "code",
   "execution_count": null,
   "outputs": [],
   "source": [
    "df_coffee.상호명.unique()[:100]"
   ],
   "metadata": {
    "collapsed": false,
    "pycharm": {
     "name": "#%%\n"
    }
   }
  },
  {
   "cell_type": "code",
   "execution_count": null,
   "outputs": [],
   "source": [
    "df_starbucks=df_coffee[df_coffee.상호명.str.contains(\"스타벅스\")]\n",
    "df_starbucks.index=range(len(df_starbucks))\n",
    "print('전국 스타벅스 점포 수: ', len(df_starbucks))\n",
    "df_starbucks.head(5)"
   ],
   "metadata": {
    "collapsed": false,
    "pycharm": {
     "name": "#%%\n"
    }
   }
  },
  {
   "cell_type": "code",
   "execution_count": null,
   "outputs": [],
   "source": [
    "df_seoul_starbucks=df_starbucks.loc[df_starbucks]"
   ],
   "metadata": {
    "collapsed": false,
    "pycharm": {
     "name": "#%%\n"
    }
   }
  },
  {
   "cell_type": "code",
   "execution_count": null,
   "outputs": [],
   "source": [],
   "metadata": {
    "collapsed": false,
    "pycharm": {
     "name": "#%%\n"
    }
   }
  }
 ],
 "metadata": {
  "kernelspec": {
   "display_name": "Python 3",
   "language": "python",
   "name": "python3"
  },
  "language_info": {
   "codemirror_mode": {
    "name": "ipython",
    "version": 2
   },
   "file_extension": ".py",
   "mimetype": "text/x-python",
   "name": "python",
   "nbconvert_exporter": "python",
   "pygments_lexer": "ipython2",
   "version": "2.7.6"
  }
 },
 "nbformat": 4,
 "nbformat_minor": 0
}